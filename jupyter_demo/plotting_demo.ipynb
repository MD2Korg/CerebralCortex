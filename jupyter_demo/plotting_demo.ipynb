{
 "cells": [
  {
   "cell_type": "markdown",
   "metadata": {},
   "source": [
    "# Visualizing Stress Data\n",
    "Cerebral Cortex contains a number of built-in visualization capabilities. This demonstration page will take you through some examples based on typical stress data from mCerebrum and Cerebral Cortex algorithms.\n"
   ]
  },
  {
   "cell_type": "markdown",
   "metadata": {},
   "source": [
    "## Initialize the system"
   ]
  },
  {
   "cell_type": "code",
   "execution_count": 1,
   "metadata": {},
   "outputs": [
    {
     "data": {
      "text/html": [
       "        <script type=\"text/javascript\">\n",
       "        window.PlotlyConfig = {MathJaxConfig: 'local'};\n",
       "        if (window.MathJax) {MathJax.Hub.Config({SVG: {font: \"STIX-Web\"}});}\n",
       "        if (typeof require !== 'undefined') {\n",
       "        require.undef(\"plotly\");\n",
       "        requirejs.config({\n",
       "            paths: {\n",
       "                'plotly': ['https://cdn.plot.ly/plotly-latest.min']\n",
       "            }\n",
       "        });\n",
       "        require(['plotly'], function(Plotly) {\n",
       "            window._Plotly = Plotly;\n",
       "        });\n",
       "        }\n",
       "        </script>\n",
       "        "
      ]
     },
     "metadata": {},
     "output_type": "display_data"
    },
    {
     "data": {
      "text/html": [
       "        <script type=\"text/javascript\">\n",
       "        window.PlotlyConfig = {MathJaxConfig: 'local'};\n",
       "        if (window.MathJax) {MathJax.Hub.Config({SVG: {font: \"STIX-Web\"}});}\n",
       "        if (typeof require !== 'undefined') {\n",
       "        require.undef(\"plotly\");\n",
       "        requirejs.config({\n",
       "            paths: {\n",
       "                'plotly': ['https://cdn.plot.ly/plotly-latest.min']\n",
       "            }\n",
       "        });\n",
       "        require(['plotly'], function(Plotly) {\n",
       "            window._Plotly = Plotly;\n",
       "        });\n",
       "        }\n",
       "        </script>\n",
       "        "
      ]
     },
     "metadata": {},
     "output_type": "display_data"
    }
   ],
   "source": [
    "%reload_ext autoreload\n",
    "from util.dependencies import *\n",
    "CC = Kernel(\"/home/md2k/cc_conf/\", study_name=\"default\")"
   ]
  },
  {
   "cell_type": "markdown",
   "metadata": {},
   "source": [
    "## Generate some sample stress data\n",
    "This example utilizes a data generator to protect the privacy of real participants and allows for anyone utilizing this system to explore the data without required institutional review board approvals. This is disabled for this demonstration to not create too much data at once."
   ]
  },
  {
   "cell_type": "code",
   "execution_count": 2,
   "metadata": {},
   "outputs": [
    {
     "name": "stdout",
     "output_type": "stream",
     "text": [
      "Stress data is generated successfully.\n"
     ]
    }
   ],
   "source": [
    "gen_stress_data(CC, stream_name=\"STRESS-STREAM\", spark_df=True)"
   ]
  },
  {
   "cell_type": "markdown",
   "metadata": {},
   "source": [
    "## Read the stress stream\n",
    "The command below will read the newly generated stress stream and show a sample of the data."
   ]
  },
  {
   "cell_type": "code",
   "execution_count": 3,
   "metadata": {},
   "outputs": [
    {
     "name": "stdout",
     "output_type": "stream",
     "text": [
      "+-------------------+-------------------+-------------------+-------------------+-------+--------+-------------+------------------------------------+----------+-------+------------------------------------+\n",
      "|timestamp          |localtime          |start_time         |end_time           |density|location|stresser_main|stresser_sub                        |activity  |version|user                                |\n",
      "+-------------------+-------------------+-------------------+-------------------+-------+--------+-------------+------------------------------------+----------+-------+------------------------------------+\n",
      "|2019-01-11 21:34:59|2019-01-11 16:34:59|2019-01-11 21:34:59|2019-01-11 21:37:59|0.47   |road    |Driving      |Indecision at a traffic intersection|IN_VEHICLE|2      |b1117354-ce48-4325-b2e3-78b0cc932819|\n",
      "|2019-01-12 04:34:59|2019-01-11 23:34:59|2019-01-12 04:34:59|2019-01-12 04:36:59|0.7    |road    |Driving      |Was Tailgated                       |IN_VEHICLE|2      |b1117354-ce48-4325-b2e3-78b0cc932819|\n",
      "|2019-01-12 11:34:59|2019-01-12 06:34:59|2019-01-12 11:34:59|2019-01-12 11:40:59|0.47   |road    |Driving      |Indecision at a traffic intersection|IN_VEHICLE|2      |b1117354-ce48-4325-b2e3-78b0cc932819|\n",
      "|2019-01-10 23:34:59|2019-01-10 18:34:59|2019-01-10 23:34:59|2019-01-10 23:42:59|0.28   |road    |Health       |My eating habits                    |IN_VEHICLE|2      |b1117354-ce48-4325-b2e3-78b0cc932819|\n",
      "|2019-01-11 01:34:59|2019-01-10 20:34:59|2019-01-11 01:34:59|2019-01-11 01:50:59|0.47   |road    |Driving      |Indecision at a traffic intersection|IN_VEHICLE|2      |b1117354-ce48-4325-b2e3-78b0cc932819|\n",
      "|2019-01-11 04:34:59|2019-01-10 23:34:59|2019-01-11 04:34:59|2019-01-11 04:42:59|0.28   |road    |Health       |My eating habits                    |IN_VEHICLE|2      |b1117354-ce48-4325-b2e3-78b0cc932819|\n",
      "|2019-01-11 11:34:59|2019-01-11 06:34:59|2019-01-11 11:34:59|2019-01-11 11:40:59|0.7    |road    |Driving      |Was Tailgated                       |IN_VEHICLE|2      |b1117354-ce48-4325-b2e3-78b0cc932819|\n",
      "|2019-01-11 12:34:59|2019-01-11 07:34:59|2019-01-11 12:34:59|2019-01-11 12:37:59|0.5    |home    |Health       |Physical inability                  |STILL     |2      |b1117354-ce48-4325-b2e3-78b0cc932819|\n",
      "|2019-01-11 14:34:59|2019-01-11 09:34:59|2019-01-11 14:34:59|2019-01-11 15:03:59|0.7    |road    |Driving      |Was Tailgated                       |IN_VEHICLE|2      |b1117354-ce48-4325-b2e3-78b0cc932819|\n",
      "|2019-01-10 07:34:59|2019-01-10 02:34:59|2019-01-10 07:34:59|2019-01-10 07:40:59|0.5    |home    |Health       |Physical inability                  |STILL     |2      |a1112de1-ca36-42fc-aabe-7ec45cd552c5|\n",
      "|2019-01-10 12:34:59|2019-01-10 07:34:59|2019-01-10 12:34:59|2019-01-10 12:36:59|0.6    |road    |Driving      |Saw a police car                    |IN_VEHICLE|2      |a1112de1-ca36-42fc-aabe-7ec45cd552c5|\n",
      "|2019-01-10 17:34:59|2019-01-10 12:34:59|2019-01-10 17:34:59|2019-01-10 17:42:59|0.6    |road    |Driving      |Saw a police car                    |IN_VEHICLE|2      |a1112de1-ca36-42fc-aabe-7ec45cd552c5|\n",
      "|2019-01-10 21:34:59|2019-01-10 16:34:59|2019-01-10 21:34:59|2019-01-10 21:36:59|0.79   |work    |Job          |Unpleasant conversation             |ON_FOOT   |2      |a1112de1-ca36-42fc-aabe-7ec45cd552c5|\n",
      "|2019-01-10 03:34:59|2019-01-09 22:34:59|2019-01-10 03:34:59|2019-01-10 03:46:59|0.54   |road    |Driving      |Difficulty in navigating            |IN_VEHICLE|2      |a1112de1-ca36-42fc-aabe-7ec45cd552c5|\n",
      "|2019-01-10 06:34:59|2019-01-10 01:34:59|2019-01-10 06:34:59|2019-01-10 06:46:59|0.47   |road    |Driving      |Indecision at a traffic intersection|IN_VEHICLE|2      |a1112de1-ca36-42fc-aabe-7ec45cd552c5|\n",
      "|2019-01-09 21:34:59|2019-01-09 16:34:59|2019-01-09 21:34:59|2019-01-09 21:50:59|0.5    |home    |Health       |Physical inability                  |STILL     |2      |a1112de1-ca36-42fc-aabe-7ec45cd552c5|\n",
      "|2019-01-10 02:34:59|2019-01-09 21:34:59|2019-01-10 02:34:59|2019-01-10 02:37:59|0.79   |work    |Job          |Unpleasant conversation             |ON_FOOT   |2      |a1112de1-ca36-42fc-aabe-7ec45cd552c5|\n",
      "|2019-01-09 18:34:59|2019-01-09 13:34:59|2019-01-09 18:34:59|2019-01-09 19:03:59|0.7    |road    |Driving      |Was Tailgated                       |IN_VEHICLE|2      |a1112de1-ca36-42fc-aabe-7ec45cd552c5|\n",
      "|2019-01-09 19:34:59|2019-01-09 14:34:59|2019-01-09 19:34:59|2019-01-09 19:37:59|0.67   |work    |Job          |Late arrival                        |WALKING   |2      |a1112de1-ca36-42fc-aabe-7ec45cd552c5|\n",
      "+-------------------+-------------------+-------------------+-------------------+-------+--------+-------------+------------------------------------+----------+-------+------------------------------------+\n",
      "\n"
     ]
    }
   ],
   "source": [
    "stress_stream = CC.get_stream(\"STRESS-STREAM\")\n",
    "stress_stream.show(truncate=False)"
   ]
  },
  {
   "cell_type": "markdown",
   "metadata": {},
   "source": [
    "## Plot examples\n",
    "The following are some example of the types of plots that the system is capable of generating.  These plots utilize off-the-shelf visualization libraries and can be easily modified and/or extended for other datastreams.  Since stress is a core component of MD2K's research, it has been included within the Cerebral Cortex platform for direct use and these examples will utilize it for demonstration purposes.\n",
    "\n",
    "### Pie Chart\n",
    "In this example, the data is grouped into the major stressor categories, _Job, Driving, Finance, and Health_, and the relative breakdown of events are shown within the chart.  If you place your mouse cursor over the pie chart sections, you can see the actual number of events and a category label appear.  Try clicking on one or more of the labels in the legend on the right to disable/enable the data on the graph."
   ]
  },
  {
   "cell_type": "code",
   "execution_count": 4,
   "metadata": {},
   "outputs": [
    {
     "data": {
      "application/vnd.plotly.v1+json": {
       "config": {
        "linkText": "Export to plot.ly",
        "plotlyServerURL": "https://plot.ly",
        "showLink": false
       },
       "data": [
        {
         "labels": [
          "Driving",
          "Health",
          "Job"
         ],
         "type": "pie",
         "uid": "834e15e4-2360-40c6-85fa-245bee17f201",
         "values": [
          11,
          5,
          3
         ]
        }
       ],
       "layout": {}
      },
      "text/html": [
       "<div>\n",
       "        \n",
       "        \n",
       "            <div id=\"9c74f822-67ee-41a3-95e4-e950cbf0ebc1\" class=\"plotly-graph-div\" style=\"height:525px; width:100%;\"></div>\n",
       "            <script type=\"text/javascript\">\n",
       "                require([\"plotly\"], function(Plotly) {\n",
       "                    window.PLOTLYENV=window.PLOTLYENV || {};\n",
       "                    window.PLOTLYENV.BASE_URL='https://plot.ly';\n",
       "                    \n",
       "                if (document.getElementById(\"9c74f822-67ee-41a3-95e4-e950cbf0ebc1\")) {\n",
       "                    Plotly.newPlot(\n",
       "                        '9c74f822-67ee-41a3-95e4-e950cbf0ebc1',\n",
       "                        [{\"labels\": [\"Driving\", \"Health\", \"Job\"], \"type\": \"pie\", \"uid\": \"834e15e4-2360-40c6-85fa-245bee17f201\", \"values\": [11, 5, 3]}],\n",
       "                        {},\n",
       "                        {\"showLink\": false, \"linkText\": \"Export to plot.ly\", \"plotlyServerURL\": \"https://plot.ly\", \"responsive\": true}\n",
       "                    ).then(function(){\n",
       "                            \n",
       "var gd = document.getElementById('9c74f822-67ee-41a3-95e4-e950cbf0ebc1');\n",
       "var x = new MutationObserver(function (mutations, observer) {{\n",
       "        var display = window.getComputedStyle(gd).display;\n",
       "        if (!display || display === 'none') {{\n",
       "            console.log([gd, 'removed!']);\n",
       "            Plotly.purge(gd);\n",
       "            observer.disconnect();\n",
       "        }}\n",
       "}});\n",
       "\n",
       "// Listen for the removal of the full notebook cells\n",
       "var notebookContainer = gd.closest('#notebook-container');\n",
       "if (notebookContainer) {{\n",
       "    x.observe(notebookContainer, {childList: true});\n",
       "}}\n",
       "\n",
       "// Listen for the clearing of the current output cell\n",
       "var outputEl = gd.closest('.output');\n",
       "if (outputEl) {{\n",
       "    x.observe(outputEl, {childList: true});\n",
       "}}\n",
       "\n",
       "                        })\n",
       "                };\n",
       "                });\n",
       "            </script>\n",
       "        </div>"
      ]
     },
     "metadata": {},
     "output_type": "display_data"
    }
   ],
   "source": [
    "stress_stream.plot_stress_pie()"
   ]
  },
  {
   "cell_type": "markdown",
   "metadata": {},
   "source": [
    "### Gantt Chart\n",
    "A Gantt chart is typically utilzed to show scheduling information, we utilize it to provide a temporal breakdown of events in different classes.  You will see the same major category labels as before; however, this chart shows the details of the stressors when you place the mouse cursor over the boxes.  This particular chart is interactive and zoomable.  Try it out by dragging a box around some of the data to zoom in and see the data in more detail.  To go back, click on the __home__ icon to reset the zoom to the original state.  "
   ]
  },
  {
   "cell_type": "code",
   "execution_count": 5,
   "metadata": {},
   "outputs": [
    {
     "data": {
      "application/vnd.plotly.v1+json": {
       "config": {
        "linkText": "Export to plot.ly",
        "plotlyServerURL": "https://plot.ly",
        "showLink": false
       },
       "data": [
        {
         "marker": {
          "color": "white"
         },
         "name": "",
         "type": "scatter",
         "uid": "6b0e474a-6c23-4271-b42a-7afd28e2f023",
         "x": [
          "2019-01-09 18:34:59",
          "2019-01-09 19:03:59"
         ],
         "y": [
          0,
          0
         ]
        },
        {
         "marker": {
          "color": "white"
         },
         "name": "",
         "type": "scatter",
         "uid": "11132941-f716-4694-b62a-679a6089b8cc",
         "x": [
          "2019-01-09 19:34:59",
          "2019-01-09 19:37:59"
         ],
         "y": [
          1,
          1
         ]
        },
        {
         "marker": {
          "color": "white"
         },
         "name": "",
         "type": "scatter",
         "uid": "ed01ce24-dbb4-42da-9e5b-83cc68a613bc",
         "x": [
          "2019-01-09 21:34:59",
          "2019-01-09 21:50:59"
         ],
         "y": [
          2,
          2
         ]
        },
        {
         "marker": {
          "color": "white"
         },
         "name": "",
         "type": "scatter",
         "uid": "cd758b14-8668-4aa8-8f84-4f4612a05f7f",
         "x": [
          "2019-01-10 02:34:59",
          "2019-01-10 02:37:59"
         ],
         "y": [
          3,
          3
         ]
        },
        {
         "marker": {
          "color": "white"
         },
         "name": "",
         "type": "scatter",
         "uid": "316215bb-c2a6-4c6e-af0d-e16dcb0ff888",
         "x": [
          "2019-01-10 03:34:59",
          "2019-01-10 03:46:59"
         ],
         "y": [
          4,
          4
         ]
        },
        {
         "marker": {
          "color": "white"
         },
         "name": "",
         "type": "scatter",
         "uid": "ce1d6058-286e-4dba-aa65-84d62f930ddb",
         "x": [
          "2019-01-10 06:34:59",
          "2019-01-10 06:46:59"
         ],
         "y": [
          5,
          5
         ]
        },
        {
         "marker": {
          "color": "white"
         },
         "name": "",
         "type": "scatter",
         "uid": "65dca385-7270-4e99-8a47-ecdcabf6dc44",
         "x": [
          "2019-01-10 07:34:59",
          "2019-01-10 07:40:59"
         ],
         "y": [
          6,
          6
         ]
        },
        {
         "marker": {
          "color": "white"
         },
         "name": "",
         "type": "scatter",
         "uid": "d6d118b9-9519-4c2e-adcc-740d3ec3c5ff",
         "x": [
          "2019-01-10 12:34:59",
          "2019-01-10 12:36:59"
         ],
         "y": [
          7,
          7
         ]
        },
        {
         "marker": {
          "color": "white"
         },
         "name": "",
         "type": "scatter",
         "uid": "e7caa833-44a7-458f-94ee-7cee19c3453d",
         "x": [
          "2019-01-10 17:34:59",
          "2019-01-10 17:42:59"
         ],
         "y": [
          8,
          8
         ]
        },
        {
         "marker": {
          "color": "white"
         },
         "name": "",
         "type": "scatter",
         "uid": "bac9542f-a0b5-4ff2-b624-4e031c0adf1e",
         "x": [
          "2019-01-10 21:34:59",
          "2019-01-10 21:36:59"
         ],
         "y": [
          9,
          9
         ]
        },
        {
         "marker": {
          "color": "white"
         },
         "name": "",
         "type": "scatter",
         "uid": "1094d3a6-6c9c-4556-a928-bbc8479d2936",
         "x": [
          "2019-01-10 23:34:59",
          "2019-01-10 23:42:59"
         ],
         "y": [
          10,
          10
         ]
        },
        {
         "marker": {
          "color": "white"
         },
         "name": "",
         "type": "scatter",
         "uid": "4a1a1307-9415-4208-abbf-c2c01c1e1b0b",
         "x": [
          "2019-01-11 01:34:59",
          "2019-01-11 01:50:59"
         ],
         "y": [
          11,
          11
         ]
        },
        {
         "marker": {
          "color": "white"
         },
         "name": "",
         "type": "scatter",
         "uid": "5686ae7c-0846-43a8-b1ad-130b2a24c142",
         "x": [
          "2019-01-11 04:34:59",
          "2019-01-11 04:42:59"
         ],
         "y": [
          12,
          12
         ]
        },
        {
         "marker": {
          "color": "white"
         },
         "name": "",
         "type": "scatter",
         "uid": "26acb631-ee3d-42fa-85c1-ee9637e87c32",
         "x": [
          "2019-01-11 11:34:59",
          "2019-01-11 11:40:59"
         ],
         "y": [
          13,
          13
         ]
        },
        {
         "marker": {
          "color": "white"
         },
         "name": "",
         "type": "scatter",
         "uid": "71d6d988-ff3c-4ea8-bd2b-ea584d24829b",
         "x": [
          "2019-01-11 12:34:59",
          "2019-01-11 12:37:59"
         ],
         "y": [
          14,
          14
         ]
        },
        {
         "marker": {
          "color": "white"
         },
         "name": "",
         "type": "scatter",
         "uid": "9969ce64-6d1a-4989-9f0a-46881c10e922",
         "x": [
          "2019-01-11 14:34:59",
          "2019-01-11 15:03:59"
         ],
         "y": [
          15,
          15
         ]
        },
        {
         "marker": {
          "color": "white"
         },
         "name": "",
         "type": "scatter",
         "uid": "2a1925f9-fec2-4274-bf95-692da6ceb500",
         "x": [
          "2019-01-11 21:34:59",
          "2019-01-11 21:37:59"
         ],
         "y": [
          16,
          16
         ]
        },
        {
         "marker": {
          "color": "white"
         },
         "name": "",
         "type": "scatter",
         "uid": "fa003d78-8aa9-4e19-bbd6-fa97c981f9d4",
         "x": [
          "2019-01-12 04:34:59",
          "2019-01-12 04:36:59"
         ],
         "y": [
          17,
          17
         ]
        },
        {
         "marker": {
          "color": "white"
         },
         "name": "",
         "type": "scatter",
         "uid": "6c1255f6-1bd2-4e2e-9f1a-5e75cc012d86",
         "x": [
          "2019-01-12 11:34:59",
          "2019-01-12 11:40:59"
         ],
         "y": [
          18,
          18
         ]
        },
        {
         "hoverinfo": "none",
         "marker": {
          "color": "rgb(31, 119, 180)",
          "size": 1
         },
         "name": "Driving",
         "showlegend": true,
         "type": "scatter",
         "uid": "fd8a9616-baa5-47a7-b31c-581182b1d243",
         "x": [
          "2019-01-12 11:34:59",
          "2019-01-12 11:34:59"
         ],
         "y": [
          0,
          0
         ]
        },
        {
         "hoverinfo": "none",
         "marker": {
          "color": "rgb(255, 127, 14)",
          "size": 1
         },
         "name": "Health",
         "showlegend": true,
         "type": "scatter",
         "uid": "9eaf1a59-59d1-4d55-822e-67232c6f3f6b",
         "x": [
          "2019-01-12 11:34:59",
          "2019-01-12 11:34:59"
         ],
         "y": [
          1,
          1
         ]
        },
        {
         "hoverinfo": "none",
         "marker": {
          "color": "rgb(44, 160, 44)",
          "size": 1
         },
         "name": "Job",
         "showlegend": true,
         "type": "scatter",
         "uid": "b48feb19-1965-40aa-ba8b-57fd843449eb",
         "x": [
          "2019-01-12 11:34:59",
          "2019-01-12 11:34:59"
         ],
         "y": [
          2,
          2
         ]
        }
       ],
       "layout": {
        "height": 600,
        "hovermode": "closest",
        "shapes": [
         {
          "fillcolor": "rgb(31, 119, 180)",
          "line": {
           "width": 0
          },
          "opacity": 1,
          "type": "rect",
          "x0": "2019-01-09 18:34:59",
          "x1": "2019-01-09 19:03:59",
          "xref": "x",
          "y0": -0.8,
          "y1": 0.8,
          "yref": "y"
         },
         {
          "fillcolor": "rgb(44, 160, 44)",
          "line": {
           "width": 0
          },
          "opacity": 1,
          "type": "rect",
          "x0": "2019-01-09 19:34:59",
          "x1": "2019-01-09 19:37:59",
          "xref": "x",
          "y0": 0.19999999999999996,
          "y1": 1.8,
          "yref": "y"
         },
         {
          "fillcolor": "rgb(255, 127, 14)",
          "line": {
           "width": 0
          },
          "opacity": 1,
          "type": "rect",
          "x0": "2019-01-09 21:34:59",
          "x1": "2019-01-09 21:50:59",
          "xref": "x",
          "y0": 1.2,
          "y1": 2.8,
          "yref": "y"
         },
         {
          "fillcolor": "rgb(44, 160, 44)",
          "line": {
           "width": 0
          },
          "opacity": 1,
          "type": "rect",
          "x0": "2019-01-10 02:34:59",
          "x1": "2019-01-10 02:37:59",
          "xref": "x",
          "y0": 2.2,
          "y1": 3.8,
          "yref": "y"
         },
         {
          "fillcolor": "rgb(31, 119, 180)",
          "line": {
           "width": 0
          },
          "opacity": 1,
          "type": "rect",
          "x0": "2019-01-10 03:34:59",
          "x1": "2019-01-10 03:46:59",
          "xref": "x",
          "y0": 3.2,
          "y1": 4.8,
          "yref": "y"
         },
         {
          "fillcolor": "rgb(31, 119, 180)",
          "line": {
           "width": 0
          },
          "opacity": 1,
          "type": "rect",
          "x0": "2019-01-10 06:34:59",
          "x1": "2019-01-10 06:46:59",
          "xref": "x",
          "y0": 4.2,
          "y1": 5.8,
          "yref": "y"
         },
         {
          "fillcolor": "rgb(255, 127, 14)",
          "line": {
           "width": 0
          },
          "opacity": 1,
          "type": "rect",
          "x0": "2019-01-10 07:34:59",
          "x1": "2019-01-10 07:40:59",
          "xref": "x",
          "y0": 5.2,
          "y1": 6.8,
          "yref": "y"
         },
         {
          "fillcolor": "rgb(31, 119, 180)",
          "line": {
           "width": 0
          },
          "opacity": 1,
          "type": "rect",
          "x0": "2019-01-10 12:34:59",
          "x1": "2019-01-10 12:36:59",
          "xref": "x",
          "y0": 6.2,
          "y1": 7.8,
          "yref": "y"
         },
         {
          "fillcolor": "rgb(31, 119, 180)",
          "line": {
           "width": 0
          },
          "opacity": 1,
          "type": "rect",
          "x0": "2019-01-10 17:34:59",
          "x1": "2019-01-10 17:42:59",
          "xref": "x",
          "y0": 7.2,
          "y1": 8.8,
          "yref": "y"
         },
         {
          "fillcolor": "rgb(44, 160, 44)",
          "line": {
           "width": 0
          },
          "opacity": 1,
          "type": "rect",
          "x0": "2019-01-10 21:34:59",
          "x1": "2019-01-10 21:36:59",
          "xref": "x",
          "y0": 8.2,
          "y1": 9.8,
          "yref": "y"
         },
         {
          "fillcolor": "rgb(255, 127, 14)",
          "line": {
           "width": 0
          },
          "opacity": 1,
          "type": "rect",
          "x0": "2019-01-10 23:34:59",
          "x1": "2019-01-10 23:42:59",
          "xref": "x",
          "y0": 9.2,
          "y1": 10.8,
          "yref": "y"
         },
         {
          "fillcolor": "rgb(31, 119, 180)",
          "line": {
           "width": 0
          },
          "opacity": 1,
          "type": "rect",
          "x0": "2019-01-11 01:34:59",
          "x1": "2019-01-11 01:50:59",
          "xref": "x",
          "y0": 10.2,
          "y1": 11.8,
          "yref": "y"
         },
         {
          "fillcolor": "rgb(255, 127, 14)",
          "line": {
           "width": 0
          },
          "opacity": 1,
          "type": "rect",
          "x0": "2019-01-11 04:34:59",
          "x1": "2019-01-11 04:42:59",
          "xref": "x",
          "y0": 11.2,
          "y1": 12.8,
          "yref": "y"
         },
         {
          "fillcolor": "rgb(31, 119, 180)",
          "line": {
           "width": 0
          },
          "opacity": 1,
          "type": "rect",
          "x0": "2019-01-11 11:34:59",
          "x1": "2019-01-11 11:40:59",
          "xref": "x",
          "y0": 12.2,
          "y1": 13.8,
          "yref": "y"
         },
         {
          "fillcolor": "rgb(255, 127, 14)",
          "line": {
           "width": 0
          },
          "opacity": 1,
          "type": "rect",
          "x0": "2019-01-11 12:34:59",
          "x1": "2019-01-11 12:37:59",
          "xref": "x",
          "y0": 13.2,
          "y1": 14.8,
          "yref": "y"
         },
         {
          "fillcolor": "rgb(31, 119, 180)",
          "line": {
           "width": 0
          },
          "opacity": 1,
          "type": "rect",
          "x0": "2019-01-11 14:34:59",
          "x1": "2019-01-11 15:03:59",
          "xref": "x",
          "y0": 14.2,
          "y1": 15.8,
          "yref": "y"
         },
         {
          "fillcolor": "rgb(31, 119, 180)",
          "line": {
           "width": 0
          },
          "opacity": 1,
          "type": "rect",
          "x0": "2019-01-11 21:34:59",
          "x1": "2019-01-11 21:37:59",
          "xref": "x",
          "y0": 15.2,
          "y1": 16.8,
          "yref": "y"
         },
         {
          "fillcolor": "rgb(31, 119, 180)",
          "line": {
           "width": 0
          },
          "opacity": 1,
          "type": "rect",
          "x0": "2019-01-12 04:34:59",
          "x1": "2019-01-12 04:36:59",
          "xref": "x",
          "y0": 16.2,
          "y1": 17.8,
          "yref": "y"
         },
         {
          "fillcolor": "rgb(31, 119, 180)",
          "line": {
           "width": 0
          },
          "opacity": 1,
          "type": "rect",
          "x0": "2019-01-12 11:34:59",
          "x1": "2019-01-12 11:40:59",
          "xref": "x",
          "y0": 17.2,
          "y1": 18.8,
          "yref": "y"
         }
        ],
        "showlegend": true,
        "title": {
         "text": "Stressers, Main & Sub Categories"
        },
        "width": 900,
        "xaxis": {
         "rangeselector": {
          "buttons": [
           {
            "count": 7,
            "label": "1w",
            "step": "day",
            "stepmode": "backward"
           },
           {
            "count": 1,
            "label": "1m",
            "step": "month",
            "stepmode": "backward"
           },
           {
            "count": 6,
            "label": "6m",
            "step": "month",
            "stepmode": "backward"
           },
           {
            "count": 1,
            "label": "YTD",
            "step": "year",
            "stepmode": "todate"
           },
           {
            "count": 1,
            "label": "1y",
            "step": "year",
            "stepmode": "backward"
           },
           {
            "step": "all"
           }
          ]
         },
         "showgrid": true,
         "type": "date",
         "zeroline": false
        },
        "yaxis": {
         "autorange": false,
         "range": [
          -1,
          20
         ],
         "showgrid": true,
         "showticklabels": false,
         "ticktext": [
          "Was Tailgated",
          "Late arrival",
          "Physical inability",
          "Unpleasant conversation",
          "Difficulty in navigating",
          "Indecision at a traffic intersection",
          "Physical inability",
          "Saw a police car",
          "Saw a police car",
          "Unpleasant conversation",
          "My eating habits",
          "Indecision at a traffic intersection",
          "My eating habits",
          "Was Tailgated",
          "Physical inability",
          "Was Tailgated",
          "Indecision at a traffic intersection",
          "Was Tailgated",
          "Indecision at a traffic intersection"
         ],
         "tickvals": [
          0,
          1,
          2,
          3,
          4,
          5,
          6,
          7,
          8,
          9,
          10,
          11,
          12,
          13,
          14,
          15,
          16,
          17,
          18
         ],
         "zeroline": false
        }
       }
      },
      "text/html": [
       "<div>\n",
       "        \n",
       "        \n",
       "            <div id=\"12d4b09f-6cec-4706-a645-32d2c3eabe12\" class=\"plotly-graph-div\" style=\"height:600px; width:900px;\"></div>\n",
       "            <script type=\"text/javascript\">\n",
       "                require([\"plotly\"], function(Plotly) {\n",
       "                    window.PLOTLYENV=window.PLOTLYENV || {};\n",
       "                    window.PLOTLYENV.BASE_URL='https://plot.ly';\n",
       "                    \n",
       "                if (document.getElementById(\"12d4b09f-6cec-4706-a645-32d2c3eabe12\")) {\n",
       "                    Plotly.newPlot(\n",
       "                        '12d4b09f-6cec-4706-a645-32d2c3eabe12',\n",
       "                        [{\"marker\": {\"color\": \"white\"}, \"name\": \"\", \"type\": \"scatter\", \"uid\": \"6b0e474a-6c23-4271-b42a-7afd28e2f023\", \"x\": [\"2019-01-09 18:34:59\", \"2019-01-09 19:03:59\"], \"y\": [0, 0]}, {\"marker\": {\"color\": \"white\"}, \"name\": \"\", \"type\": \"scatter\", \"uid\": \"11132941-f716-4694-b62a-679a6089b8cc\", \"x\": [\"2019-01-09 19:34:59\", \"2019-01-09 19:37:59\"], \"y\": [1, 1]}, {\"marker\": {\"color\": \"white\"}, \"name\": \"\", \"type\": \"scatter\", \"uid\": \"ed01ce24-dbb4-42da-9e5b-83cc68a613bc\", \"x\": [\"2019-01-09 21:34:59\", \"2019-01-09 21:50:59\"], \"y\": [2, 2]}, {\"marker\": {\"color\": \"white\"}, \"name\": \"\", \"type\": \"scatter\", \"uid\": \"cd758b14-8668-4aa8-8f84-4f4612a05f7f\", \"x\": [\"2019-01-10 02:34:59\", \"2019-01-10 02:37:59\"], \"y\": [3, 3]}, {\"marker\": {\"color\": \"white\"}, \"name\": \"\", \"type\": \"scatter\", \"uid\": \"316215bb-c2a6-4c6e-af0d-e16dcb0ff888\", \"x\": [\"2019-01-10 03:34:59\", \"2019-01-10 03:46:59\"], \"y\": [4, 4]}, {\"marker\": {\"color\": \"white\"}, \"name\": \"\", \"type\": \"scatter\", \"uid\": \"ce1d6058-286e-4dba-aa65-84d62f930ddb\", \"x\": [\"2019-01-10 06:34:59\", \"2019-01-10 06:46:59\"], \"y\": [5, 5]}, {\"marker\": {\"color\": \"white\"}, \"name\": \"\", \"type\": \"scatter\", \"uid\": \"65dca385-7270-4e99-8a47-ecdcabf6dc44\", \"x\": [\"2019-01-10 07:34:59\", \"2019-01-10 07:40:59\"], \"y\": [6, 6]}, {\"marker\": {\"color\": \"white\"}, \"name\": \"\", \"type\": \"scatter\", \"uid\": \"d6d118b9-9519-4c2e-adcc-740d3ec3c5ff\", \"x\": [\"2019-01-10 12:34:59\", \"2019-01-10 12:36:59\"], \"y\": [7, 7]}, {\"marker\": {\"color\": \"white\"}, \"name\": \"\", \"type\": \"scatter\", \"uid\": \"e7caa833-44a7-458f-94ee-7cee19c3453d\", \"x\": [\"2019-01-10 17:34:59\", \"2019-01-10 17:42:59\"], \"y\": [8, 8]}, {\"marker\": {\"color\": \"white\"}, \"name\": \"\", \"type\": \"scatter\", \"uid\": \"bac9542f-a0b5-4ff2-b624-4e031c0adf1e\", \"x\": [\"2019-01-10 21:34:59\", \"2019-01-10 21:36:59\"], \"y\": [9, 9]}, {\"marker\": {\"color\": \"white\"}, \"name\": \"\", \"type\": \"scatter\", \"uid\": \"1094d3a6-6c9c-4556-a928-bbc8479d2936\", \"x\": [\"2019-01-10 23:34:59\", \"2019-01-10 23:42:59\"], \"y\": [10, 10]}, {\"marker\": {\"color\": \"white\"}, \"name\": \"\", \"type\": \"scatter\", \"uid\": \"4a1a1307-9415-4208-abbf-c2c01c1e1b0b\", \"x\": [\"2019-01-11 01:34:59\", \"2019-01-11 01:50:59\"], \"y\": [11, 11]}, {\"marker\": {\"color\": \"white\"}, \"name\": \"\", \"type\": \"scatter\", \"uid\": \"5686ae7c-0846-43a8-b1ad-130b2a24c142\", \"x\": [\"2019-01-11 04:34:59\", \"2019-01-11 04:42:59\"], \"y\": [12, 12]}, {\"marker\": {\"color\": \"white\"}, \"name\": \"\", \"type\": \"scatter\", \"uid\": \"26acb631-ee3d-42fa-85c1-ee9637e87c32\", \"x\": [\"2019-01-11 11:34:59\", \"2019-01-11 11:40:59\"], \"y\": [13, 13]}, {\"marker\": {\"color\": \"white\"}, \"name\": \"\", \"type\": \"scatter\", \"uid\": \"71d6d988-ff3c-4ea8-bd2b-ea584d24829b\", \"x\": [\"2019-01-11 12:34:59\", \"2019-01-11 12:37:59\"], \"y\": [14, 14]}, {\"marker\": {\"color\": \"white\"}, \"name\": \"\", \"type\": \"scatter\", \"uid\": \"9969ce64-6d1a-4989-9f0a-46881c10e922\", \"x\": [\"2019-01-11 14:34:59\", \"2019-01-11 15:03:59\"], \"y\": [15, 15]}, {\"marker\": {\"color\": \"white\"}, \"name\": \"\", \"type\": \"scatter\", \"uid\": \"2a1925f9-fec2-4274-bf95-692da6ceb500\", \"x\": [\"2019-01-11 21:34:59\", \"2019-01-11 21:37:59\"], \"y\": [16, 16]}, {\"marker\": {\"color\": \"white\"}, \"name\": \"\", \"type\": \"scatter\", \"uid\": \"fa003d78-8aa9-4e19-bbd6-fa97c981f9d4\", \"x\": [\"2019-01-12 04:34:59\", \"2019-01-12 04:36:59\"], \"y\": [17, 17]}, {\"marker\": {\"color\": \"white\"}, \"name\": \"\", \"type\": \"scatter\", \"uid\": \"6c1255f6-1bd2-4e2e-9f1a-5e75cc012d86\", \"x\": [\"2019-01-12 11:34:59\", \"2019-01-12 11:40:59\"], \"y\": [18, 18]}, {\"hoverinfo\": \"none\", \"marker\": {\"color\": \"rgb(31, 119, 180)\", \"size\": 1}, \"name\": \"Driving\", \"showlegend\": true, \"type\": \"scatter\", \"uid\": \"fd8a9616-baa5-47a7-b31c-581182b1d243\", \"x\": [\"2019-01-12 11:34:59\", \"2019-01-12 11:34:59\"], \"y\": [0, 0]}, {\"hoverinfo\": \"none\", \"marker\": {\"color\": \"rgb(255, 127, 14)\", \"size\": 1}, \"name\": \"Health\", \"showlegend\": true, \"type\": \"scatter\", \"uid\": \"9eaf1a59-59d1-4d55-822e-67232c6f3f6b\", \"x\": [\"2019-01-12 11:34:59\", \"2019-01-12 11:34:59\"], \"y\": [1, 1]}, {\"hoverinfo\": \"none\", \"marker\": {\"color\": \"rgb(44, 160, 44)\", \"size\": 1}, \"name\": \"Job\", \"showlegend\": true, \"type\": \"scatter\", \"uid\": \"b48feb19-1965-40aa-ba8b-57fd843449eb\", \"x\": [\"2019-01-12 11:34:59\", \"2019-01-12 11:34:59\"], \"y\": [2, 2]}],\n",
       "                        {\"height\": 600, \"hovermode\": \"closest\", \"shapes\": [{\"fillcolor\": \"rgb(31, 119, 180)\", \"line\": {\"width\": 0}, \"opacity\": 1, \"type\": \"rect\", \"x0\": \"2019-01-09 18:34:59\", \"x1\": \"2019-01-09 19:03:59\", \"xref\": \"x\", \"y0\": -0.8, \"y1\": 0.8, \"yref\": \"y\"}, {\"fillcolor\": \"rgb(44, 160, 44)\", \"line\": {\"width\": 0}, \"opacity\": 1, \"type\": \"rect\", \"x0\": \"2019-01-09 19:34:59\", \"x1\": \"2019-01-09 19:37:59\", \"xref\": \"x\", \"y0\": 0.19999999999999996, \"y1\": 1.8, \"yref\": \"y\"}, {\"fillcolor\": \"rgb(255, 127, 14)\", \"line\": {\"width\": 0}, \"opacity\": 1, \"type\": \"rect\", \"x0\": \"2019-01-09 21:34:59\", \"x1\": \"2019-01-09 21:50:59\", \"xref\": \"x\", \"y0\": 1.2, \"y1\": 2.8, \"yref\": \"y\"}, {\"fillcolor\": \"rgb(44, 160, 44)\", \"line\": {\"width\": 0}, \"opacity\": 1, \"type\": \"rect\", \"x0\": \"2019-01-10 02:34:59\", \"x1\": \"2019-01-10 02:37:59\", \"xref\": \"x\", \"y0\": 2.2, \"y1\": 3.8, \"yref\": \"y\"}, {\"fillcolor\": \"rgb(31, 119, 180)\", \"line\": {\"width\": 0}, \"opacity\": 1, \"type\": \"rect\", \"x0\": \"2019-01-10 03:34:59\", \"x1\": \"2019-01-10 03:46:59\", \"xref\": \"x\", \"y0\": 3.2, \"y1\": 4.8, \"yref\": \"y\"}, {\"fillcolor\": \"rgb(31, 119, 180)\", \"line\": {\"width\": 0}, \"opacity\": 1, \"type\": \"rect\", \"x0\": \"2019-01-10 06:34:59\", \"x1\": \"2019-01-10 06:46:59\", \"xref\": \"x\", \"y0\": 4.2, \"y1\": 5.8, \"yref\": \"y\"}, {\"fillcolor\": \"rgb(255, 127, 14)\", \"line\": {\"width\": 0}, \"opacity\": 1, \"type\": \"rect\", \"x0\": \"2019-01-10 07:34:59\", \"x1\": \"2019-01-10 07:40:59\", \"xref\": \"x\", \"y0\": 5.2, \"y1\": 6.8, \"yref\": \"y\"}, {\"fillcolor\": \"rgb(31, 119, 180)\", \"line\": {\"width\": 0}, \"opacity\": 1, \"type\": \"rect\", \"x0\": \"2019-01-10 12:34:59\", \"x1\": \"2019-01-10 12:36:59\", \"xref\": \"x\", \"y0\": 6.2, \"y1\": 7.8, \"yref\": \"y\"}, {\"fillcolor\": \"rgb(31, 119, 180)\", \"line\": {\"width\": 0}, \"opacity\": 1, \"type\": \"rect\", \"x0\": \"2019-01-10 17:34:59\", \"x1\": \"2019-01-10 17:42:59\", \"xref\": \"x\", \"y0\": 7.2, \"y1\": 8.8, \"yref\": \"y\"}, {\"fillcolor\": \"rgb(44, 160, 44)\", \"line\": {\"width\": 0}, \"opacity\": 1, \"type\": \"rect\", \"x0\": \"2019-01-10 21:34:59\", \"x1\": \"2019-01-10 21:36:59\", \"xref\": \"x\", \"y0\": 8.2, \"y1\": 9.8, \"yref\": \"y\"}, {\"fillcolor\": \"rgb(255, 127, 14)\", \"line\": {\"width\": 0}, \"opacity\": 1, \"type\": \"rect\", \"x0\": \"2019-01-10 23:34:59\", \"x1\": \"2019-01-10 23:42:59\", \"xref\": \"x\", \"y0\": 9.2, \"y1\": 10.8, \"yref\": \"y\"}, {\"fillcolor\": \"rgb(31, 119, 180)\", \"line\": {\"width\": 0}, \"opacity\": 1, \"type\": \"rect\", \"x0\": \"2019-01-11 01:34:59\", \"x1\": \"2019-01-11 01:50:59\", \"xref\": \"x\", \"y0\": 10.2, \"y1\": 11.8, \"yref\": \"y\"}, {\"fillcolor\": \"rgb(255, 127, 14)\", \"line\": {\"width\": 0}, \"opacity\": 1, \"type\": \"rect\", \"x0\": \"2019-01-11 04:34:59\", \"x1\": \"2019-01-11 04:42:59\", \"xref\": \"x\", \"y0\": 11.2, \"y1\": 12.8, \"yref\": \"y\"}, {\"fillcolor\": \"rgb(31, 119, 180)\", \"line\": {\"width\": 0}, \"opacity\": 1, \"type\": \"rect\", \"x0\": \"2019-01-11 11:34:59\", \"x1\": \"2019-01-11 11:40:59\", \"xref\": \"x\", \"y0\": 12.2, \"y1\": 13.8, \"yref\": \"y\"}, {\"fillcolor\": \"rgb(255, 127, 14)\", \"line\": {\"width\": 0}, \"opacity\": 1, \"type\": \"rect\", \"x0\": \"2019-01-11 12:34:59\", \"x1\": \"2019-01-11 12:37:59\", \"xref\": \"x\", \"y0\": 13.2, \"y1\": 14.8, \"yref\": \"y\"}, {\"fillcolor\": \"rgb(31, 119, 180)\", \"line\": {\"width\": 0}, \"opacity\": 1, \"type\": \"rect\", \"x0\": \"2019-01-11 14:34:59\", \"x1\": \"2019-01-11 15:03:59\", \"xref\": \"x\", \"y0\": 14.2, \"y1\": 15.8, \"yref\": \"y\"}, {\"fillcolor\": \"rgb(31, 119, 180)\", \"line\": {\"width\": 0}, \"opacity\": 1, \"type\": \"rect\", \"x0\": \"2019-01-11 21:34:59\", \"x1\": \"2019-01-11 21:37:59\", \"xref\": \"x\", \"y0\": 15.2, \"y1\": 16.8, \"yref\": \"y\"}, {\"fillcolor\": \"rgb(31, 119, 180)\", \"line\": {\"width\": 0}, \"opacity\": 1, \"type\": \"rect\", \"x0\": \"2019-01-12 04:34:59\", \"x1\": \"2019-01-12 04:36:59\", \"xref\": \"x\", \"y0\": 16.2, \"y1\": 17.8, \"yref\": \"y\"}, {\"fillcolor\": \"rgb(31, 119, 180)\", \"line\": {\"width\": 0}, \"opacity\": 1, \"type\": \"rect\", \"x0\": \"2019-01-12 11:34:59\", \"x1\": \"2019-01-12 11:40:59\", \"xref\": \"x\", \"y0\": 17.2, \"y1\": 18.8, \"yref\": \"y\"}], \"showlegend\": true, \"title\": {\"text\": \"Stressers, Main & Sub Categories\"}, \"width\": 900, \"xaxis\": {\"rangeselector\": {\"buttons\": [{\"count\": 7, \"label\": \"1w\", \"step\": \"day\", \"stepmode\": \"backward\"}, {\"count\": 1, \"label\": \"1m\", \"step\": \"month\", \"stepmode\": \"backward\"}, {\"count\": 6, \"label\": \"6m\", \"step\": \"month\", \"stepmode\": \"backward\"}, {\"count\": 1, \"label\": \"YTD\", \"step\": \"year\", \"stepmode\": \"todate\"}, {\"count\": 1, \"label\": \"1y\", \"step\": \"year\", \"stepmode\": \"backward\"}, {\"step\": \"all\"}]}, \"showgrid\": true, \"type\": \"date\", \"zeroline\": false}, \"yaxis\": {\"autorange\": false, \"range\": [-1, 20], \"showgrid\": true, \"showticklabels\": false, \"ticktext\": [\"Was Tailgated\", \"Late arrival\", \"Physical inability\", \"Unpleasant conversation\", \"Difficulty in navigating\", \"Indecision at a traffic intersection\", \"Physical inability\", \"Saw a police car\", \"Saw a police car\", \"Unpleasant conversation\", \"My eating habits\", \"Indecision at a traffic intersection\", \"My eating habits\", \"Was Tailgated\", \"Physical inability\", \"Was Tailgated\", \"Indecision at a traffic intersection\", \"Was Tailgated\", \"Indecision at a traffic intersection\"], \"tickvals\": [0, 1, 2, 3, 4, 5, 6, 7, 8, 9, 10, 11, 12, 13, 14, 15, 16, 17, 18], \"zeroline\": false}},\n",
       "                        {\"showLink\": false, \"linkText\": \"Export to plot.ly\", \"plotlyServerURL\": \"https://plot.ly\", \"responsive\": true}\n",
       "                    ).then(function(){\n",
       "                            \n",
       "var gd = document.getElementById('12d4b09f-6cec-4706-a645-32d2c3eabe12');\n",
       "var x = new MutationObserver(function (mutations, observer) {{\n",
       "        var display = window.getComputedStyle(gd).display;\n",
       "        if (!display || display === 'none') {{\n",
       "            console.log([gd, 'removed!']);\n",
       "            Plotly.purge(gd);\n",
       "            observer.disconnect();\n",
       "        }}\n",
       "}});\n",
       "\n",
       "// Listen for the removal of the full notebook cells\n",
       "var notebookContainer = gd.closest('#notebook-container');\n",
       "if (notebookContainer) {{\n",
       "    x.observe(notebookContainer, {childList: true});\n",
       "}}\n",
       "\n",
       "// Listen for the clearing of the current output cell\n",
       "var outputEl = gd.closest('.output');\n",
       "if (outputEl) {{\n",
       "    x.observe(outputEl, {childList: true});\n",
       "}}\n",
       "\n",
       "                        })\n",
       "                };\n",
       "                });\n",
       "            </script>\n",
       "        </div>"
      ]
     },
     "metadata": {},
     "output_type": "display_data"
    }
   ],
   "source": [
    "stress_stream.plot_stress_gantt()"
   ]
  },
  {
   "cell_type": "markdown",
   "metadata": {},
   "source": [
    "### Sankey diagram\n",
    "A [Sankey diagram](https://en.wikipedia.org/wiki/Sankey_diagram) is utilized to show the flow between different components and, in our case, the breakdown between categories, sub-categories, and activities.   \n",
    "\n",
    "This diagram shows the stressor categories on the left edge and the detailed stress information on the right.  In the middle are the activity classificiations, derived from a smartphone, of what the person was doing at the time of the stress event.  You can move the mouse cursor over the boxes and lines to see the details and highlight a flow within the diagram.  You may see that the events might not be ordered to your liking or that their order could be improved.  Try dragging the boxes up and down to change this order and watch the diagram adjust."
   ]
  },
  {
   "cell_type": "code",
   "execution_count": 6,
   "metadata": {},
   "outputs": [
    {
     "data": {
      "application/vnd.plotly.v1+json": {
       "config": {
        "linkText": "Export to plot.ly",
        "plotlyServerURL": "https://plot.ly",
        "showLink": false
       },
       "data": [
        {
         "link": {
          "source": [
           2,
           1,
           1,
           3,
           3,
           3,
           3,
           3,
           0,
           0,
           6,
           4,
           5
          ],
          "target": [
           3,
           3,
           4,
           7,
           10,
           8,
           11,
           14,
           6,
           5,
           13,
           12,
           9
          ],
          "value": [
           0.5836363636363636,
           0.28,
           0.5,
           0.54,
           0.47,
           0.28,
           0.6,
           0.7,
           0.79,
           0.67,
           0.79,
           0.5,
           0.67
          ]
         },
         "node": {
          "label": [
           "Job",
           "Health",
           "Driving",
           "IN_VEHICLE",
           "STILL",
           "WALKING",
           "ON_FOOT",
           "Difficulty in navigating",
           "My eating habits",
           "Late arrival",
           "Indecision at a traffic intersection",
           "Saw a police car",
           "Physical inability",
           "Unpleasant conversation",
           "Was Tailgated"
          ],
          "line": {
           "color": "black",
           "width": 0.5
          },
          "pad": 15,
          "thickness": 20
         },
         "type": "sankey"
        }
       ],
       "layout": {
        "font": {
         "size": 10
        },
        "title": "Stressers' Sankey Diagram"
       }
      },
      "text/html": [
       "<div>\n",
       "        \n",
       "        \n",
       "            <div id=\"83648cde-15f0-4c69-b2d8-007979cab0e8\" class=\"plotly-graph-div\" style=\"height:525px; width:100%;\"></div>\n",
       "            <script type=\"text/javascript\">\n",
       "                require([\"plotly\"], function(Plotly) {\n",
       "                    window.PLOTLYENV=window.PLOTLYENV || {};\n",
       "                    window.PLOTLYENV.BASE_URL='https://plot.ly';\n",
       "                    \n",
       "                if (document.getElementById(\"83648cde-15f0-4c69-b2d8-007979cab0e8\")) {\n",
       "                    Plotly.newPlot(\n",
       "                        '83648cde-15f0-4c69-b2d8-007979cab0e8',\n",
       "                        [{\"link\": {\"source\": [2, 1, 1, 3, 3, 3, 3, 3, 0, 0, 6, 4, 5], \"target\": [3, 3, 4, 7, 10, 8, 11, 14, 6, 5, 13, 12, 9], \"value\": [0.5836363636363636, 0.28, 0.5, 0.54, 0.47, 0.28, 0.6, 0.7, 0.79, 0.67, 0.79, 0.5, 0.67]}, \"node\": {\"label\": [\"Job\", \"Health\", \"Driving\", \"IN_VEHICLE\", \"STILL\", \"WALKING\", \"ON_FOOT\", \"Difficulty in navigating\", \"My eating habits\", \"Late arrival\", \"Indecision at a traffic intersection\", \"Saw a police car\", \"Physical inability\", \"Unpleasant conversation\", \"Was Tailgated\"], \"line\": {\"color\": \"black\", \"width\": 0.5}, \"pad\": 15, \"thickness\": 20}, \"type\": \"sankey\"}],\n",
       "                        {\"font\": {\"size\": 10}, \"title\": \"Stressers' Sankey Diagram\"},\n",
       "                        {\"showLink\": false, \"linkText\": \"Export to plot.ly\", \"plotlyServerURL\": \"https://plot.ly\", \"responsive\": true}\n",
       "                    ).then(function(){\n",
       "                            \n",
       "var gd = document.getElementById('83648cde-15f0-4c69-b2d8-007979cab0e8');\n",
       "var x = new MutationObserver(function (mutations, observer) {{\n",
       "        var display = window.getComputedStyle(gd).display;\n",
       "        if (!display || display === 'none') {{\n",
       "            console.log([gd, 'removed!']);\n",
       "            Plotly.purge(gd);\n",
       "            observer.disconnect();\n",
       "        }}\n",
       "}});\n",
       "\n",
       "// Listen for the removal of the full notebook cells\n",
       "var notebookContainer = gd.closest('#notebook-container');\n",
       "if (notebookContainer) {{\n",
       "    x.observe(notebookContainer, {childList: true});\n",
       "}}\n",
       "\n",
       "// Listen for the clearing of the current output cell\n",
       "var outputEl = gd.closest('.output');\n",
       "if (outputEl) {{\n",
       "    x.observe(outputEl, {childList: true});\n",
       "}}\n",
       "\n",
       "                        })\n",
       "                };\n",
       "                });\n",
       "            </script>\n",
       "        </div>"
      ]
     },
     "metadata": {},
     "output_type": "display_data"
    }
   ],
   "source": [
    "stress_stream.plot_stress_sankey(cat_cols=[\"stresser_main\",\"activity\",\"stresser_sub\"])"
   ]
  },
  {
   "cell_type": "markdown",
   "metadata": {},
   "source": [
    "### Bar charts\n",
    "Sometimes it is best to utilize bar charts to demonstrate the differences between subsets of participants.  In this example, we show the difference in stress events between the two participants in the example data for each of the four major stressor categories.  This chart is interactive using the mouse and controls to explore the data. The legend labels can be enabled/disabled by clicking on them."
   ]
  },
  {
   "cell_type": "code",
   "execution_count": 7,
   "metadata": {},
   "outputs": [
    {
     "data": {
      "application/vnd.plotly.v1+json": {
       "config": {
        "linkText": "Export to plot.ly",
        "plotlyServerURL": "https://plot.ly",
        "showLink": false
       },
       "data": [
        {
         "name": "a1112de1-ca36-42fc-aabe-7ec45cd552c5",
         "type": "bar",
         "uid": "e9c07d53-c576-4e3c-b1b6-44ecd1006e6f",
         "x": [
          "Driving",
          "Health",
          "Job"
         ],
         "y": [
          0.5820000000000001,
          0.5,
          0.75
         ]
        },
        {
         "name": "b1117354-ce48-4325-b2e3-78b0cc932819",
         "type": "bar",
         "uid": "6b66e3c6-e4d7-4bc8-9144-4c7a96c23a0b",
         "x": [
          "Driving",
          "Health"
         ],
         "y": [
          0.585,
          0.35333333333333333
         ]
        }
       ],
       "layout": {
        "title": {
         "text": "All Participants' Stress Levels By Each Stressors"
        },
        "yaxis": {
         "title": {
          "text": "Average Stress Density"
         }
        }
       }
      },
      "text/html": [
       "<div>\n",
       "        \n",
       "        \n",
       "            <div id=\"e1caf730-7296-40af-8219-cad945d49cb5\" class=\"plotly-graph-div\" style=\"height:525px; width:100%;\"></div>\n",
       "            <script type=\"text/javascript\">\n",
       "                require([\"plotly\"], function(Plotly) {\n",
       "                    window.PLOTLYENV=window.PLOTLYENV || {};\n",
       "                    window.PLOTLYENV.BASE_URL='https://plot.ly';\n",
       "                    \n",
       "                if (document.getElementById(\"e1caf730-7296-40af-8219-cad945d49cb5\")) {\n",
       "                    Plotly.newPlot(\n",
       "                        'e1caf730-7296-40af-8219-cad945d49cb5',\n",
       "                        [{\"name\": \"a1112de1-ca36-42fc-aabe-7ec45cd552c5\", \"type\": \"bar\", \"uid\": \"e9c07d53-c576-4e3c-b1b6-44ecd1006e6f\", \"x\": [\"Driving\", \"Health\", \"Job\"], \"y\": [0.5820000000000001, 0.5, 0.75]}, {\"name\": \"b1117354-ce48-4325-b2e3-78b0cc932819\", \"type\": \"bar\", \"uid\": \"6b66e3c6-e4d7-4bc8-9144-4c7a96c23a0b\", \"x\": [\"Driving\", \"Health\"], \"y\": [0.585, 0.35333333333333333]}],\n",
       "                        {\"title\": {\"text\": \"All Participants' Stress Levels By Each Stressors\"}, \"yaxis\": {\"title\": {\"text\": \"Average Stress Density\"}}},\n",
       "                        {\"showLink\": false, \"linkText\": \"Export to plot.ly\", \"plotlyServerURL\": \"https://plot.ly\", \"responsive\": true}\n",
       "                    ).then(function(){\n",
       "                            \n",
       "var gd = document.getElementById('e1caf730-7296-40af-8219-cad945d49cb5');\n",
       "var x = new MutationObserver(function (mutations, observer) {{\n",
       "        var display = window.getComputedStyle(gd).display;\n",
       "        if (!display || display === 'none') {{\n",
       "            console.log([gd, 'removed!']);\n",
       "            Plotly.purge(gd);\n",
       "            observer.disconnect();\n",
       "        }}\n",
       "}});\n",
       "\n",
       "// Listen for the removal of the full notebook cells\n",
       "var notebookContainer = gd.closest('#notebook-container');\n",
       "if (notebookContainer) {{\n",
       "    x.observe(notebookContainer, {childList: true});\n",
       "}}\n",
       "\n",
       "// Listen for the clearing of the current output cell\n",
       "var outputEl = gd.closest('.output');\n",
       "if (outputEl) {{\n",
       "    x.observe(outputEl, {childList: true});\n",
       "}}\n",
       "\n",
       "                        })\n",
       "                };\n",
       "                });\n",
       "            </script>\n",
       "        </div>"
      ]
     },
     "metadata": {},
     "output_type": "display_data"
    }
   ],
   "source": [
    "stress_stream.plot_stress_bar()"
   ]
  },
  {
   "cell_type": "markdown",
   "metadata": {
    "toc-hr-collapsed": false
   },
   "source": [
    "## Compare stress data among participants(s)\n",
    "\n",
    "There are instances where you may want to compare a participant's values with the population values.  This chart shows the breakdown of average stress induced by each of the sub-categories for a particular participant (`a1112de1-ca36-42fc-aabe-7ec45cd552c5`) when compared with the whole study population.  You can alter the command by changing the `usr_id` to `b1117354-ce48-4325-b2e3-78b0cc932819` or by changing the `x_axis_column` to `stresser_main`.  In the latter case, the graph should match the one directly above due to there only being two participants in the demonstration data."
   ]
  },
  {
   "cell_type": "code",
   "execution_count": 8,
   "metadata": {},
   "outputs": [
    {
     "data": {
      "application/vnd.plotly.v1+json": {
       "config": {
        "linkText": "Export to plot.ly",
        "plotlyServerURL": "https://plot.ly",
        "showLink": false
       },
       "data": [
        {
         "name": "a1112de1-ca36-42fc-aabe-7ec45cd552c5",
         "type": "bar",
         "uid": "da165b09-931e-4cea-922f-33efc5da9666",
         "x": [
          "Difficulty in navigating",
          "Indecision at a traffic intersection",
          "Late arrival",
          "Physical inability",
          "Saw a police car",
          "Unpleasant conversation",
          "Was Tailgated"
         ],
         "y": [
          0.54,
          0.47,
          0.67,
          0.5,
          0.6,
          0.79,
          0.7
         ]
        },
        {
         "name": "All Participants",
         "type": "bar",
         "uid": "07becf5d-a5e7-4fe3-a6c4-6149dcd2a45a",
         "x": [
          "Indecision at a traffic intersection",
          "My eating habits",
          "Physical inability",
          "Was Tailgated"
         ],
         "y": [
          0.47,
          0.28,
          0.5,
          0.6999999999999998
         ]
        }
       ],
       "layout": {
        "title": {
         "text": "Comparison of Stress Levels Amongst Participants"
        },
        "yaxis": {
         "title": {
          "text": "Average Stress Density"
         }
        }
       }
      },
      "text/html": [
       "<div>\n",
       "        \n",
       "        \n",
       "            <div id=\"f8bdeeaf-d645-44a2-9682-3461fc32cf28\" class=\"plotly-graph-div\" style=\"height:525px; width:100%;\"></div>\n",
       "            <script type=\"text/javascript\">\n",
       "                require([\"plotly\"], function(Plotly) {\n",
       "                    window.PLOTLYENV=window.PLOTLYENV || {};\n",
       "                    window.PLOTLYENV.BASE_URL='https://plot.ly';\n",
       "                    \n",
       "                if (document.getElementById(\"f8bdeeaf-d645-44a2-9682-3461fc32cf28\")) {\n",
       "                    Plotly.newPlot(\n",
       "                        'f8bdeeaf-d645-44a2-9682-3461fc32cf28',\n",
       "                        [{\"name\": \"a1112de1-ca36-42fc-aabe-7ec45cd552c5\", \"type\": \"bar\", \"uid\": \"da165b09-931e-4cea-922f-33efc5da9666\", \"x\": [\"Difficulty in navigating\", \"Indecision at a traffic intersection\", \"Late arrival\", \"Physical inability\", \"Saw a police car\", \"Unpleasant conversation\", \"Was Tailgated\"], \"y\": [0.54, 0.47, 0.67, 0.5, 0.6, 0.79, 0.7]}, {\"name\": \"All Participants\", \"type\": \"bar\", \"uid\": \"07becf5d-a5e7-4fe3-a6c4-6149dcd2a45a\", \"x\": [\"Indecision at a traffic intersection\", \"My eating habits\", \"Physical inability\", \"Was Tailgated\"], \"y\": [0.47, 0.28, 0.5, 0.6999999999999998]}],\n",
       "                        {\"title\": {\"text\": \"Comparison of Stress Levels Amongst Participants\"}, \"yaxis\": {\"title\": {\"text\": \"Average Stress Density\"}}},\n",
       "                        {\"showLink\": false, \"linkText\": \"Export to plot.ly\", \"plotlyServerURL\": \"https://plot.ly\", \"responsive\": true}\n",
       "                    ).then(function(){\n",
       "                            \n",
       "var gd = document.getElementById('f8bdeeaf-d645-44a2-9682-3461fc32cf28');\n",
       "var x = new MutationObserver(function (mutations, observer) {{\n",
       "        var display = window.getComputedStyle(gd).display;\n",
       "        if (!display || display === 'none') {{\n",
       "            console.log([gd, 'removed!']);\n",
       "            Plotly.purge(gd);\n",
       "            observer.disconnect();\n",
       "        }}\n",
       "}});\n",
       "\n",
       "// Listen for the removal of the full notebook cells\n",
       "var notebookContainer = gd.closest('#notebook-container');\n",
       "if (notebookContainer) {{\n",
       "    x.observe(notebookContainer, {childList: true});\n",
       "}}\n",
       "\n",
       "// Listen for the clearing of the current output cell\n",
       "var outputEl = gd.closest('.output');\n",
       "if (outputEl) {{\n",
       "    x.observe(outputEl, {childList: true});\n",
       "}}\n",
       "\n",
       "                        })\n",
       "                };\n",
       "                });\n",
       "            </script>\n",
       "        </div>"
      ]
     },
     "metadata": {},
     "output_type": "display_data"
    }
   ],
   "source": [
    "stress_stream.plot_stress_comparison(x_axis_column=\"stresser_sub\",usr_id=\"a1112de1-ca36-42fc-aabe-7ec45cd552c5\")"
   ]
  }
 ],
 "metadata": {
  "kernelspec": {
   "display_name": "Python 3",
   "language": "python",
   "name": "python3"
  },
  "language_info": {
   "codemirror_mode": {
    "name": "ipython",
    "version": 3
   },
   "file_extension": ".py",
   "mimetype": "text/x-python",
   "name": "python",
   "nbconvert_exporter": "python",
   "pygments_lexer": "ipython3",
   "version": "3.6.7"
  }
 },
 "nbformat": 4,
 "nbformat_minor": 4
}
