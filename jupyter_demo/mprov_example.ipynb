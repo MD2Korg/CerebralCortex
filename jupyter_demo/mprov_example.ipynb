{
 "cells": [
  {
   "cell_type": "markdown",
   "metadata": {},
   "source": [
    "# Import required libs"
   ]
  },
  {
   "cell_type": "code",
   "execution_count": 1,
   "metadata": {},
   "outputs": [
    {
     "data": {
      "text/html": [
       "        <script type=\"text/javascript\">\n",
       "        window.PlotlyConfig = {MathJaxConfig: 'local'};\n",
       "        if (window.MathJax) {MathJax.Hub.Config({SVG: {font: \"STIX-Web\"}});}\n",
       "        if (typeof require !== 'undefined') {\n",
       "        require.undef(\"plotly\");\n",
       "        requirejs.config({\n",
       "            paths: {\n",
       "                'plotly': ['https://cdn.plot.ly/plotly-latest.min']\n",
       "            }\n",
       "        });\n",
       "        require(['plotly'], function(Plotly) {\n",
       "            window._Plotly = Plotly;\n",
       "        });\n",
       "        }\n",
       "        </script>\n",
       "        "
      ]
     },
     "metadata": {},
     "output_type": "display_data"
    }
   ],
   "source": [
    "from util.dependencies import *\n",
    "from cerebralcortex.algorithms.gps.clustering import cluster_gps\n",
    "from cerebralcortex.kernel import Kernel"
   ]
  },
  {
   "cell_type": "markdown",
   "metadata": {},
   "source": [
    "# Create CC object to setup required parameters\n",
    "Please enable mprov param in '/cc_conf/cerebralcortex.yml'. mprov: pennprov. You would need to create a user on mprov server first and set the username and password in the '/cc_conf/cerebralcortex.yml'."
   ]
  },
  {
   "cell_type": "code",
   "execution_count": 2,
   "metadata": {},
   "outputs": [],
   "source": [
    "CC = Kernel(\"/home/jovyan/cc_conf/\", study_name=\"default\", mprov=True)"
   ]
  },
  {
   "cell_type": "markdown",
   "metadata": {},
   "source": [
    "# Generate synthetic GPS data"
   ]
  },
  {
   "cell_type": "code",
   "execution_count": 3,
   "metadata": {},
   "outputs": [],
   "source": [
    "ds_gps = gen_location_datastream(user_id=\"bfb2ca0c-e19c-3956-9db2-5459ccadd40c\", stream_name=\"gps--org.md2k.phonesensor--phone\")"
   ]
  },
  {
   "cell_type": "markdown",
   "metadata": {},
   "source": [
    "# Create windows into 60 seconds chunks"
   ]
  },
  {
   "cell_type": "code",
   "execution_count": 4,
   "metadata": {},
   "outputs": [
    {
     "name": "stdout",
     "output_type": "stream",
     "text": [
      "True mprov value\n",
      "GOT INSIDE MPROV\n",
      "CONN <pennprov.connection.mprov_connection.MProvConnection object at 0x7f9211c3e690>\n"
     ]
    },
    {
     "name": "stderr",
     "output_type": "stream",
     "text": [
      "/usr/local/spark/python/pyspark/sql/pandas/group_ops.py:76: UserWarning:\n",
      "\n",
      "It is preferred to use 'applyInPandas' over this API. This API will be deprecated in the future releases. See SPARK-28264 for more details.\n",
      "\n"
     ]
    }
   ],
   "source": [
    "windowed_gps_ds=ds_gps.window(windowDuration=60)\n",
    "gps_clusters=cluster_gps(windowed_gps_ds)"
   ]
  },
  {
   "cell_type": "markdown",
   "metadata": {},
   "source": [
    "# Print Data"
   ]
  },
  {
   "cell_type": "code",
   "execution_count": 5,
   "metadata": {},
   "outputs": [
    {
     "name": "stdout",
     "output_type": "stream",
     "text": [
      "+-------------------+-------------------+--------------------+-------+------------------+------------------+--------+--------+----------+---------+------------------+------------------+-----------+-------------+\n",
      "|          timestamp|          localtime|                user|version|          latitude|         longitude|altitude|   speed|   bearing| accuracy|centroid_longitude| centroid_latitude|centroid_id|centroid_area|\n",
      "+-------------------+-------------------+--------------------+-------+------------------+------------------+--------+--------+----------+---------+------------------+------------------+-----------+-------------+\n",
      "|2019-09-01 13:17:59|2019-09-01 18:17:59|bfb2ca0c-e19c-395...|      1|35.135783466492114|-89.95997408655082|      85|1.114385|220.772382|25.436508|-89.95997408655082|35.135783466492114|          0|          1.0|\n",
      "|2019-09-01 15:17:59|2019-09-01 20:17:59|bfb2ca0c-e19c-395...|      1| 35.15336130281519|-90.03275809640583|      93|3.093628| 47.621761|18.073486|-90.03275809640583| 35.15336130281519|          0|          1.0|\n",
      "|2019-09-01 16:42:59|2019-09-01 21:42:59|bfb2ca0c-e19c-395...|      1| 35.09838502625381|-89.97226658537994|      88| 2.33052|144.172186|23.513436|-89.97226658537994| 35.09838502625381|          0|          1.0|\n",
      "|2019-09-01 17:32:59|2019-09-01 22:32:59|bfb2ca0c-e19c-395...|      1|35.097378506910516|-89.97048188049354|      94|1.680099|246.058328|14.055511|-89.97048188049354|35.097378506910516|          0|          1.0|\n",
      "|2019-09-01 21:24:59|2019-09-02 02:24:59|bfb2ca0c-e19c-395...|      1| 35.16186114180771| -90.0282747942284|      84|0.070401|138.896012| 12.93714| -90.0282747942284| 35.16186114180771|          0|          1.0|\n",
      "|2019-09-01 13:27:59|2019-09-01 18:27:59|bfb2ca0c-e19c-395...|      1| 35.13611964504805|-89.96226562208885|      89|3.735625| 23.667627|24.207215|-89.96226562208885| 35.13611964504805|          0|          1.0|\n",
      "|2019-09-01 15:12:59|2019-09-01 20:12:59|bfb2ca0c-e19c-395...|      1| 35.15513301073706|-90.03230639023303|      89|0.225515|193.683234|19.634318|-90.03230639023303| 35.15513301073706|          0|          1.0|\n",
      "|2019-09-01 18:48:59|2019-09-01 23:48:59|bfb2ca0c-e19c-395...|      1| 35.10000071362467| -89.9723015063654|      99|0.229498|284.193752|14.296575| -89.9723015063654| 35.10000071362467|          0|          1.0|\n",
      "|2019-09-01 19:50:59|2019-09-02 00:50:59|bfb2ca0c-e19c-395...|      1| 35.16180406942202|-90.02686785690081|      98|0.416305|175.858721|22.775536|-90.02686785690081| 35.16180406942202|          0|          1.0|\n",
      "|2019-09-01 21:41:59|2019-09-02 02:41:59|bfb2ca0c-e19c-395...|      1| 35.19550318455015| -89.8790208502773|      89|3.829497| 37.440344|24.134009| -89.8790208502773| 35.19550318455015|          0|          1.0|\n",
      "+-------------------+-------------------+--------------------+-------+------------------+------------------+--------+--------+----------+---------+------------------+------------------+-----------+-------------+\n",
      "only showing top 10 rows\n",
      "\n"
     ]
    }
   ],
   "source": [
    "gps_clusters.show(10)"
   ]
  }
 ],
 "metadata": {
  "kernelspec": {
   "display_name": "Python 3",
   "language": "python",
   "name": "python3"
  },
  "language_info": {
   "codemirror_mode": {
    "name": "ipython",
    "version": 3
   },
   "file_extension": ".py",
   "mimetype": "text/x-python",
   "name": "python",
   "nbconvert_exporter": "python",
   "pygments_lexer": "ipython3",
   "version": "3.7.6"
  }
 },
 "nbformat": 4,
 "nbformat_minor": 4
}
