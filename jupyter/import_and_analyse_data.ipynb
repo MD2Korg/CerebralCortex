{
 "cells": [
  {
   "cell_type": "markdown",
   "metadata": {},
   "source": [
    "# Import Your Own Data"
   ]
  },
  {
   "cell_type": "markdown",
   "metadata": {},
   "source": [
    "## Import Packages"
   ]
  },
  {
   "cell_type": "code",
   "execution_count": 5,
   "metadata": {},
   "outputs": [],
   "source": [
    "%reload_ext autoreload\n",
    "from util.dependencies import *\n",
    "from settings import USER_ID\n",
    "from pyspark.sql.functions import pandas_udf, PandasUDFType\n",
    "from pyspark.sql.types import StructField, StructType, StringType, FloatType, TimestampType, IntegerType\n",
    "from cerebralcortex.data_importer.data_parsers import csv_data_parser\n",
    "from cerebralcortex.data_importer import import_dir\n",
    "from pyspark.sql.functions import minute, second, mean, window\n",
    "from pyspark.sql import functions as F"
   ]
  },
  {
   "cell_type": "markdown",
   "metadata": {},
   "source": [
    "# Import Data"
   ]
  },
  {
   "cell_type": "code",
   "execution_count": null,
   "metadata": {},
   "outputs": [],
   "source": [
    "# import CSV/IoT data (demo stream name - demo-location-data-stream)\n",
    "import_dir(\n",
    "    cc_config=\"/home/md2k/cc_conf/\",\n",
    "    input_data_dir=\"sample_data/\",\n",
    "    user_id=USER_ID,\n",
    "    data_file_extension=[\".csv\"],\n",
    "    data_parser=csv_data_parser,\n",
    "    gen_report=True\n",
    ")"
   ]
  },
  {
   "cell_type": "markdown",
   "metadata": {},
   "source": [
    "## Create CerebralCortex object"
   ]
  },
  {
   "cell_type": "code",
   "execution_count": 2,
   "metadata": {},
   "outputs": [],
   "source": [
    "CC = Kernel(\"/home/md2k/cc_conf/\")"
   ]
  },
  {
   "cell_type": "markdown",
   "metadata": {},
   "source": [
    "## View Imported Data"
   ]
  },
  {
   "cell_type": "code",
   "execution_count": 6,
   "metadata": {},
   "outputs": [
    {
     "name": "stdout",
     "output_type": "stream",
     "text": [
      "+-------------------+-------------------+-------------------+-------+------------------------------------+\n",
      "|timestamp          |localtime          |some_vals          |version|user                                |\n",
      "+-------------------+-------------------+-------------------+-------+------------------------------------+\n",
      "|2019-01-09 17:35:00|2019-01-09 17:35:00|0.0851887269487499 |1      |00000000-afb8-476e-9872-6472b4e66b68|\n",
      "|2019-01-09 17:35:01|2019-01-09 17:35:01|0.16867549655743164|1      |00000000-afb8-476e-9872-6472b4e66b68|\n",
      "|2019-01-09 17:35:02|2019-01-09 17:35:02|0.7404850816560419 |1      |00000000-afb8-476e-9872-6472b4e66b68|\n",
      "|2019-01-09 17:35:03|2019-01-09 17:35:03|0.7131609970182962 |1      |00000000-afb8-476e-9872-6472b4e66b68|\n",
      "|2019-01-09 17:35:04|2019-01-09 17:35:04|0.24253081438369195|1      |00000000-afb8-476e-9872-6472b4e66b68|\n",
      "+-------------------+-------------------+-------------------+-------+------------------------------------+\n",
      "only showing top 5 rows\n",
      "\n"
     ]
    }
   ],
   "source": [
    "iot_stream = CC.get_stream(\"iot-data-stream\")\n",
    "iot_stream.show(5, truncate=False)"
   ]
  },
  {
   "cell_type": "code",
   "execution_count": 7,
   "metadata": {},
   "outputs": [
    {
     "data": {
      "text/plain": [
       "[{\n",
       "     \"annotations\": [],\n",
       "     \"data_descriptor\": [\n",
       "         {\n",
       "             \"name\": \"some_vals\",\n",
       "             \"type\": \"double\"\n",
       "         }\n",
       "     ],\n",
       "     \"description\": \"this is a demo iot look a like stream\",\n",
       "     \"input_streams\": [],\n",
       "     \"modules\": [\n",
       "         {\n",
       "             \"authors\": [\n",
       "                 {\n",
       "                     \"email\": \"demo@demo.com\",\n",
       "                     \"name\": \"demo\"\n",
       "                 }\n",
       "             ],\n",
       "             \"name\": \"cc_examples.import_data\",\n",
       "             \"version\": \"2.0.5\"\n",
       "         }\n",
       "     ],\n",
       "     \"name\": \"iot-data-stream\"\n",
       " }]"
      ]
     },
     "execution_count": 7,
     "metadata": {},
     "output_type": "execute_result"
    }
   ],
   "source": [
    "iot_stream.metadata"
   ]
  },
  {
   "cell_type": "markdown",
   "metadata": {},
   "source": [
    "## Write a smoothing algorithm"
   ]
  },
  {
   "cell_type": "code",
   "execution_count": null,
   "metadata": {},
   "outputs": [],
   "source": []
  },
  {
   "cell_type": "markdown",
   "metadata": {},
   "source": [
    "## Run smoothing algorithm on imported data"
   ]
  },
  {
   "cell_type": "code",
   "execution_count": null,
   "metadata": {},
   "outputs": [],
   "source": []
  },
  {
   "cell_type": "markdown",
   "metadata": {},
   "source": [
    "## Visualize data"
   ]
  },
  {
   "cell_type": "code",
   "execution_count": null,
   "metadata": {},
   "outputs": [],
   "source": []
  }
 ],
 "metadata": {
  "kernelspec": {
   "display_name": "Python 3",
   "language": "python",
   "name": "python3"
  },
  "language_info": {
   "codemirror_mode": {
    "name": "ipython",
    "version": 3
   },
   "file_extension": ".py",
   "mimetype": "text/x-python",
   "name": "python",
   "nbconvert_exporter": "python",
   "pygments_lexer": "ipython3",
   "version": "3.6.6"
  },
  "toc-autonumbering": true
 },
 "nbformat": 4,
 "nbformat_minor": 2
}
