{
 "cells": [
  {
   "cell_type": "markdown",
   "metadata": {
    "toc-hr-collapsed": false
   },
   "source": [
    "# Cerebral Cortex Data Analysis Algorithms\n",
    "Cerebral Cortex contains a library of algorithms that are useful for processing data and converting it into features or biomarkers.  This page demonstrates a simple GPS clustering algorithm.  For more details about the algorithms that are available, please see our [documentation](https://cerebralcortex-kernel.readthedocs.io/en/latest/).  These algorithms are constantly being developed and improved through our own work and the work of other researchers."
   ]
  },
  {
   "cell_type": "markdown",
   "metadata": {},
   "source": [
    "## Initalize the system"
   ]
  },
  {
   "cell_type": "code",
   "execution_count": 1,
   "metadata": {},
   "outputs": [
    {
     "data": {
      "text/html": [
       "        <script type=\"text/javascript\">\n",
       "        window.PlotlyConfig = {MathJaxConfig: 'local'};\n",
       "        if (window.MathJax) {MathJax.Hub.Config({SVG: {font: \"STIX-Web\"}});}\n",
       "        if (typeof require !== 'undefined') {\n",
       "        require.undef(\"plotly\");\n",
       "        requirejs.config({\n",
       "            paths: {\n",
       "                'plotly': ['https://cdn.plot.ly/plotly-latest.min']\n",
       "            }\n",
       "        });\n",
       "        require(['plotly'], function(Plotly) {\n",
       "            window._Plotly = Plotly;\n",
       "        });\n",
       "        }\n",
       "        </script>\n",
       "        "
      ]
     },
     "metadata": {},
     "output_type": "display_data"
    }
   ],
   "source": [
    "%reload_ext autoreload\n",
    "from util.dependencies import *\n",
    "\n",
    "CC = Kernel(\"/home/jovyan/cc_conf/\", study_name=\"default\")"
   ]
  },
  {
   "cell_type": "markdown",
   "metadata": {},
   "source": [
    "## Generate some sample location data\n",
    "\n",
    "This example utilizes a data generator to protect the privacy of real participants and allows for anyone utilizing this system to explore the data without required institutional review board approvals. This is disabled for this demonstration to not create too much data at once."
   ]
  },
  {
   "cell_type": "code",
   "execution_count": 3,
   "metadata": {},
   "outputs": [],
   "source": [
    "gps_stream = gen_location_datastream(user_id=USER_ID, stream_name=\"GPS--org.md2k.phonesensor--PHONE\")"
   ]
  },
  {
   "cell_type": "code",
   "execution_count": 10,
   "metadata": {},
   "outputs": [
    {
     "name": "stdout",
     "output_type": "stream",
     "text": [
      "root\n",
      " |-- timestamp: timestamp (nullable = true)\n",
      " |-- localtime: timestamp (nullable = true)\n",
      " |-- user: string (nullable = true)\n",
      " |-- version: long (nullable = true)\n",
      " |-- latitude: double (nullable = true)\n",
      " |-- longitude: double (nullable = true)\n",
      " |-- altitude: long (nullable = true)\n",
      " |-- speed: double (nullable = true)\n",
      " |-- bearing: double (nullable = true)\n",
      " |-- accuracy: double (nullable = true)\n",
      "\n",
      "+-------------------+-------------------+--------------------+-------+-----------------+------------------+--------+--------+----------+---------+\n",
      "|          timestamp|          localtime|                user|version|         latitude|         longitude|altitude|   speed|   bearing| accuracy|\n",
      "+-------------------+-------------------+--------------------+-------+-----------------+------------------+--------+--------+----------+---------+\n",
      "|2019-09-01 11:35:59|2019-09-01 16:35:59|00000000-afb8-476...|      1|35.11071115468912|   -90.02262837146|      93|2.370432|159.166668| 24.43889|\n",
      "|2019-09-01 11:36:59|2019-09-01 16:36:59|00000000-afb8-476...|      1|35.11179661674077|-90.02236573611306|      93|4.808776|148.486539|25.182138|\n",
      "|2019-09-01 11:37:59|2019-09-01 16:37:59|00000000-afb8-476...|      1|35.11147882254893|-90.02160130729754|      95|1.663435|  4.600978|14.806869|\n",
      "+-------------------+-------------------+--------------------+-------+-----------------+------------------+--------+--------+----------+---------+\n",
      "only showing top 3 rows\n",
      "\n"
     ]
    }
   ],
   "source": [
    "gps_stream.printSchema()\n",
    "gps_stream.show(3)"
   ]
  },
  {
   "cell_type": "markdown",
   "metadata": {},
   "source": [
    "## Cluster the location data\n",
    "Cerebral Cortex makes it easy to apply built-in algorithms to data streams.  In this case, `gps_clusters` is imported from the algorithm library, then `compute` is utilized to run this algorithm on the `gps_stream` to generate a set of centroids. This is the general format for applying algorithm to datastream and makes it easy for researchers to apply validated and tested algorithms to his/her own data without the need to become an expert in the particular set of transformations needed.  \n",
    "\n",
    "_Note:_ the `compute` method engages the parallel computation capabilities of Cerebral Cortex, which causes all the data to be read from the data storage layer and processed on every computational core available to the system.  This allows the computation to run as quickly as possible and to take advantage of powerful clusters from a relatively simple interface.  This capability is critical to working with mobile sensor big data where data sizes can exceed 100s of gigabytes per datastream for larger studies."
   ]
  },
  {
   "cell_type": "code",
   "execution_count": 9,
   "metadata": {},
   "outputs": [
    {
     "name": "stderr",
     "output_type": "stream",
     "text": [
      "2020-11-10 21:19:16,250 WARNING Retrying (Retry(total=2, connect=None, read=None, redirect=None, status=None)) after connection broken by 'NewConnectionError('<urllib3.connection.HTTPConnection object at 0x7f67739e75b0>: Failed to establish a new connection: [Errno -2] Name or service not known')': /auth/tokens/demo\n",
      "2020-11-10 21:19:16,250 WARNING Retrying (Retry(total=2, connect=None, read=None, redirect=None, status=None)) after connection broken by 'NewConnectionError('<urllib3.connection.HTTPConnection object at 0x7f67739e75b0>: Failed to establish a new connection: [Errno -2] Name or service not known')': /auth/tokens/demo\n",
      "2020-11-10 21:19:16,250 WARNING Retrying (Retry(total=2, connect=None, read=None, redirect=None, status=None)) after connection broken by 'NewConnectionError('<urllib3.connection.HTTPConnection object at 0x7f67739e75b0>: Failed to establish a new connection: [Errno -2] Name or service not known')': /auth/tokens/demo\n",
      "2020-11-10 21:19:16,250 WARNING Retrying (Retry(total=2, connect=None, read=None, redirect=None, status=None)) after connection broken by 'NewConnectionError('<urllib3.connection.HTTPConnection object at 0x7f67739e75b0>: Failed to establish a new connection: [Errno -2] Name or service not known')': /auth/tokens/demo\n",
      "2020-11-10 21:19:16,250 WARNING Retrying (Retry(total=2, connect=None, read=None, redirect=None, status=None)) after connection broken by 'NewConnectionError('<urllib3.connection.HTTPConnection object at 0x7f67739e75b0>: Failed to establish a new connection: [Errno -2] Name or service not known')': /auth/tokens/demo\n",
      "2020-11-10 21:19:16,258 WARNING Retrying (Retry(total=1, connect=None, read=None, redirect=None, status=None)) after connection broken by 'NewConnectionError('<urllib3.connection.HTTPConnection object at 0x7f67739e7e20>: Failed to establish a new connection: [Errno -2] Name or service not known')': /auth/tokens/demo\n",
      "2020-11-10 21:19:16,258 WARNING Retrying (Retry(total=1, connect=None, read=None, redirect=None, status=None)) after connection broken by 'NewConnectionError('<urllib3.connection.HTTPConnection object at 0x7f67739e7e20>: Failed to establish a new connection: [Errno -2] Name or service not known')': /auth/tokens/demo\n",
      "2020-11-10 21:19:16,258 WARNING Retrying (Retry(total=1, connect=None, read=None, redirect=None, status=None)) after connection broken by 'NewConnectionError('<urllib3.connection.HTTPConnection object at 0x7f67739e7e20>: Failed to establish a new connection: [Errno -2] Name or service not known')': /auth/tokens/demo\n",
      "2020-11-10 21:19:16,258 WARNING Retrying (Retry(total=1, connect=None, read=None, redirect=None, status=None)) after connection broken by 'NewConnectionError('<urllib3.connection.HTTPConnection object at 0x7f67739e7e20>: Failed to establish a new connection: [Errno -2] Name or service not known')': /auth/tokens/demo\n",
      "2020-11-10 21:19:16,258 WARNING Retrying (Retry(total=1, connect=None, read=None, redirect=None, status=None)) after connection broken by 'NewConnectionError('<urllib3.connection.HTTPConnection object at 0x7f67739e7e20>: Failed to establish a new connection: [Errno -2] Name or service not known')': /auth/tokens/demo\n",
      "2020-11-10 21:19:16,264 WARNING Retrying (Retry(total=0, connect=None, read=None, redirect=None, status=None)) after connection broken by 'NewConnectionError('<urllib3.connection.HTTPConnection object at 0x7f67739e7280>: Failed to establish a new connection: [Errno -2] Name or service not known')': /auth/tokens/demo\n",
      "2020-11-10 21:19:16,264 WARNING Retrying (Retry(total=0, connect=None, read=None, redirect=None, status=None)) after connection broken by 'NewConnectionError('<urllib3.connection.HTTPConnection object at 0x7f67739e7280>: Failed to establish a new connection: [Errno -2] Name or service not known')': /auth/tokens/demo\n",
      "2020-11-10 21:19:16,264 WARNING Retrying (Retry(total=0, connect=None, read=None, redirect=None, status=None)) after connection broken by 'NewConnectionError('<urllib3.connection.HTTPConnection object at 0x7f67739e7280>: Failed to establish a new connection: [Errno -2] Name or service not known')': /auth/tokens/demo\n",
      "2020-11-10 21:19:16,264 WARNING Retrying (Retry(total=0, connect=None, read=None, redirect=None, status=None)) after connection broken by 'NewConnectionError('<urllib3.connection.HTTPConnection object at 0x7f67739e7280>: Failed to establish a new connection: [Errno -2] Name or service not known')': /auth/tokens/demo\n",
      "2020-11-10 21:19:16,264 WARNING Retrying (Retry(total=0, connect=None, read=None, redirect=None, status=None)) after connection broken by 'NewConnectionError('<urllib3.connection.HTTPConnection object at 0x7f67739e7280>: Failed to establish a new connection: [Errno -2] Name or service not known')': /auth/tokens/demo\n"
     ]
    },
    {
     "name": "stdout",
     "output_type": "stream",
     "text": [
      "root\n",
      " |-- timestamp: timestamp (nullable = true)\n",
      " |-- localtime: timestamp (nullable = true)\n",
      " |-- user: string (nullable = true)\n",
      " |-- version: long (nullable = true)\n",
      " |-- latitude: double (nullable = true)\n",
      " |-- longitude: double (nullable = true)\n",
      " |-- altitude: long (nullable = true)\n",
      " |-- speed: double (nullable = true)\n",
      " |-- bearing: double (nullable = true)\n",
      " |-- accuracy: double (nullable = true)\n",
      " |-- centroid_longitude: double (nullable = true)\n",
      " |-- centroid_latitude: double (nullable = true)\n",
      " |-- centroid_id: integer (nullable = true)\n",
      " |-- centroid_area: double (nullable = true)\n",
      "\n",
      "+-------------------+-------------------+------------------------------------+-------+------------------+------------------+--------+--------+----------+---------+------------------+------------------+-----------+------------------+\n",
      "|timestamp          |localtime          |user                                |version|latitude          |longitude         |altitude|speed   |bearing   |accuracy |centroid_longitude|centroid_latitude |centroid_id|centroid_area     |\n",
      "+-------------------+-------------------+------------------------------------+-------+------------------+------------------+--------+--------+----------+---------+------------------+------------------+-----------+------------------+\n",
      "|2019-09-01 11:35:59|2019-09-01 16:35:59|00000000-afb8-476e-9872-6472b4e66b68|1      |35.11071115468912 |-90.02262837146   |93      |2.370432|159.166668|24.43889 |-90.02195900764747|35.11118539236531 |0          |916.3806468162616 |\n",
      "|2019-09-01 11:36:59|2019-09-01 16:36:59|00000000-afb8-476e-9872-6472b4e66b68|1      |35.11179661674077 |-90.02236573611306|93      |4.808776|148.486539|25.182138|-90.02195900764747|35.11118539236531 |0          |916.3806468162616 |\n",
      "|2019-09-01 11:37:59|2019-09-01 16:37:59|00000000-afb8-476e-9872-6472b4e66b68|1      |35.11147882254893 |-90.02160130729754|95      |1.663435|4.600978  |14.806869|-90.02195900764747|35.11118539236531 |0          |916.3806468162616 |\n",
      "|2019-09-01 11:38:59|2019-09-01 16:38:59|00000000-afb8-476e-9872-6472b4e66b68|1      |35.11245223126598 |-90.02017657557555|94      |4.149069|27.710648 |19.297144|-90.02017657557555|35.11245223126598 |1          |1.0               |\n",
      "|2019-09-01 11:39:59|2019-09-01 16:39:59|00000000-afb8-476e-9872-6472b4e66b68|1      |35.10964757478164 |-90.02169906630192|85      |3.154025|218.712521|29.526998|-90.02169906630192|35.10964757478164 |2          |259.51514942698975|\n",
      "|2019-09-01 11:40:59|2019-09-01 16:40:59|00000000-afb8-476e-9872-6472b4e66b68|1      |35.11081129525486 |-90.02213415620164|96      |1.0781  |33.229022 |11.8697  |-90.02195900764747|35.11118539236531 |0          |916.3806468162616 |\n",
      "|2019-09-01 11:41:59|2019-09-01 16:41:59|00000000-afb8-476e-9872-6472b4e66b68|1      |35.111337172640226|-90.02205063210303|94      |1.131184|98.248638 |25.255933|-90.02195900764747|35.11118539236531 |0          |916.3806468162616 |\n",
      "|2019-09-01 11:42:59|2019-09-01 16:42:59|00000000-afb8-476e-9872-6472b4e66b68|1      |35.10984106962499 |-90.0221262900251 |92      |4.449356|53.028639 |30.056034|-90.02195900764747|35.11118539236531 |0          |916.3806468162616 |\n",
      "|2019-09-01 11:43:59|2019-09-01 16:43:59|00000000-afb8-476e-9872-6472b4e66b68|1      |35.10934646014877 |-90.02187184416647|85      |0.860569|144.670042|23.901079|-90.02169906630192|35.10964757478164 |2          |259.51514942698975|\n",
      "|2019-09-01 11:44:59|2019-09-01 16:44:59|00000000-afb8-476e-9872-6472b4e66b68|1      |35.11290711784058 |-90.02335329264385|83      |1.714482|29.819341 |26.868112|-90.02335329264385|35.11290711784058 |3          |1.0               |\n",
      "|2019-09-01 11:45:59|2019-09-01 16:45:59|00000000-afb8-476e-9872-6472b4e66b68|1      |35.11101334510189 |-90.02070440634213|84      |0.241431|342.023923|11.754548|-90.02195900764747|35.11118539236531 |0          |916.3806468162616 |\n",
      "|2019-09-01 11:46:59|2019-09-01 16:46:59|00000000-afb8-476e-9872-6472b4e66b68|1      |35.110049039270045|-90.02229620485713|84      |2.023957|247.233799|15.534706|-90.02195900764747|35.11118539236531 |0          |916.3806468162616 |\n",
      "|2019-09-01 11:47:59|2019-09-01 16:47:59|00000000-afb8-476e-9872-6472b4e66b68|1      |35.110700600317934|-90.0217813022014 |85      |4.336233|227.04707 |21.017679|-90.02195900764747|35.11118539236531 |0          |916.3806468162616 |\n",
      "|2019-09-01 11:48:59|2019-09-01 16:48:59|00000000-afb8-476e-9872-6472b4e66b68|1      |35.111498190660214|-90.02140416122575|86      |2.961068|115.184564|13.581587|-90.02195900764747|35.11118539236531 |0          |916.3806468162616 |\n",
      "|2019-09-01 11:49:59|2019-09-01 16:49:59|00000000-afb8-476e-9872-6472b4e66b68|1      |35.110004691651994|-90.02339656698254|87      |3.543833|304.243992|24.268794|-90.02339656698254|35.110004691651994|4          |1.0               |\n",
      "|2019-09-01 11:50:59|2019-09-01 16:50:59|00000000-afb8-476e-9872-6472b4e66b68|1      |35.11130793823039 |-90.02283519859532|93      |3.88252 |107.521016|13.267216|-90.02195900764747|35.11118539236531 |0          |916.3806468162616 |\n",
      "|2019-09-01 11:51:59|2019-09-01 16:51:59|00000000-afb8-476e-9872-6472b4e66b68|1      |35.11024086157653 |-90.01998383625613|98      |2.944436|152.144944|17.932909|-90.01994037280976|35.110449500636655|5          |1.0               |\n",
      "|2019-09-01 11:52:59|2019-09-01 16:52:59|00000000-afb8-476e-9872-6472b4e66b68|1      |35.11124158892612 |-90.02304425358145|89      |4.464265|312.686235|22.026614|-90.02195900764747|35.11118539236531 |0          |916.3806468162616 |\n",
      "|2019-09-01 11:53:59|2019-09-01 16:53:59|00000000-afb8-476e-9872-6472b4e66b68|1      |35.111337024005316|-90.023119397881  |84      |4.56855 |124.005141|25.824243|-90.02195900764747|35.11118539236531 |0          |916.3806468162616 |\n",
      "|2019-09-01 11:54:59|2019-09-01 16:54:59|00000000-afb8-476e-9872-6472b4e66b68|1      |35.110449500636655|-90.01994037280976|88      |0.048959|246.427158|28.682169|-90.01994037280976|35.110449500636655|5          |1.0               |\n",
      "+-------------------+-------------------+------------------------------------+-------+------------------+------------------+--------+--------+----------+---------+------------------+------------------+-----------+------------------+\n",
      "only showing top 20 rows\n",
      "\n"
     ]
    }
   ],
   "source": [
    "from cerebralcortex.algorithms.gps.clustering import cluster_gps\n",
    "windowed_gps = gps_stream.window()\n",
    "clusters = cluster_gps(windowed_gps)\n",
    "clusters.printSchema()\n",
    "clusters.show(truncate=False)"
   ]
  },
  {
   "cell_type": "markdown",
   "metadata": {},
   "source": [
    "## Visualize GPS Data"
   ]
  },
  {
   "cell_type": "markdown",
   "metadata": {},
   "source": [
    "### GPS Stream Plot\n",
    "GPS visualization requires dedicated plotting capabilities. Cerebral Cortex includes a library to allow for interactive exploration.  In this plot, use your mouse to drag the map around along with zooming in to explore the specific data points."
   ]
  },
  {
   "cell_type": "code",
   "execution_count": 4,
   "metadata": {},
   "outputs": [
    {
     "name": "stderr",
     "output_type": "stream",
     "text": [
      "/opt/conda/lib/python3.8/site-packages/pkg_resources/__init__.py:1149: DeprecationWarning:\n",
      "\n",
      "Use of .. or absolute path in a resource path is not allowed and will raise exceptions in a future release.\n",
      "\n",
      "/opt/conda/lib/python3.8/site-packages/pkg_resources/__init__.py:1149: DeprecationWarning:\n",
      "\n",
      "Use of .. or absolute path in a resource path is not allowed and will raise exceptions in a future release.\n",
      "\n"
     ]
    },
    {
     "data": {
      "application/vnd.jupyter.widget-view+json": {
       "model_id": "91e9a7cd8d944ff89c93e1a28ab5d584",
       "version_major": 2,
       "version_minor": 0
      },
      "text/plain": [
       "Map(center=[35.138435299492656, -89.97256596521798], controls=(ZoomControl(options=['position', 'zoom_in_text'…"
      ]
     },
     "metadata": {},
     "output_type": "display_data"
    }
   ],
   "source": [
    "from cerebralcortex.plotting.gps.plots import plot_gps_clusters\n",
    "plot_gps_clusters(clusters, user_id=USER_ID, zoom=8)"
   ]
  },
  {
   "cell_type": "code",
   "execution_count": null,
   "metadata": {},
   "outputs": [],
   "source": []
  }
 ],
 "metadata": {
  "kernelspec": {
   "display_name": "Python 3",
   "language": "python",
   "name": "python3"
  },
  "language_info": {
   "codemirror_mode": {
    "name": "ipython",
    "version": 3
   },
   "file_extension": ".py",
   "mimetype": "text/x-python",
   "name": "python",
   "nbconvert_exporter": "python",
   "pygments_lexer": "ipython3",
   "version": "3.8.4"
  },
  "toc-autonumbering": true,
  "toc-showmarkdowntxt": true
 },
 "nbformat": 4,
 "nbformat_minor": 4
}
