{
 "cells": [
  {
   "cell_type": "markdown",
   "metadata": {
    "toc-hr-collapsed": false
   },
   "source": [
    "# Interacting with CerebralCortex Data\n",
    "\n",
    "Cerebral Cortex is MD2K's big data cloud tool designed to support population-scale data analysis, visualization, model development, and intervention design for mobile sensor data. It provides the ability to do machine learning model development on population scale data sets and provides interoperable interfaces for aggregation of diverse data sources.\n",
    "\n",
    "This page provides an overview of the core Cerebral Cortex operations to familiarilze you with how to discover and interact with different sources of data that could be contained within the system.\n",
    "\n",
    "Note: While some of these examples are showing generated data, they are designed to function on real-world mCerebrum data and the signal generators were built to facilitate the testing and evaluation of the Cerebral Cortex platform by those individuals that are unable to see those original datasets."
   ]
  },
  {
   "cell_type": "markdown",
   "metadata": {},
   "source": [
    "## Import packages\n",
    "Python projects always require a number of imports and the specifics are located in the `util/dependencies.py` file.  The `settings` import specifies the specific `USER_ID` that it utilized within the system.  These _ids_ are the unique user identifiers within Cerebral Cortex."
   ]
  },
  {
   "cell_type": "code",
   "execution_count": 1,
   "metadata": {},
   "outputs": [
    {
     "data": {
      "text/html": [
       "<script type=\"text/javascript\">window.PlotlyConfig = {MathJaxConfig: 'local'};</script><script type=\"text/javascript\">if (window.MathJax) {MathJax.Hub.Config({SVG: {font: \"STIX-Web\"}});}</script><script>requirejs.config({paths: { 'plotly': ['https://cdn.plot.ly/plotly-latest.min']},});if(!window._Plotly) {require(['plotly'],function(plotly) {window._Plotly=plotly;});}</script>"
      ],
      "text/vnd.plotly.v1+html": [
       "<script type=\"text/javascript\">window.PlotlyConfig = {MathJaxConfig: 'local'};</script><script type=\"text/javascript\">if (window.MathJax) {MathJax.Hub.Config({SVG: {font: \"STIX-Web\"}});}</script><script>requirejs.config({paths: { 'plotly': ['https://cdn.plot.ly/plotly-latest.min']},});if(!window._Plotly) {require(['plotly'],function(plotly) {window._Plotly=plotly;});}</script>"
      ]
     },
     "metadata": {},
     "output_type": "display_data"
    },
    {
     "data": {
      "text/html": [
       "<script type=\"text/javascript\">window.PlotlyConfig = {MathJaxConfig: 'local'};</script><script type=\"text/javascript\">if (window.MathJax) {MathJax.Hub.Config({SVG: {font: \"STIX-Web\"}});}</script><script>requirejs.config({paths: { 'plotly': ['https://cdn.plot.ly/plotly-latest.min']},});if(!window._Plotly) {require(['plotly'],function(plotly) {window._Plotly=plotly;});}</script>"
      ],
      "text/vnd.plotly.v1+html": [
       "<script type=\"text/javascript\">window.PlotlyConfig = {MathJaxConfig: 'local'};</script><script type=\"text/javascript\">if (window.MathJax) {MathJax.Hub.Config({SVG: {font: \"STIX-Web\"}});}</script><script>requirejs.config({paths: { 'plotly': ['https://cdn.plot.ly/plotly-latest.min']},});if(!window._Plotly) {require(['plotly'],function(plotly) {window._Plotly=plotly;});}</script>"
      ]
     },
     "metadata": {},
     "output_type": "display_data"
    }
   ],
   "source": [
    "%reload_ext autoreload\n",
    "from util.dependencies import *\n",
    "from settings import USER_ID"
   ]
  },
  {
   "cell_type": "markdown",
   "metadata": {},
   "source": [
    "## Create CerebralCortex object\n",
    "The __Kernel__ object is the main entry point to the Cerebral Cortex system and it is necessary to pass in a configuration directory that tells it all the different parameters it needs to communicate with all of its other components.  You can exampine the details of these configurations for this server by looking at the files contained in the `conf` folder."
   ]
  },
  {
   "cell_type": "code",
   "execution_count": 2,
   "metadata": {},
   "outputs": [],
   "source": [
    "CC = Kernel(\"/home/md2k/cc_conf/\")"
   ]
  },
  {
   "cell_type": "markdown",
   "metadata": {},
   "source": [
    "## Getting help\n",
    "These are the typical ways to learn more about the code and objects within Cerebral Cortex.\n",
    "1. Intelligent context help by typing the object or class into a cell followed by the period, `.`, then when you press `<tab>` a popup will appear showing additional information about the object or method.\n",
    "2. Formatting the commands with a question mark retrieves the documentation strings and examples when appropriate.  `? CC.list_streams`\n",
    "3. Reading the documentation on our site: https://cerebralcortex-kernel.readthedocs.io/en/latest/"
   ]
  },
  {
   "cell_type": "code",
   "execution_count": null,
   "metadata": {},
   "outputs": [],
   "source": [
    "# CC.\n",
    "\n",
    "? CC.list_streams\n"
   ]
  },
  {
   "cell_type": "markdown",
   "metadata": {},
   "source": [
    "## Generate some sample phone battery data\n",
    "This helper method utilizes Cerebral Cortex (`CC`), the `USER_ID`, and a `stream_name` to generate fake data for for the purposes of these examples.  If you have real-world data, this step can be skipped and your stream names adjusted to make your dataset."
   ]
  },
  {
   "cell_type": "code",
   "execution_count": null,
   "metadata": {},
   "outputs": [],
   "source": [
    "gen_phone_battery_data(CC, user_id=USER_ID, stream_name=\"BATTERY--org.md2k.phonesensor--PHONE\")"
   ]
  },
  {
   "cell_type": "markdown",
   "metadata": {},
   "source": [
    "## List available streams in CC\n",
    "One of the first things a researcher wants to know is what information is available to explore.  The kernel offers a couple of methods to facilitate this and the first, `list_streams`, is to list all the streams within the system.  For larger deployments, this list may be too large to easily sort through or you are interested in a specific type of information where the `search_stream` capability would be more applicable."
   ]
  },
  {
   "cell_type": "code",
   "execution_count": null,
   "metadata": {},
   "outputs": [],
   "source": [
    "streams = CC.list_streams()\n",
    "for stream in streams:\n",
    "    print(stream.name)"
   ]
  },
  {
   "cell_type": "markdown",
   "metadata": {},
   "source": [
    "### Search streams by name\n",
    "This search returns streams that have a substring match of the search string."
   ]
  },
  {
   "cell_type": "code",
   "execution_count": null,
   "metadata": {},
   "outputs": [],
   "source": [
    "results = CC.search_stream(\"battery\")\n",
    "for result in results:\n",
    "    print(result)"
   ]
  },
  {
   "cell_type": "markdown",
   "metadata": {},
   "source": [
    "## Get stream data\n",
    "Once a stream is identifier by name, it needs to be loaded into a `DataStream` object by calling `get_stream`.  This pulls into a single object all the metadata associated with the stream as well as a reference to the data so that it can be accessed as needed."
   ]
  },
  {
   "cell_type": "code",
   "execution_count": null,
   "metadata": {},
   "outputs": [],
   "source": [
    "data_stream = CC.get_stream(\"BATTERY--org.md2k.phonesensor--PHONE\")"
   ]
  },
  {
   "cell_type": "markdown",
   "metadata": {},
   "source": [
    "## Print stream data\n",
    "Any datastream can be printed or visualized to screen; however, it is important to limit, in this case to 3, the number of rows to show.  Streams can contain millions to billions of samples depending on the size of the system and even for the case of a single individual wearing a motion-capture band, this number can exceed 30,000,000 samples for a short 2 week study.  Cerebral Cortex defaults to settings that try to not load all the data unless needed.\n",
    "\n",
    "This example is printing our the first 3 rows of the loaded battery stream and it contains 5 columns. \n",
    "- __timestamp__: This is the time in UTC that the sample was recorded at\n",
    "- __localtime__: This is the time in the local timezone that the sample was recorded at\n",
    "- __battery_level__: This is the battery percentage of the smartphone device\n",
    "- __version__: This is the Cerebral Cortex version code assigned to this stream.\n",
    "- __user__: This is the specific UUID that identifies the user that owns this data point"
   ]
  },
  {
   "cell_type": "code",
   "execution_count": null,
   "metadata": {},
   "outputs": [],
   "source": [
    "data_stream.show(3, truncate=False) "
   ]
  },
  {
   "cell_type": "markdown",
   "metadata": {},
   "source": [
    "## Print stream metadata\n",
    "Each stream contains \n",
    "\n",
    "- __name__: The complete string name of this stream\n",
    "- __description__: A text description of this stream\n",
    "- __data_descriptor__: A list of objects that describe the data components of the stream (e.g. battery_level)\n",
    "    - ...\n",
    "    - __name__: data descriptor name\n",
    "    - __type__: the object type (e.g. integer, float, string, ...)\n",
    "    - __optional_fields__: any number of arbitrary fields can be added when creating a stream and will appear here \n",
    "    - ...\n",
    "- __modules__\n",
    "    - **<TODO> DETAILS HERE TWH**"
   ]
  },
  {
   "cell_type": "code",
   "execution_count": null,
   "metadata": {},
   "outputs": [],
   "source": [
    "metadata = data_stream.get_metadata(version=1)\n",
    "print(metadata)"
   ]
  },
  {
   "cell_type": "markdown",
   "metadata": {},
   "source": [
    "## Filter Data\n",
    "\n",
    "Cerebral Cortex returns all data associated with a stream name which is great for performing operations and intial exploration; however, it allows for the filtering of these streams of data to isolate certain criterias."
   ]
  },
  {
   "cell_type": "markdown",
   "metadata": {},
   "source": [
    "### Filter data by data column\n",
    "The first major filtering capability allows for named columns to have logical operations applied to them. The `filter` method is applicable to the data stream object and accepts three parameters.  \n",
    "- column name: (e.g. battery_level)\n",
    "- operation: (e.g. >, <, ==, >=, ...)\n",
    "- criteria: (e.g. 97)\n",
    "\n"
   ]
  },
  {
   "cell_type": "code",
   "execution_count": null,
   "metadata": {},
   "outputs": [],
   "source": [
    "filtered_data = data_stream.filter(\"battery_level\", \">\", 97)\n",
    "filtered_data.show(3,truncate=False)"
   ]
  },
  {
   "cell_type": "markdown",
   "metadata": {},
   "source": [
    "### Filter data by user\n",
    "User filtering is a special case due to the way Cerebral Cortex stores data and a dedicated method, `filter_user`, is provided which accepts a single `USER_ID` as input.  This example illustrate filtering by the earlier provided user id."
   ]
  },
  {
   "cell_type": "code",
   "execution_count": null,
   "metadata": {},
   "outputs": [],
   "source": [
    "filtered_user_data = data_stream.filter_user(\"00000000-afb8-476e-9872-6472b4e66b68\")\n",
    "filtered_user_data.show(3,truncate=False)"
   ]
  },
  {
   "cell_type": "markdown",
   "metadata": {},
   "source": [
    "### Filter data by version\n",
    "Versiion filtering is a special case due to the way Cerebral Cortex stores data and a dedicated method, `filter_version`, is provided which accepts a single version as input. "
   ]
  },
  {
   "cell_type": "code",
   "execution_count": null,
   "metadata": {},
   "outputs": [],
   "source": [
    "filtered_version_data = data_stream.filter_version(1)\n",
    "filtered_version_data.show(3,truncate=False)"
   ]
  },
  {
   "cell_type": "markdown",
   "metadata": {},
   "source": [
    "## Convert stream data object into Pandas data object\n",
    "The data representations and visualizations that have been shown so far provide a way for data inspections; however, these are not directly suitable for more complex interactions or analysis.  Cerebral Cortex provide a `to_pandas` method to transform the datastream data into a [Pandas](https://pandas.pydata.org/) dataframe object. From this point, anything that Pandas can do is supported.\n"
   ]
  },
  {
   "cell_type": "code",
   "execution_count": null,
   "metadata": {},
   "outputs": [],
   "source": [
    "pdf = data_stream.to_pandas()\n",
    "pdf.data"
   ]
  },
  {
   "cell_type": "markdown",
   "metadata": {},
   "source": [
    "## Plot stream data\n",
    "Visualization is a key part to gaining an understanding of the data and performing data analysis.  The data stream contains a set of basic ploting operations that are accessible through the `.plot()` method or through dedicated mechanisms.  Please see the `plotting_demo` tutorial page for a complete set of plotting examples"
   ]
  },
  {
   "cell_type": "code",
   "execution_count": null,
   "metadata": {},
   "outputs": [],
   "source": [
    "data_stream.plot()"
   ]
  },
  {
   "cell_type": "markdown",
   "metadata": {},
   "source": [
    "## Compute some basic stats\n",
    "Cerebral Cortex provides computationally effient helper functions for computing basic statistics over the data stream. These are the methods include: _average, sqrt, sum, variance, stddev, min, max_\n",
    "\n",
    "**TWH: Why windows? why 60s? how do I control this?**\n",
    "**TWH I think this needs more fleshing out**"
   ]
  },
  {
   "cell_type": "code",
   "execution_count": null,
   "metadata": {},
   "outputs": [],
   "source": [
    "average = data_stream.compute_average()\n",
    "average.show(4, False)\n",
    "\n",
    "minimum = data_stream.compute_min()\n",
    "minimum.show(4, False)"
   ]
  },
  {
   "cell_type": "markdown",
   "metadata": {},
   "source": [
    "## Perform windowing operation on data\n",
    "Many times it is preferable to group the data into windows before applying an algorithm or computation to the data.  The basic windowing function groups data into non-overlapping chunks and returns a data stream with each cell containing all the data associated with that particular window."
   ]
  },
  {
   "cell_type": "code",
   "execution_count": null,
   "metadata": {},
   "outputs": [],
   "source": [
    "windowed_data = data_stream.window(windowDuration=60)\n",
    "windowed_data.show(3)"
   ]
  },
  {
   "cell_type": "markdown",
   "metadata": {},
   "source": [
    "### Sliding windows\n",
    "Another common windowing technique can be accomplished by adding an `offset` parameter to the parameter list to cause the windows to move by a partial window size instead of the whole window."
   ]
  },
  {
   "cell_type": "code",
   "execution_count": null,
   "metadata": {},
   "outputs": [],
   "source": [
    "windowed_data = data_stream.window(windowDuration=60, slideDuration=5)\n",
    "windowed_data.show(3)"
   ]
  },
  {
   "cell_type": "markdown",
   "metadata": {},
   "source": [
    "## Computation over windows\n",
    "There are two mechanisms where windowed data can have computation applied.  First, some of the core methods such as `compute_average` or `compute_variance` contain optimized implementations of these algorithms which more efficiently computes the desired outcome by internally applying the windowing algorithms.  Second, a more generic approach comes from explicitly creating the windows and applying a particular computation to it."
   ]
  },
  {
   "cell_type": "code",
   "execution_count": null,
   "metadata": {},
   "outputs": [],
   "source": [
    "average = data_stream.compute_average(windowDuration=60)\n",
    "average.show(4, False)"
   ]
  }
 ],
 "metadata": {
  "kernelspec": {
   "display_name": "Python 3",
   "language": "python",
   "name": "python3"
  },
  "language_info": {
   "codemirror_mode": {
    "name": "ipython",
    "version": 3
   },
   "file_extension": ".py",
   "mimetype": "text/x-python",
   "name": "python",
   "nbconvert_exporter": "python",
   "pygments_lexer": "ipython3",
   "version": "3.6.6"
  }
 },
 "nbformat": 4,
 "nbformat_minor": 4
}
