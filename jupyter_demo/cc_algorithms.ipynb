{
 "cells": [
  {
   "cell_type": "markdown",
   "metadata": {
    "toc-hr-collapsed": false
   },
   "source": [
    "# Cerebral Cortex Data Analysis Algorithms\n",
    "Cerebral Cortex contains a library of algorithms that are useful for processing data and converting it into features or biomarkers.  This page demonstrates a simple GPS clustering algorithm.  For more details about the algorithms that are available, please see our [documentation](https://cerebralcortex-kernel.readthedocs.io/en/latest/).  These algorithms are constantly being developed and improved through our own work and the work of other researchers."
   ]
  },
  {
   "cell_type": "markdown",
   "metadata": {},
   "source": [
    "## Initalize the system"
   ]
  },
  {
   "cell_type": "code",
   "execution_count": 1,
   "metadata": {},
   "outputs": [
    {
     "data": {
      "text/html": [
       "        <script type=\"text/javascript\">\n",
       "        window.PlotlyConfig = {MathJaxConfig: 'local'};\n",
       "        if (window.MathJax) {MathJax.Hub.Config({SVG: {font: \"STIX-Web\"}});}\n",
       "        if (typeof require !== 'undefined') {\n",
       "        require.undef(\"plotly\");\n",
       "        requirejs.config({\n",
       "            paths: {\n",
       "                'plotly': ['https://cdn.plot.ly/plotly-latest.min']\n",
       "            }\n",
       "        });\n",
       "        require(['plotly'], function(Plotly) {\n",
       "            window._Plotly = Plotly;\n",
       "        });\n",
       "        }\n",
       "        </script>\n",
       "        "
      ]
     },
     "metadata": {},
     "output_type": "display_data"
    },
    {
     "data": {
      "text/html": [
       "        <script type=\"text/javascript\">\n",
       "        window.PlotlyConfig = {MathJaxConfig: 'local'};\n",
       "        if (window.MathJax) {MathJax.Hub.Config({SVG: {font: \"STIX-Web\"}});}\n",
       "        if (typeof require !== 'undefined') {\n",
       "        require.undef(\"plotly\");\n",
       "        requirejs.config({\n",
       "            paths: {\n",
       "                'plotly': ['https://cdn.plot.ly/plotly-latest.min']\n",
       "            }\n",
       "        });\n",
       "        require(['plotly'], function(Plotly) {\n",
       "            window._Plotly = Plotly;\n",
       "        });\n",
       "        }\n",
       "        </script>\n",
       "        "
      ]
     },
     "metadata": {},
     "output_type": "display_data"
    }
   ],
   "source": [
    "%reload_ext autoreload\n",
    "from util.dependencies import *\n",
    "\n",
    "CC = Kernel(\"/home/jovyan/cc_conf/\", study_name=\"default\")"
   ]
  },
  {
   "cell_type": "markdown",
   "metadata": {},
   "source": [
    "## Generate some sample location data\n",
    "\n",
    "This example utilizes a data generator to protect the privacy of real participants and allows for anyone utilizing this system to explore the data without required institutional review board approvals. This is disabled for this demonstration to not create too much data at once."
   ]
  },
  {
   "cell_type": "code",
   "execution_count": 2,
   "metadata": {},
   "outputs": [],
   "source": [
    "gps_stream = gen_location_datastream(user_id=USER_ID, stream_name=\"GPS--org.md2k.phonesensor--PHONE\")"
   ]
  },
  {
   "cell_type": "markdown",
   "metadata": {},
   "source": [
    "## Cluster the location data\n",
    "Cerebral Cortex makes it easy to apply built-in algorithms to data streams.  In this case, `gps_clusters` is imported from the algorithm library, then `compute` is utilized to run this algorithm on the `gps_stream` to generate a set of centroids. This is the general format for applying algorithm to datastream and makes it easy for researchers to apply validated and tested algorithms to his/her own data without the need to become an expert in the particular set of transformations needed.  \n",
    "\n",
    "_Note:_ the `compute` method engages the parallel computation capabilities of Cerebral Cortex, which causes all the data to be read from the data storage layer and processed on every computational core available to the system.  This allows the computation to run as quickly as possible and to take advantage of powerful clusters from a relatively simple interface.  This capability is critical to working with mobile sensor big data where data sizes can exceed 100s of gigabytes per datastream for larger studies."
   ]
  },
  {
   "cell_type": "code",
   "execution_count": 3,
   "metadata": {},
   "outputs": [
    {
     "name": "stderr",
     "output_type": "stream",
     "text": [
      "2020-08-08 06:25:11,865 WARNING Retrying (Retry(total=2, connect=None, read=None, redirect=None, status=None)) after connection broken by 'NewConnectionError('<urllib3.connection.HTTPConnection object at 0x7f608faf3040>: Failed to establish a new connection: [Errno -2] Name or service not known')': /auth/tokens/demo\n",
      "2020-08-08 06:25:11,868 WARNING Retrying (Retry(total=1, connect=None, read=None, redirect=None, status=None)) after connection broken by 'NewConnectionError('<urllib3.connection.HTTPConnection object at 0x7f608faf3220>: Failed to establish a new connection: [Errno -2] Name or service not known')': /auth/tokens/demo\n",
      "2020-08-08 06:25:11,871 WARNING Retrying (Retry(total=0, connect=None, read=None, redirect=None, status=None)) after connection broken by 'NewConnectionError('<urllib3.connection.HTTPConnection object at 0x7f608faf3400>: Failed to establish a new connection: [Errno -2] Name or service not known')': /auth/tokens/demo\n",
      "/usr/local/spark/python/pyspark/sql/pandas/group_ops.py:73: UserWarning:\n",
      "\n",
      "It is preferred to use 'applyInPandas' over this API. This API will be deprecated in the future releases. See SPARK-28264 for more details.\n",
      "\n"
     ]
    },
    {
     "name": "stdout",
     "output_type": "stream",
     "text": [
      "+-------------------+-------------------+------------------------------------+-------+------------------+------------------+--------+--------+----------+---------+------------------+------------------+-----------+------------------+\n",
      "|timestamp          |localtime          |user                                |version|latitude          |longitude         |altitude|speed   |bearing   |accuracy |centroid_longitude|centroid_latitude |centroid_id|centroid_area     |\n",
      "+-------------------+-------------------+------------------------------------+-------+------------------+------------------+--------+--------+----------+---------+------------------+------------------+-----------+------------------+\n",
      "|2019-09-01 11:35:59|2019-09-01 16:35:59|00000000-afb8-476e-9872-6472b4e66b68|1      |35.138435299492656|-89.97256596521798|97      |0.904706|96.986348 |12.936701|-89.97276164729831|35.13904632714827 |0          |746.2614230251303 |\n",
      "|2019-09-01 11:36:59|2019-09-01 16:36:59|00000000-afb8-476e-9872-6472b4e66b68|1      |35.13878829851332 |-89.97219438593275|89      |2.472107|333.611168|27.629757|-89.97276164729831|35.13904632714827 |0          |746.2614230251303 |\n",
      "|2019-09-01 11:37:59|2019-09-01 16:37:59|00000000-afb8-476e-9872-6472b4e66b68|1      |35.13940520677526 |-89.9717402038657 |99      |4.247672|322.968904|27.529832|-89.97189507867292|35.13947395748989 |1          |202.42700302451968|\n",
      "|2019-09-01 11:38:59|2019-09-01 16:38:59|00000000-afb8-476e-9872-6472b4e66b68|1      |35.14029769565722 |-89.97456665005316|98      |3.398465|47.637145 |16.397656|-89.97456665005316|35.14029769565722 |2          |1.0               |\n",
      "|2019-09-01 11:39:59|2019-09-01 16:39:59|00000000-afb8-476e-9872-6472b4e66b68|1      |35.13719709315176 |-89.97109312738277|90      |4.413618|118.774775|17.611587|-89.97103277046688|35.13732173608327 |3          |105.16668250734503|\n",
      "|2019-09-01 11:40:59|2019-09-01 16:40:59|00000000-afb8-476e-9872-6472b4e66b68|1      |35.13953961434597 |-89.97507489148236|92      |2.095409|263.832797|26.783535|-89.97507489148236|35.13953961434597 |4          |1.0               |\n",
      "|2019-09-01 11:41:59|2019-09-01 16:41:59|00000000-afb8-476e-9872-6472b4e66b68|1      |35.13754986555304 |-89.971843247353  |84      |4.363027|179.111275|26.521027|-89.971843247353  |35.13754986555304 |5          |142.13851101257094|\n",
      "|2019-09-01 11:42:59|2019-09-01 16:42:59|00000000-afb8-476e-9872-6472b4e66b68|1      |35.137871892924146|-89.97372412722419|86      |1.95579 |210.058934|21.829859|-89.97372412722419|35.137871892924146|6          |1.0               |\n",
      "|2019-09-01 11:43:59|2019-09-01 16:43:59|00000000-afb8-476e-9872-6472b4e66b68|1      |35.139016356150655|-89.97172446051982|88      |3.661845|134.689297|11.61209 |-89.97276164729831|35.13904632714827 |0          |746.2614230251303 |\n",
      "|2019-09-01 11:44:59|2019-09-01 16:44:59|00000000-afb8-476e-9872-6472b4e66b68|1      |35.139457147828196|-89.97367527569388|83      |4.420104|140.108567|16.092358|-89.97276164729831|35.13904632714827 |0          |746.2614230251303 |\n",
      "|2019-09-01 11:45:59|2019-09-01 16:45:59|00000000-afb8-476e-9872-6472b4e66b68|1      |35.140688945090695|-89.97295588952458|91      |1.701034|318.224243|26.863095|-89.97295588952458|35.140688945090695|7          |1.0               |\n",
      "|2019-09-01 11:46:59|2019-09-01 16:46:59|00000000-afb8-476e-9872-6472b4e66b68|1      |35.139704664884086|-89.9720103878907 |97      |4.8783  |30.230926 |28.054645|-89.97189507867292|35.13947395748989 |1          |202.42700302451968|\n",
      "|2019-09-01 11:47:59|2019-09-01 16:47:59|00000000-afb8-476e-9872-6472b4e66b68|1      |35.14109956340226 |-89.97291548986348|91      |2.079989|82.466724 |21.53448 |-89.97272679758626|35.140960395969834|8          |49.18616593168126 |\n",
      "|2019-09-01 11:48:59|2019-09-01 16:48:59|00000000-afb8-476e-9872-6472b4e66b68|1      |35.13780277362195 |-89.97179701096843|93      |2.369047|125.179678|19.864528|-89.971843247353  |35.13754986555304 |5          |142.13851101257094|\n",
      "|2019-09-01 11:49:59|2019-09-01 16:49:59|00000000-afb8-476e-9872-6472b4e66b68|1      |35.138748774256754|-89.97291175833176|88      |4.264941|70.772316 |18.482793|-89.97276164729831|35.13904632714827 |0          |746.2614230251303 |\n",
      "|2019-09-01 11:50:59|2019-09-01 16:50:59|00000000-afb8-476e-9872-6472b4e66b68|1      |35.13830052067092 |-89.97331705940543|99      |1.914449|47.563695 |20.077437|-89.97331705940543|35.13830052067092 |9          |1.0               |\n",
      "|2019-09-01 11:51:59|2019-09-01 16:51:59|00000000-afb8-476e-9872-6472b4e66b68|1      |35.13964101479264 |-89.97306344951892|91      |4.791901|42.502277 |16.921731|-89.97276164729831|35.13904632714827 |0          |746.2614230251303 |\n",
      "|2019-09-01 11:52:59|2019-09-01 16:52:59|00000000-afb8-476e-9872-6472b4e66b68|1      |35.139398373014025|-89.97130195336807|84      |4.993368|225.612815|14.814482|-89.97130195336807|35.139398373014025|10         |1.0               |\n",
      "|2019-09-01 11:53:59|2019-09-01 16:53:59|00000000-afb8-476e-9872-6472b4e66b68|1      |35.139606852513595|-89.97281097670668|99      |0.137229|135.976352|14.678594|-89.97276164729831|35.13904632714827 |0          |746.2614230251303 |\n",
      "|2019-09-01 11:54:59|2019-09-01 16:54:59|00000000-afb8-476e-9872-6472b4e66b68|1      |35.13856929498492 |-89.9715589462391 |95      |0.671437|258.177025|17.673247|-89.97276164729831|35.13904632714827 |0          |746.2614230251303 |\n",
      "+-------------------+-------------------+------------------------------------+-------+------------------+------------------+--------+--------+----------+---------+------------------+------------------+-----------+------------------+\n",
      "only showing top 20 rows\n",
      "\n"
     ]
    }
   ],
   "source": [
    "from cerebralcortex.algorithms.gps.clustering import cluster_gps\n",
    "windowed_gps = gps_stream.window()\n",
    "clusters = cluster_gps(windowed_gps)\n",
    "clusters.show(truncate=False)"
   ]
  },
  {
   "cell_type": "markdown",
   "metadata": {},
   "source": [
    "## Visualize GPS Data"
   ]
  },
  {
   "cell_type": "markdown",
   "metadata": {},
   "source": [
    "### GPS Stream Plot\n",
    "GPS visualization requires dedicated plotting capabilities. Cerebral Cortex includes a library to allow for interactive exploration.  In this plot, use your mouse to drag the map around along with zooming in to explore the specific data points."
   ]
  },
  {
   "cell_type": "code",
   "execution_count": 4,
   "metadata": {},
   "outputs": [
    {
     "name": "stderr",
     "output_type": "stream",
     "text": [
      "/opt/conda/lib/python3.8/site-packages/pkg_resources/__init__.py:1149: DeprecationWarning:\n",
      "\n",
      "Use of .. or absolute path in a resource path is not allowed and will raise exceptions in a future release.\n",
      "\n",
      "/opt/conda/lib/python3.8/site-packages/pkg_resources/__init__.py:1149: DeprecationWarning:\n",
      "\n",
      "Use of .. or absolute path in a resource path is not allowed and will raise exceptions in a future release.\n",
      "\n"
     ]
    },
    {
     "data": {
      "application/vnd.jupyter.widget-view+json": {
       "model_id": "91e9a7cd8d944ff89c93e1a28ab5d584",
       "version_major": 2,
       "version_minor": 0
      },
      "text/plain": [
       "Map(center=[35.138435299492656, -89.97256596521798], controls=(ZoomControl(options=['position', 'zoom_in_text'…"
      ]
     },
     "metadata": {},
     "output_type": "display_data"
    }
   ],
   "source": [
    "from cerebralcortex.plotting.gps.plots import plot_gps_clusters\n",
    "plot_gps_clusters(clusters, user_id=USER_ID, zoom=8)"
   ]
  },
  {
   "cell_type": "code",
   "execution_count": null,
   "metadata": {},
   "outputs": [],
   "source": []
  }
 ],
 "metadata": {
  "kernelspec": {
   "display_name": "Python 3",
   "language": "python",
   "name": "python3"
  },
  "language_info": {
   "codemirror_mode": {
    "name": "ipython",
    "version": 3
   },
   "file_extension": ".py",
   "mimetype": "text/x-python",
   "name": "python",
   "nbconvert_exporter": "python",
   "pygments_lexer": "ipython3",
   "version": "3.8.4"
  },
  "toc-autonumbering": true,
  "toc-showmarkdowntxt": true
 },
 "nbformat": 4,
 "nbformat_minor": 4
}
