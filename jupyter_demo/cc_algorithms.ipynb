{
 "cells": [
  {
   "cell_type": "markdown",
   "metadata": {
    "toc-hr-collapsed": false
   },
   "source": [
    "# Cerebral Cortex Data Analysis Algorithms\n",
    "Cerebral Cortex contains a library of algorithms that are useful for processing data and converting it into features or biomarkers.  This page demonstrates a simple GPS clustering algorithm.  For more details about the algorithms that are available, please see our [documentation](https://cerebralcortex-kernel.readthedocs.io/en/latest/).  These algorithms are constantly being developed and improved through our own work and the work of other researchers."
   ]
  },
  {
   "cell_type": "markdown",
   "metadata": {},
   "source": [
    "## Initalize the system"
   ]
  },
  {
   "cell_type": "code",
   "execution_count": 1,
   "metadata": {},
   "outputs": [
    {
     "data": {
      "text/html": [
       "        <script type=\"text/javascript\">\n",
       "        window.PlotlyConfig = {MathJaxConfig: 'local'};\n",
       "        if (window.MathJax) {MathJax.Hub.Config({SVG: {font: \"STIX-Web\"}});}\n",
       "        if (typeof require !== 'undefined') {\n",
       "        require.undef(\"plotly\");\n",
       "        requirejs.config({\n",
       "            paths: {\n",
       "                'plotly': ['https://cdn.plot.ly/plotly-latest.min']\n",
       "            }\n",
       "        });\n",
       "        require(['plotly'], function(Plotly) {\n",
       "            window._Plotly = Plotly;\n",
       "        });\n",
       "        }\n",
       "        </script>\n",
       "        "
      ]
     },
     "metadata": {},
     "output_type": "display_data"
    },
    {
     "data": {
      "text/html": [
       "        <script type=\"text/javascript\">\n",
       "        window.PlotlyConfig = {MathJaxConfig: 'local'};\n",
       "        if (window.MathJax) {MathJax.Hub.Config({SVG: {font: \"STIX-Web\"}});}\n",
       "        if (typeof require !== 'undefined') {\n",
       "        require.undef(\"plotly\");\n",
       "        requirejs.config({\n",
       "            paths: {\n",
       "                'plotly': ['https://cdn.plot.ly/plotly-latest.min']\n",
       "            }\n",
       "        });\n",
       "        require(['plotly'], function(Plotly) {\n",
       "            window._Plotly = Plotly;\n",
       "        });\n",
       "        }\n",
       "        </script>\n",
       "        "
      ]
     },
     "metadata": {},
     "output_type": "display_data"
    }
   ],
   "source": [
    "%reload_ext autoreload\n",
    "from util.dependencies import *\n",
    "\n",
    "CC = Kernel(\"/home/jovyan/cc_conf/\", study_name=\"default\")"
   ]
  },
  {
   "cell_type": "markdown",
   "metadata": {},
   "source": [
    "## Generate some sample location data\n",
    "\n",
    "This example utilizes a data generator to protect the privacy of real participants and allows for anyone utilizing this system to explore the data without required institutional review board approvals. This is disabled for this demonstration to not create too much data at once."
   ]
  },
  {
   "cell_type": "code",
   "execution_count": 3,
   "metadata": {},
   "outputs": [],
   "source": [
    "gps_stream = gen_location_datastream(user_id=USER_ID, stream_name=\"GPS--org.md2k.phonesensor--PHONE\")"
   ]
  },
  {
   "cell_type": "markdown",
   "metadata": {},
   "source": [
    "## Cluster the location data\n",
    "Cerebral Cortex makes it easy to apply built-in algorithms to data streams.  In this case, `gps_clusters` is imported from the algorithm library, then `compute` is utilized to run this algorithm on the `gps_stream` to generate a set of centroids. This is the general format for applying algorithm to datastream and makes it easy for researchers to apply validated and tested algorithms to his/her own data without the need to become an expert in the particular set of transformations needed.  \n",
    "\n",
    "_Note:_ the `compute` method engages the parallel computation capabilities of Cerebral Cortex, which causes all the data to be read from the data storage layer and processed on every computational core available to the system.  This allows the computation to run as quickly as possible and to take advantage of powerful clusters from a relatively simple interface.  This capability is critical to working with mobile sensor big data where data sizes can exceed 100s of gigabytes per datastream for larger studies."
   ]
  },
  {
   "cell_type": "code",
   "execution_count": 4,
   "metadata": {},
   "outputs": [
    {
     "name": "stderr",
     "output_type": "stream",
     "text": [
      "/usr/local/spark/python/pyspark/sql/pandas/group_ops.py:76: UserWarning:\n",
      "\n",
      "It is preferred to use 'applyInPandas' over this API. This API will be deprecated in the future releases. See SPARK-28264 for more details.\n",
      "\n"
     ]
    },
    {
     "name": "stdout",
     "output_type": "stream",
     "text": [
      "+-------------------+-------------------+------------------------------------+-------+------------------+------------------+--------+--------+----------+---------+------------------+-----------------+-----------+------------------+\n",
      "|timestamp          |localtime          |user                                |version|latitude          |longitude         |altitude|speed   |bearing   |accuracy |centroid_longitude|centroid_latitude|centroid_id|centroid_area     |\n",
      "+-------------------+-------------------+------------------------------------+-------+------------------+------------------+--------+--------+----------+---------+------------------+-----------------+-----------+------------------+\n",
      "|2019-09-01 11:35:59|2019-09-01 16:35:59|00000000-afb8-476e-9872-6472b4e66b68|1      |35.13976879971648 |-89.96575210246465|96      |1.416015|215.352509|15.284655|-89.96575210246465|35.13976879971648|0          |1.0               |\n",
      "|2019-09-01 11:36:59|2019-09-01 16:36:59|00000000-afb8-476e-9872-6472b4e66b68|1      |35.140209588105364|-89.96513291366226|94      |3.710222|169.585097|20.610609|-89.96507298817545|35.14012607629936|1          |84.26621997061004 |\n",
      "|2019-09-01 11:37:59|2019-09-01 16:37:59|00000000-afb8-476e-9872-6472b4e66b68|1      |35.141791339266355|-89.966609875023  |88      |3.904812|217.47797 |18.891424|-89.9661453213007 |35.14194125447436|2          |1026.732067784292 |\n",
      "|2019-09-01 11:38:59|2019-09-01 16:38:59|00000000-afb8-476e-9872-6472b4e66b68|1      |35.14154706294343 |-89.96461184774307|95      |0.874029|105.173754|16.342223|-89.96481967637504|35.14128157689931|3          |566.2219615425483 |\n",
      "|2019-09-01 11:39:59|2019-09-01 16:39:59|00000000-afb8-476e-9872-6472b4e66b68|1      |35.14257741150938 |-89.96714867390146|92      |3.985796|306.306289|28.219226|-89.96714867390146|35.14257741150938|4          |1.0               |\n",
      "|2019-09-01 11:40:59|2019-09-01 16:40:59|00000000-afb8-476e-9872-6472b4e66b68|1      |35.14201852430586 |-89.96562966128454|88      |4.162096|325.480318|16.742511|-89.9661453213007 |35.14194125447436|2          |1026.732067784292 |\n",
      "|2019-09-01 11:41:59|2019-09-01 16:41:59|00000000-afb8-476e-9872-6472b4e66b68|1      |35.142831849083116|-89.96560968616144|85      |1.339617|177.410238|27.932266|-89.9661453213007 |35.14194125447436|2          |1026.732067784292 |\n",
      "|2019-09-01 11:42:59|2019-09-01 16:42:59|00000000-afb8-476e-9872-6472b4e66b68|1      |35.14276361994767 |-89.96643888986277|90      |3.744733|73.913189 |12.800099|-89.9661453213007 |35.14194125447436|2          |1026.732067784292 |\n",
      "|2019-09-01 11:43:59|2019-09-01 16:43:59|00000000-afb8-476e-9872-6472b4e66b68|1      |35.140285961117684|-89.96601306864135|84      |0.094406|109.813907|19.100104|-89.96581587108294|35.14037664605037|5          |155.56199287843944|\n",
      "|2019-09-01 11:44:59|2019-09-01 16:44:59|00000000-afb8-476e-9872-6472b4e66b68|1      |35.14225953581674 |-89.96404663824158|86      |4.290311|143.548887|22.872055|-89.96404663824158|35.14225953581674|6          |1.0               |\n",
      "|2019-09-01 11:45:59|2019-09-01 16:45:59|00000000-afb8-476e-9872-6472b4e66b68|1      |35.142269895986395|-89.96626997527599|94      |1.64047 |334.443296|15.586599|-89.9661453213007 |35.14194125447436|2          |1026.732067784292 |\n",
      "|2019-09-01 11:46:59|2019-09-01 16:46:59|00000000-afb8-476e-9872-6472b4e66b68|1      |35.140878522857484|-89.9660406708222 |98      |4.179958|345.510366|12.252356|-89.9661453213007 |35.14194125447436|2          |1026.732067784292 |\n",
      "|2019-09-01 11:47:59|2019-09-01 16:47:59|00000000-afb8-476e-9872-6472b4e66b68|1      |35.142089995627884|-89.96685844602943|85      |0.76181 |133.114138|19.148577|-89.9661453213007 |35.14194125447436|2          |1026.732067784292 |\n",
      "|2019-09-01 11:48:59|2019-09-01 16:48:59|00000000-afb8-476e-9872-6472b4e66b68|1      |35.14132779055138 |-89.96502620022976|87      |3.728501|57.338208 |24.885406|-89.96481967637504|35.14128157689931|3          |566.2219615425483 |\n",
      "|2019-09-01 11:49:59|2019-09-01 16:49:59|00000000-afb8-476e-9872-6472b4e66b68|1      |35.14111914230905 |-89.96674472033256|91      |1.716824|57.154817 |11.263093|-89.9661453213007 |35.14194125447436|2          |1026.732067784292 |\n",
      "|2019-09-01 11:50:59|2019-09-01 16:50:59|00000000-afb8-476e-9872-6472b4e66b68|1      |35.14177832777922 |-89.96375011163056|93      |1.434387|10.550654 |28.138054|-89.96375011163056|35.14177832777922|7          |1.0               |\n",
      "|2019-09-01 11:51:59|2019-09-01 16:51:59|00000000-afb8-476e-9872-6472b4e66b68|1      |35.141572425998774|-89.96599970498741|92      |0.202097|226.554321|21.868812|-89.9661453213007 |35.14194125447436|2          |1026.732067784292 |\n",
      "|2019-09-01 11:52:59|2019-09-01 16:52:59|00000000-afb8-476e-9872-6472b4e66b68|1      |35.14190664422532 |-89.9661990032071 |96      |3.706949|222.192994|26.625996|-89.9661453213007 |35.14194125447436|2          |1026.732067784292 |\n",
      "|2019-09-01 11:53:59|2019-09-01 16:53:59|00000000-afb8-476e-9872-6472b4e66b68|1      |35.14108637621499 |-89.96696422183204|92      |3.690029|227.721474|16.208357|-89.9661453213007 |35.14194125447436|2          |1026.732067784292 |\n",
      "|2019-09-01 11:54:59|2019-09-01 16:54:59|00000000-afb8-476e-9872-6472b4e66b68|1      |35.14242465950471 |-89.96558289321497|84      |1.572824|15.292668 |23.387593|-89.9661453213007 |35.14194125447436|2          |1026.732067784292 |\n",
      "+-------------------+-------------------+------------------------------------+-------+------------------+------------------+--------+--------+----------+---------+------------------+-----------------+-----------+------------------+\n",
      "only showing top 20 rows\n",
      "\n"
     ]
    }
   ],
   "source": [
    "from cerebralcortex.algorithms.gps.clustering import cluster_gps\n",
    "windowed_gps = gps_stream.window()\n",
    "clusters = cluster_gps(windowed_gps)\n",
    "clusters.show(truncate=False)"
   ]
  },
  {
   "cell_type": "markdown",
   "metadata": {},
   "source": [
    "## Visualize GPS Data"
   ]
  },
  {
   "cell_type": "markdown",
   "metadata": {},
   "source": [
    "### GPS Stream Plot\n",
    "GPS visualization requires dedicated plotting capabilities. Cerebral Cortex includes a library to allow for interactive exploration.  In this plot, use your mouse to drag the map around along with zooming in to explore the specific data points."
   ]
  },
  {
   "cell_type": "code",
   "execution_count": 5,
   "metadata": {},
   "outputs": [
    {
     "data": {
      "application/vnd.jupyter.widget-view+json": {
       "model_id": "2133d32582324b37a293ddf4033ff5b7",
       "version_major": 2,
       "version_minor": 0
      },
      "text/plain": [
       "Map(center=[35.13976879971648, -89.96575210246465], controls=(ZoomControl(options=['position', 'zoom_in_text',…"
      ]
     },
     "metadata": {},
     "output_type": "display_data"
    }
   ],
   "source": [
    "from cerebralcortex.plotting.gps.plots import plot_gps_clusters\n",
    "plot_gps_clusters(clusters,zoom=8)"
   ]
  },
  {
   "cell_type": "code",
   "execution_count": null,
   "metadata": {},
   "outputs": [],
   "source": []
  }
 ],
 "metadata": {
  "kernelspec": {
   "display_name": "Python 3",
   "language": "python",
   "name": "python3"
  },
  "language_info": {
   "codemirror_mode": {
    "name": "ipython",
    "version": 3
   },
   "file_extension": ".py",
   "mimetype": "text/x-python",
   "name": "python",
   "nbconvert_exporter": "python",
   "pygments_lexer": "ipython3",
   "version": "3.7.6"
  },
  "toc-autonumbering": true,
  "toc-showmarkdowntxt": true
 },
 "nbformat": 4,
 "nbformat_minor": 4
}
