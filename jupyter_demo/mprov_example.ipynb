{
 "cells": [
  {
   "cell_type": "markdown",
   "metadata": {},
   "source": [
    "# Import required libs"
   ]
  },
  {
   "cell_type": "code",
   "execution_count": 1,
   "metadata": {},
   "outputs": [
    {
     "data": {
      "text/html": [
       "        <script type=\"text/javascript\">\n",
       "        window.PlotlyConfig = {MathJaxConfig: 'local'};\n",
       "        if (window.MathJax) {MathJax.Hub.Config({SVG: {font: \"STIX-Web\"}});}\n",
       "        if (typeof require !== 'undefined') {\n",
       "        require.undef(\"plotly\");\n",
       "        requirejs.config({\n",
       "            paths: {\n",
       "                'plotly': ['https://cdn.plot.ly/plotly-latest.min']\n",
       "            }\n",
       "        });\n",
       "        require(['plotly'], function(Plotly) {\n",
       "            window._Plotly = Plotly;\n",
       "        });\n",
       "        }\n",
       "        </script>\n",
       "        "
      ]
     },
     "metadata": {},
     "output_type": "display_data"
    }
   ],
   "source": [
    "from util.dependencies import *\n",
    "from cerebralcortex.algorithms.gps.clustering import cluster_gps\n",
    "from cerebralcortex.kernel import Kernel"
   ]
  },
  {
   "cell_type": "markdown",
   "metadata": {},
   "source": [
    "# Create CC object to setup required parameters\n",
    "Please enable mprov param in '/cc_conf/cerebralcortex.yml'. mprov: pennprov. You would need to create a user on mprov server first and set the username and password in the '/cc_conf/cerebralcortex.yml'."
   ]
  },
  {
   "cell_type": "code",
   "execution_count": 2,
   "metadata": {},
   "outputs": [],
   "source": [
    "CC = Kernel(\"/home/jovyan/cc_conf/\", study_name=\"default\")"
   ]
  },
  {
   "cell_type": "markdown",
   "metadata": {},
   "source": [
    "# Generate synthetic GPS data"
   ]
  },
  {
   "cell_type": "code",
   "execution_count": 3,
   "metadata": {},
   "outputs": [],
   "source": [
    "ds_gps = gen_location_datastream(user_id=\"bfb2ca0c-e19c-3956-9db2-5459ccadd40c\", stream_name=\"gps--org.md2k.phonesensor--phone\")"
   ]
  },
  {
   "cell_type": "markdown",
   "metadata": {},
   "source": [
    "# Create windows into 60 seconds chunks"
   ]
  },
  {
   "cell_type": "code",
   "execution_count": 4,
   "metadata": {},
   "outputs": [
    {
     "name": "stderr",
     "output_type": "stream",
     "text": [
      "/usr/local/spark/python/pyspark/sql/pandas/group_ops.py:76: UserWarning:\n",
      "\n",
      "It is preferred to use 'applyInPandas' over this API. This API will be deprecated in the future releases. See SPARK-28264 for more details.\n",
      "\n"
     ]
    }
   ],
   "source": [
    "windowed_gps_ds=ds_gps.window(windowDuration=60)\n",
    "gps_clusters=cluster_gps(windowed_gps_ds)"
   ]
  },
  {
   "cell_type": "markdown",
   "metadata": {},
   "source": [
    "# Print Data"
   ]
  },
  {
   "cell_type": "code",
   "execution_count": 5,
   "metadata": {},
   "outputs": [
    {
     "name": "stdout",
     "output_type": "stream",
     "text": [
      "+-------------------+-------------------+--------------------+-------+------------------+------------------+--------+--------+----------+---------+------------------+------------------+-----------+-------------+\n",
      "|          timestamp|          localtime|                user|version|          latitude|         longitude|altitude|   speed|   bearing| accuracy|centroid_longitude| centroid_latitude|centroid_id|centroid_area|\n",
      "+-------------------+-------------------+--------------------+-------+------------------+------------------+--------+--------+----------+---------+------------------+------------------+-----------+-------------+\n",
      "|2019-09-01 17:39:59|2019-09-01 22:39:59|bfb2ca0c-e19c-395...|      1| 35.17880397736724| -89.9239278834928|      93|1.308904|212.039114|17.039701| -89.9239278834928| 35.17880397736724|          0|          1.0|\n",
      "|2019-09-01 20:57:59|2019-09-02 01:57:59|bfb2ca0c-e19c-395...|      1| 35.17204493441551|-90.00173023656181|      96|1.133166|294.522699| 17.45587|-90.00173023656181| 35.17204493441551|          0|          1.0|\n",
      "|2019-09-01 15:00:59|2019-09-01 20:00:59|bfb2ca0c-e19c-395...|      1| 35.10912700630915|-89.98705170752672|      86| 0.67676| 87.039424| 25.62566|-89.98705170752672| 35.10912700630915|          0|          1.0|\n",
      "|2019-09-01 17:52:59|2019-09-01 22:52:59|bfb2ca0c-e19c-395...|      1|35.178057462830715|-89.92382883096404|      99|2.990689|  97.90993| 15.89255|-89.92382883096404|35.178057462830715|          0|          1.0|\n",
      "|2019-09-01 17:15:59|2019-09-01 22:15:59|bfb2ca0c-e19c-395...|      1| 35.17964075576645|-89.92496179465104|      83|3.108943|209.238459|27.130021|-89.92496179465104| 35.17964075576645|          0|          1.0|\n",
      "|2019-09-01 20:14:59|2019-09-02 01:14:59|bfb2ca0c-e19c-395...|      1| 35.17071636846765|-90.00111652797828|      93|3.344521|217.900787|15.230302|-90.00111652797828| 35.17071636846765|          0|          1.0|\n",
      "|2019-09-01 20:54:59|2019-09-02 01:54:59|bfb2ca0c-e19c-395...|      1|35.169054812308396|-90.00040356544751|      85|1.639692|165.038862|17.697247|-90.00040356544751|35.169054812308396|          0|          1.0|\n",
      "|2019-09-01 14:16:59|2019-09-01 19:16:59|bfb2ca0c-e19c-395...|      1| 35.10990278065657|-89.98727392894871|      89|4.271102|300.201797|11.610717|-89.98727392894871| 35.10990278065657|          0|          1.0|\n",
      "|2019-09-01 20:44:59|2019-09-02 01:44:59|bfb2ca0c-e19c-395...|      1| 35.17150907228398|-90.00166311527241|      96|0.669673|174.596452|28.920691|-90.00166311527241| 35.17150907228398|          0|          1.0|\n",
      "|2019-09-01 21:06:59|2019-09-02 02:06:59|bfb2ca0c-e19c-395...|      1| 35.17204465057103|-89.99894329402368|      83|2.380601|110.388913|20.093388|-89.99894329402368| 35.17204465057103|          0|          1.0|\n",
      "+-------------------+-------------------+--------------------+-------+------------------+------------------+--------+--------+----------+---------+------------------+------------------+-----------+-------------+\n",
      "only showing top 10 rows\n",
      "\n"
     ]
    }
   ],
   "source": [
    "gps_clusters.show(10)"
   ]
  }
 ],
 "metadata": {
  "kernelspec": {
   "display_name": "Python 3",
   "language": "python",
   "name": "python3"
  },
  "language_info": {
   "codemirror_mode": {
    "name": "ipython",
    "version": 3
   },
   "file_extension": ".py",
   "mimetype": "text/x-python",
   "name": "python",
   "nbconvert_exporter": "python",
   "pygments_lexer": "ipython3",
   "version": "3.7.6"
  }
 },
 "nbformat": 4,
 "nbformat_minor": 4
}
