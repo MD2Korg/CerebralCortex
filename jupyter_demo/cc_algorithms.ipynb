{
 "cells": [
  {
   "cell_type": "markdown",
   "metadata": {
    "toc-hr-collapsed": false
   },
   "source": [
    "# Cerebral Cortex Data Analysis Algorithms\n",
    "Cerebral Cortex contains a library of algorithms that are useful for processing data and converting it into features or biomarkers.  This page demonstrates a simple GPS clustering algorithm.  For more details about the algorithms that are available, please see our [documentation](https://cerebralcortex-kernel.readthedocs.io/en/latest/).  These algorithms are constantly being developed and improved through our own work and the work of other researchers."
   ]
  },
  {
   "cell_type": "markdown",
   "metadata": {},
   "source": [
    "## Initalize the system"
   ]
  },
  {
   "cell_type": "code",
   "execution_count": 1,
   "metadata": {},
   "outputs": [
    {
     "data": {
      "text/html": [
       "        <script type=\"text/javascript\">\n",
       "        window.PlotlyConfig = {MathJaxConfig: 'local'};\n",
       "        if (window.MathJax) {MathJax.Hub.Config({SVG: {font: \"STIX-Web\"}});}\n",
       "        if (typeof require !== 'undefined') {\n",
       "        require.undef(\"plotly\");\n",
       "        requirejs.config({\n",
       "            paths: {\n",
       "                'plotly': ['https://cdn.plot.ly/plotly-latest.min']\n",
       "            }\n",
       "        });\n",
       "        require(['plotly'], function(Plotly) {\n",
       "            window._Plotly = Plotly;\n",
       "        });\n",
       "        }\n",
       "        </script>\n",
       "        "
      ]
     },
     "metadata": {},
     "output_type": "display_data"
    },
    {
     "data": {
      "text/html": [
       "        <script type=\"text/javascript\">\n",
       "        window.PlotlyConfig = {MathJaxConfig: 'local'};\n",
       "        if (window.MathJax) {MathJax.Hub.Config({SVG: {font: \"STIX-Web\"}});}\n",
       "        if (typeof require !== 'undefined') {\n",
       "        require.undef(\"plotly\");\n",
       "        requirejs.config({\n",
       "            paths: {\n",
       "                'plotly': ['https://cdn.plot.ly/plotly-latest.min']\n",
       "            }\n",
       "        });\n",
       "        require(['plotly'], function(Plotly) {\n",
       "            window._Plotly = Plotly;\n",
       "        });\n",
       "        }\n",
       "        </script>\n",
       "        "
      ]
     },
     "metadata": {},
     "output_type": "display_data"
    }
   ],
   "source": [
    "%reload_ext autoreload\n",
    "from util.dependencies import *\n",
    "\n",
    "CC = Kernel(\"/home/md2k/cc_conf/\", study_name=\"default\")"
   ]
  },
  {
   "cell_type": "markdown",
   "metadata": {},
   "source": [
    "## Generate some sample location data\n",
    "\n",
    "This example utilizes a data generator to protect the privacy of real participants and allows for anyone utilizing this system to explore the data without required institutional review board approvals. This is disabled for this demonstration to not create too much data at once."
   ]
  },
  {
   "cell_type": "code",
   "execution_count": 2,
   "metadata": {},
   "outputs": [],
   "source": [
    "gen_location_datastream(CC, user_id=USER_ID, stream_name=\"GPS--org.md2k.phonesensor--PHONE\")"
   ]
  },
  {
   "cell_type": "markdown",
   "metadata": {
    "toc-hr-collapsed": false
   },
   "source": [
    "## Get stream data\n",
    "Read the demo GPS stream and show some example values.  A typical GPS sample contains values for _latitude, longitude, altitude, speed, bearing, and accuracy_."
   ]
  },
  {
   "cell_type": "code",
   "execution_count": 3,
   "metadata": {},
   "outputs": [
    {
     "name": "stdout",
     "output_type": "stream",
     "text": [
      "+-------------------+-------------------+------------------+------------------+--------+--------+----------+---------+-------+--------------------+\n",
      "|          timestamp|          localtime|          latitude|         longitude|altitude|   speed|   bearing| accuracy|version|                user|\n",
      "+-------------------+-------------------+------------------+------------------+--------+--------+----------+---------+-------+--------------------+\n",
      "|2019-09-01 22:26:59|2019-09-02 03:26:59|35.157442557926856| -90.0349952849216|      93|2.834021|105.992312|17.288347|      1|00000000-afb8-476...|\n",
      "|2019-09-01 22:27:59|2019-09-02 03:27:59|  35.1561572521825|-90.03681018833898|      94|3.796146|  8.256657|15.215249|      1|00000000-afb8-476...|\n",
      "|2019-09-01 22:28:59|2019-09-02 03:28:59| 35.15747745895255|-90.03574140915266|      93| 1.11443|   4.37211|11.172609|      1|00000000-afb8-476...|\n",
      "+-------------------+-------------------+------------------+------------------+--------+--------+----------+---------+-------+--------------------+\n",
      "only showing top 3 rows\n",
      "\n"
     ]
    }
   ],
   "source": [
    "gps_stream = CC.get_stream(\"GPS--org.md2k.phonesensor--PHONE\")\n",
    "gps_stream.show(3)"
   ]
  },
  {
   "cell_type": "markdown",
   "metadata": {},
   "source": [
    "## Cluster the location data\n",
    "Cerebral Cortex makes it easy to apply built-in algorithms to data streams.  In this case, `gps_clusters` is imported from the algorithm library, then `compute` is utilized to run this algorithm on the `gps_stream` to generate a set of centroids. This is the general format for applying algorithm to datastream and makes it easy for researchers to apply validated and tested algorithms to his/her own data without the need to become an expert in the particular set of transformations needed.  \n",
    "\n",
    "_Note:_ the `compute` method engages the parallel computation capabilities of Cerebral Cortex, which causes all the data to be read from the data storage layer and processed on every computational core available to the system.  This allows the computation to run as quickly as possible and to take advantage of powerful clusters from a relatively simple interface.  This capability is critical to working with mobile sensor big data where data sizes can exceed 100s of gigabytes per datastream for larger studies."
   ]
  },
  {
   "cell_type": "code",
   "execution_count": 4,
   "metadata": {},
   "outputs": [
    {
     "name": "stdout",
     "output_type": "stream",
     "text": [
      "+-------------------+-------------------+------------------+------------------+--------+--------+----------+---------+-------+------------------------------------+------------------+------------------+-----------+------------------+\n",
      "|timestamp          |localtime          |latitude          |longitude         |altitude|speed   |bearing   |accuracy |version|user                                |centroid_longitude|centroid_latitude |centroid_id|centroid_area     |\n",
      "+-------------------+-------------------+------------------+------------------+--------+--------+----------+---------+-------+------------------------------------+------------------+------------------+-----------+------------------+\n",
      "|2019-09-01 22:26:59|2019-09-02 03:26:59|35.157442557926856|-90.0349952849216 |93      |2.834021|105.992312|17.288347|1      |00000000-afb8-476e-9872-6472b4e66b68|-90.0353360730015 |35.157759542552085|0          |267.12246418031026|\n",
      "|2019-09-01 22:27:59|2019-09-02 03:27:59|35.1561572521825  |-90.03681018833898|94      |3.796146|8.256657  |15.215249|1      |00000000-afb8-476e-9872-6472b4e66b68|-90.03602813351293|35.15622962415908 |1          |455.94082767615083|\n",
      "|2019-09-01 22:28:59|2019-09-02 03:28:59|35.15747745895255 |-90.03574140915266|93      |1.11443 |4.37211   |11.172609|1      |00000000-afb8-476e-9872-6472b4e66b68|-90.0353360730015 |35.157759542552085|0          |267.12246418031026|\n",
      "|2019-09-01 22:29:59|2019-09-02 03:29:59|35.15708891291051 |-90.03650897768411|92      |3.131751|6.704876  |17.811686|1      |00000000-afb8-476e-9872-6472b4e66b68|-90.03642313288314|35.15703951621386 |2          |179.45217175005607|\n",
      "|2019-09-01 22:30:59|2019-09-02 03:30:59|35.157819954100916|-90.0380609165374 |93      |2.71621 |215.514534|29.340396|1      |00000000-afb8-476e-9872-6472b4e66b68|-90.03724267947695|35.15747101937749 |3          |768.5279283203273 |\n",
      "|2019-09-01 22:31:59|2019-09-02 03:31:59|35.15731861756214 |-90.0377806906272 |86      |3.796168|54.177014 |24.2978  |1      |00000000-afb8-476e-9872-6472b4e66b68|-90.03724267947695|35.15747101937749 |3          |768.5279283203273 |\n",
      "|2019-09-01 22:32:59|2019-09-02 03:32:59|35.156717879382036|-90.03594834894683|88      |2.518586|324.965058|26.444573|1      |00000000-afb8-476e-9872-6472b4e66b68|-90.03602813351293|35.15622962415908 |1          |455.94082767615083|\n",
      "|2019-09-01 22:33:59|2019-09-02 03:33:59|35.155986739160966|-90.03891991755704|86      |3.083471|177.534574|25.160381|1      |00000000-afb8-476e-9872-6472b4e66b68|-90.03891991755704|35.155986739160966|4          |1.0               |\n",
      "|2019-09-01 22:34:59|2019-09-02 03:34:59|35.15754765423845 |-90.03771300796573|87      |4.174375|267.407334|14.297924|1      |00000000-afb8-476e-9872-6472b4e66b68|-90.03724267947695|35.15747101937749 |3          |768.5279283203273 |\n",
      "|2019-09-01 22:35:59|2019-09-02 03:35:59|35.157786834689006|-90.0347758093867 |88      |3.827271|313.008206|17.894079|1      |00000000-afb8-476e-9872-6472b4e66b68|-90.0353360730015 |35.157759542552085|0          |267.12246418031026|\n",
      "|2019-09-01 22:36:59|2019-09-02 03:36:59|35.156678602300644|-90.03686257325478|84      |4.088938|142.509126|29.763369|1      |00000000-afb8-476e-9872-6472b4e66b68|-90.03724267947695|35.15747101937749 |3          |768.5279283203273 |\n",
      "|2019-09-01 22:37:59|2019-09-02 03:37:59|35.1581569112939  |-90.03727713587398|88      |2.487589|281.067347|22.69205 |1      |00000000-afb8-476e-9872-6472b4e66b68|-90.03724267947695|35.15747101937749 |3          |768.5279283203273 |\n",
      "|2019-09-01 22:38:59|2019-09-02 03:38:59|35.15536408131731 |-90.03720501988431|97      |2.335055|210.778948|22.977393|1      |00000000-afb8-476e-9872-6472b4e66b68|-90.03741878512767|35.15540481242479 |5          |97.7751362016774  |\n",
      "|2019-09-01 22:39:59|2019-09-02 03:39:59|35.15787692049786 |-90.03726121254982|90      |3.085715|60.793675 |24.448123|1      |00000000-afb8-476e-9872-6472b4e66b68|-90.03724267947695|35.15747101937749 |3          |768.5279283203273 |\n",
      "|2019-09-01 22:40:59|2019-09-02 03:40:59|35.15771076901891 |-90.03581959760821|85      |3.520521|143.61742 |30.251623|1      |00000000-afb8-476e-9872-6472b4e66b68|-90.0353360730015 |35.157759542552085|0          |267.12246418031026|\n",
      "|2019-09-01 22:41:59|2019-09-02 03:41:59|35.1576540323178  |-90.03851852378476|84      |1.17867 |207.978631|23.996826|1      |00000000-afb8-476e-9872-6472b4e66b68|-90.03851852378476|35.1576540323178  |6          |1.0               |\n",
      "|2019-09-01 22:42:59|2019-09-02 03:42:59|35.15780605456528 |-90.03819011048405|86      |0.152229|229.816167|13.878084|1      |00000000-afb8-476e-9872-6472b4e66b68|-90.03724267947695|35.15747101937749 |3          |768.5279283203273 |\n",
      "|2019-09-01 22:43:59|2019-09-02 03:43:59|35.15857756261247 |-90.0376389856197 |97      |4.014761|50.363152 |26.450883|1      |00000000-afb8-476e-9872-6472b4e66b68|-90.0376389856197 |35.15857756261247 |7          |117.10787696220476|\n",
      "|2019-09-01 22:44:59|2019-09-02 03:44:59|35.15708793876734 |-90.03775364668604|90      |1.890624|268.467044|21.994646|1      |00000000-afb8-476e-9872-6472b4e66b68|-90.03724267947695|35.15747101937749 |3          |768.5279283203273 |\n",
      "|2019-09-01 22:45:59|2019-09-02 03:45:59|35.15736678958873 |-90.03624488367248|87      |0.290523|187.061816|28.722373|1      |00000000-afb8-476e-9872-6472b4e66b68|-90.03624488367248|35.15736678958873 |8          |50.08025241852694 |\n",
      "+-------------------+-------------------+------------------+------------------+--------+--------+----------+---------+-------+------------------------------------+------------------+------------------+-----------+------------------+\n",
      "only showing top 20 rows\n",
      "\n"
     ]
    }
   ],
   "source": [
    "from cerebralcortex.algorithms.gps.clustering import cluster_gps\n",
    "windowed_gps = gps_stream.window()\n",
    "clusters = cluster_gps(windowed_gps)\n",
    "clusters.show(truncate=False)"
   ]
  },
  {
   "cell_type": "markdown",
   "metadata": {},
   "source": [
    "## Visualize GPS Data"
   ]
  },
  {
   "cell_type": "markdown",
   "metadata": {},
   "source": [
    "### GPS Stream Plot\n",
    "GPS visualization requires dedicated plotting capabilities. Cerebral Cortex includes a library to allow for interactive exploration.  In this plot, use your mouse to drag the map around along with zooming in to explore the specific data points."
   ]
  },
  {
   "cell_type": "code",
   "execution_count": 5,
   "metadata": {},
   "outputs": [
    {
     "data": {
      "application/vnd.jupyter.widget-view+json": {
       "model_id": "c0d25f6ed262416590b56c4e349c2b6a",
       "version_major": 2,
       "version_minor": 0
      },
      "text/plain": [
       "Map(basemap={'url': 'https://{s}.tile.openstreetmap.org/{z}/{x}/{y}.png', 'max_zoom': 19, 'attribution': 'Map …"
      ]
     },
     "metadata": {},
     "output_type": "display_data"
    }
   ],
   "source": [
    "from cerebralcortex.plotting.gps.plots import plot_gps_clusters\n",
    "plot_gps_clusters(clusters,zoom=8)"
   ]
  },
  {
   "cell_type": "code",
   "execution_count": null,
   "metadata": {},
   "outputs": [],
   "source": []
  }
 ],
 "metadata": {
  "kernelspec": {
   "display_name": "Python 3",
   "language": "python",
   "name": "python3"
  },
  "language_info": {
   "codemirror_mode": {
    "name": "ipython",
    "version": 3
   },
   "file_extension": ".py",
   "mimetype": "text/x-python",
   "name": "python",
   "nbconvert_exporter": "python",
   "pygments_lexer": "ipython3",
   "version": "3.6.7"
  },
  "toc-autonumbering": true,
  "toc-showmarkdowntxt": true
 },
 "nbformat": 4,
 "nbformat_minor": 4
}
