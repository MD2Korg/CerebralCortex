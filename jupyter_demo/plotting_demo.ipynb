{
 "cells": [
  {
   "cell_type": "markdown",
   "metadata": {},
   "source": [
    "# Visualizing Data - Data Exploration\n",
    "Cerebral Cortex contains a number of built-in visualization capabilities. This demonstration page will take you through some examples based on typical stress data from mCerebrum and Cerebral Cortex algorithms.\n"
   ]
  },
  {
   "cell_type": "markdown",
   "metadata": {},
   "source": [
    "## Initialize the system"
   ]
  },
  {
   "cell_type": "code",
   "execution_count": 9,
   "metadata": {},
   "outputs": [],
   "source": [
    "%reload_ext autoreload\n",
    "from util.dependencies import *\n",
    "CC = Kernel(\"/home/md2k/cc_conf/\", study_name=\"default\")"
   ]
  },
  {
   "cell_type": "markdown",
   "metadata": {},
   "source": [
    "## Generate some sample stress data\n",
    "This example utilizes a data generator to protect the privacy of real participants and allows for anyone utilizing this system to explore the data without required institutional review board approvals. This is disabled for this demonstration to not create too much data at once."
   ]
  },
  {
   "cell_type": "code",
   "execution_count": 10,
   "metadata": {},
   "outputs": [
    {
     "name": "stdout",
     "output_type": "stream",
     "text": [
      "Stress data is generated successfully.\n"
     ]
    }
   ],
   "source": [
    "gen_stress_data(CC, stream_name=\"STRESS-STREAM\", spark_df=True)"
   ]
  },
  {
   "cell_type": "markdown",
   "metadata": {},
   "source": [
    "## Read the stress stream\n",
    "The command below will read the newly generated stress stream and show a sample of the data."
   ]
  },
  {
   "cell_type": "code",
   "execution_count": 11,
   "metadata": {},
   "outputs": [
    {
     "name": "stdout",
     "output_type": "stream",
     "text": [
      "+-------------------+-------------------+-------------------+-------------------+-------+--------+-------------+--------------------+----------+-------+--------------------+\n",
      "|          timestamp|          localtime|         start_time|           end_time|density|location|stresser_main|        stresser_sub|  activity|version|                user|\n",
      "+-------------------+-------------------+-------------------+-------------------+-------+--------+-------------+--------------------+----------+-------+--------------------+\n",
      "|2019-01-11 21:34:59|2019-01-11 16:34:59|2019-01-11 21:34:59|2019-01-11 21:37:59|   0.47|    road|      Driving|Indecision at a t...|IN_VEHICLE|      2|b1117354-ce48-432...|\n",
      "|2019-01-12 04:34:59|2019-01-11 23:34:59|2019-01-12 04:34:59|2019-01-12 04:36:59|    0.7|    road|      Driving|       Was Tailgated|IN_VEHICLE|      2|b1117354-ce48-432...|\n",
      "|2019-01-12 11:34:59|2019-01-12 06:34:59|2019-01-12 11:34:59|2019-01-12 11:40:59|   0.47|    road|      Driving|Indecision at a t...|IN_VEHICLE|      2|b1117354-ce48-432...|\n",
      "|2019-01-10 23:34:59|2019-01-10 18:34:59|2019-01-10 23:34:59|2019-01-10 23:42:59|   0.28|    road|       Health|    My eating habits|IN_VEHICLE|      2|b1117354-ce48-432...|\n",
      "|2019-01-11 01:34:59|2019-01-10 20:34:59|2019-01-11 01:34:59|2019-01-11 01:50:59|   0.47|    road|      Driving|Indecision at a t...|IN_VEHICLE|      2|b1117354-ce48-432...|\n",
      "+-------------------+-------------------+-------------------+-------------------+-------+--------+-------------+--------------------+----------+-------+--------------------+\n",
      "only showing top 5 rows\n",
      "\n"
     ]
    }
   ],
   "source": [
    "stress_stream = CC.get_stream(\"STRESS-STREAM\")\n",
    "stress_stream.show(5)"
   ]
  },
  {
   "cell_type": "markdown",
   "metadata": {},
   "source": [
    "## Plot examples\n",
    "The following are some example of the types of plots that the system is capable of generating.  These plots utilize off-the-shelf visualization libraries and can be easily modified and/or extended for other datastreams.  Since stress is a core component of MD2K's research, it has been included within the Cerebral Cortex platform for direct use and these examples will utilize it for demonstration purposes.\n",
    "\n",
    "### Pie Chart\n",
    "In this example, the data is grouped into the major stressor categories, _Job, Driving, Finance, and Health_, and the relative breakdown of events are shown within the chart.  If you place your mouse cursor over the pie chart sections, you can see the actual number of events and a category label appear.  Try clicking on one or more of the labels in the legend on the right to disable/enable the data on the graph."
   ]
  },
  {
   "cell_type": "code",
   "execution_count": 12,
   "metadata": {},
   "outputs": [
    {
     "data": {
      "application/vnd.plotly.v1+json": {
       "config": {
        "linkText": "Export to plot.ly",
        "plotlyServerURL": "https://plot.ly",
        "showLink": false
       },
       "data": [
        {
         "labels": [
          "Driving",
          "Finance",
          "Health",
          "Job"
         ],
         "type": "pie",
         "uid": "ac43bb8e-a6ba-4fae-a14e-0e764b851440",
         "values": [
          17,
          3,
          7,
          11
         ]
        }
       ],
       "layout": {}
      },
      "text/html": [
       "<div>\n",
       "        \n",
       "        \n",
       "            <div id=\"b46427cd-6402-4d9c-8f39-b58818e280eb\" class=\"plotly-graph-div\" style=\"height:525px; width:100%;\"></div>\n",
       "            <script type=\"text/javascript\">\n",
       "                require([\"plotly\"], function(Plotly) {\n",
       "                    window.PLOTLYENV=window.PLOTLYENV || {};\n",
       "                    window.PLOTLYENV.BASE_URL='https://plot.ly';\n",
       "                    \n",
       "                if (document.getElementById(\"b46427cd-6402-4d9c-8f39-b58818e280eb\")) {\n",
       "                    Plotly.newPlot(\n",
       "                        'b46427cd-6402-4d9c-8f39-b58818e280eb',\n",
       "                        [{\"labels\": [\"Driving\", \"Finance\", \"Health\", \"Job\"], \"type\": \"pie\", \"uid\": \"ac43bb8e-a6ba-4fae-a14e-0e764b851440\", \"values\": [17, 3, 7, 11]}],\n",
       "                        {},\n",
       "                        {\"showLink\": false, \"linkText\": \"Export to plot.ly\", \"plotlyServerURL\": \"https://plot.ly\", \"responsive\": true}\n",
       "                    ).then(function(){\n",
       "                            \n",
       "var gd = document.getElementById('b46427cd-6402-4d9c-8f39-b58818e280eb');\n",
       "var x = new MutationObserver(function (mutations, observer) {{\n",
       "        var display = window.getComputedStyle(gd).display;\n",
       "        if (!display || display === 'none') {{\n",
       "            console.log([gd, 'removed!']);\n",
       "            Plotly.purge(gd);\n",
       "            observer.disconnect();\n",
       "        }}\n",
       "}});\n",
       "\n",
       "// Listen for the removal of the full notebook cells\n",
       "var notebookContainer = gd.closest('#notebook-container');\n",
       "if (notebookContainer) {{\n",
       "    x.observe(notebookContainer, {childList: true});\n",
       "}}\n",
       "\n",
       "// Listen for the clearing of the current output cell\n",
       "var outputEl = gd.closest('.output');\n",
       "if (outputEl) {{\n",
       "    x.observe(outputEl, {childList: true});\n",
       "}}\n",
       "\n",
       "                        })\n",
       "                };\n",
       "                });\n",
       "            </script>\n",
       "        </div>"
      ]
     },
     "metadata": {},
     "output_type": "display_data"
    }
   ],
   "source": [
    "stress_stream.plot_stress_pie()"
   ]
  },
  {
   "cell_type": "markdown",
   "metadata": {},
   "source": [
    "### Gantt Chart\n",
    "A Gantt chart is typically utilzed to show scheduling information, we utilize it to provide a temporal breakdown of events in different classes.  You will see the same major category labels as before; however, this chart shows the details of the stressors when you place the mouse cursor over the boxes.  This particular chart is interactive and zoomable.  Try it out by dragging a box around some of the data to zoom in and see the data in more detail.  To go back, click on the __home__ icon to reset the zoom to the original state.  "
   ]
  },
  {
   "cell_type": "code",
   "execution_count": 13,
   "metadata": {},
   "outputs": [
    {
     "data": {
      "application/vnd.plotly.v1+json": {
       "config": {
        "linkText": "Export to plot.ly",
        "plotlyServerURL": "https://plot.ly",
        "showLink": false
       },
       "data": [
        {
         "marker": {
          "color": "white"
         },
         "name": "",
         "type": "scatter",
         "uid": "22656b0e-b54b-46a3-a346-efd6cd7e5137",
         "x": [
          "2019-01-09 16:34:59",
          "2019-01-09 16:46:59"
         ],
         "y": [
          0,
          0
         ]
        },
        {
         "marker": {
          "color": "white"
         },
         "name": "",
         "type": "scatter",
         "uid": "bf8d43fc-35e6-4a7d-bd6c-9db73fddd040",
         "x": [
          "2019-01-09 18:34:59",
          "2019-01-09 18:46:59"
         ],
         "y": [
          1,
          1
         ]
        },
        {
         "marker": {
          "color": "white"
         },
         "name": "",
         "type": "scatter",
         "uid": "063b26b7-1ef2-4a74-aae0-d650f7277354",
         "x": [
          "2019-01-09 18:34:59",
          "2019-01-09 19:03:59"
         ],
         "y": [
          2,
          2
         ]
        },
        {
         "marker": {
          "color": "white"
         },
         "name": "",
         "type": "scatter",
         "uid": "7142f5c3-19d9-4794-a3ad-c101c1492468",
         "x": [
          "2019-01-09 19:34:59",
          "2019-01-09 19:37:59"
         ],
         "y": [
          3,
          3
         ]
        },
        {
         "marker": {
          "color": "white"
         },
         "name": "",
         "type": "scatter",
         "uid": "ec42efe6-0a62-4837-82ff-0712cff6e7ee",
         "x": [
          "2019-01-09 20:34:59",
          "2019-01-09 20:50:59"
         ],
         "y": [
          4,
          4
         ]
        },
        {
         "marker": {
          "color": "white"
         },
         "name": "",
         "type": "scatter",
         "uid": "15d988e8-8fce-49cb-88a6-2021471ebefc",
         "x": [
          "2019-01-09 21:34:59",
          "2019-01-09 21:42:59"
         ],
         "y": [
          5,
          5
         ]
        },
        {
         "marker": {
          "color": "white"
         },
         "name": "",
         "type": "scatter",
         "uid": "a0b066c5-ca23-4a5f-8768-9681007c66b6",
         "x": [
          "2019-01-09 21:34:59",
          "2019-01-09 21:50:59"
         ],
         "y": [
          6,
          6
         ]
        },
        {
         "marker": {
          "color": "white"
         },
         "name": "",
         "type": "scatter",
         "uid": "4c6a70e2-3d47-49f7-aff5-3714c96fcaa1",
         "x": [
          "2019-01-10 02:34:59",
          "2019-01-10 02:37:59"
         ],
         "y": [
          7,
          7
         ]
        },
        {
         "marker": {
          "color": "white"
         },
         "name": "",
         "type": "scatter",
         "uid": "86cc3a86-41be-40b0-a76c-4a867811cf1f",
         "x": [
          "2019-01-10 02:34:59",
          "2019-01-10 02:46:59"
         ],
         "y": [
          8,
          8
         ]
        },
        {
         "marker": {
          "color": "white"
         },
         "name": "",
         "type": "scatter",
         "uid": "f88b93d3-115d-495a-aa93-aa34da47bed5",
         "x": [
          "2019-01-10 03:34:59",
          "2019-01-10 03:46:59"
         ],
         "y": [
          9,
          9
         ]
        },
        {
         "marker": {
          "color": "white"
         },
         "name": "",
         "type": "scatter",
         "uid": "896b7c49-2a54-48a4-97f6-e81ea7e25901",
         "x": [
          "2019-01-10 05:34:59",
          "2019-01-10 05:37:59"
         ],
         "y": [
          10,
          10
         ]
        },
        {
         "marker": {
          "color": "white"
         },
         "name": "",
         "type": "scatter",
         "uid": "de24f113-3e69-4b12-8666-c9669c2716f0",
         "x": [
          "2019-01-10 06:34:59",
          "2019-01-10 07:19:59"
         ],
         "y": [
          11,
          11
         ]
        },
        {
         "marker": {
          "color": "white"
         },
         "name": "",
         "type": "scatter",
         "uid": "4ba506e8-f1c8-49da-be6e-bd5fc73de8ec",
         "x": [
          "2019-01-10 06:34:59",
          "2019-01-10 06:46:59"
         ],
         "y": [
          12,
          12
         ]
        },
        {
         "marker": {
          "color": "white"
         },
         "name": "",
         "type": "scatter",
         "uid": "687170ad-e175-4f6b-906c-03e39851e63f",
         "x": [
          "2019-01-10 07:34:59",
          "2019-01-10 07:40:59"
         ],
         "y": [
          13,
          13
         ]
        },
        {
         "marker": {
          "color": "white"
         },
         "name": "",
         "type": "scatter",
         "uid": "aba8b3f0-f9a2-41da-8f99-ec734f6ae01b",
         "x": [
          "2019-01-10 08:34:59",
          "2019-01-10 09:19:59"
         ],
         "y": [
          14,
          14
         ]
        },
        {
         "marker": {
          "color": "white"
         },
         "name": "",
         "type": "scatter",
         "uid": "14bee40c-e60f-4f8e-babc-6d3afa79f9c3",
         "x": [
          "2019-01-10 12:34:59",
          "2019-01-10 12:36:59"
         ],
         "y": [
          15,
          15
         ]
        },
        {
         "marker": {
          "color": "white"
         },
         "name": "",
         "type": "scatter",
         "uid": "4b958d08-654b-4a7c-9a4d-afc9e7de6653",
         "x": [
          "2019-01-10 12:34:59",
          "2019-01-10 13:19:59"
         ],
         "y": [
          16,
          16
         ]
        },
        {
         "marker": {
          "color": "white"
         },
         "name": "",
         "type": "scatter",
         "uid": "19cf15e6-1045-4947-a1d0-a64ec3f570c5",
         "x": [
          "2019-01-10 17:34:59",
          "2019-01-10 17:42:59"
         ],
         "y": [
          17,
          17
         ]
        },
        {
         "marker": {
          "color": "white"
         },
         "name": "",
         "type": "scatter",
         "uid": "d4f9367e-654e-4e5c-8be9-9b8222b43941",
         "x": [
          "2019-01-10 17:34:59",
          "2019-01-10 17:46:59"
         ],
         "y": [
          18,
          18
         ]
        },
        {
         "marker": {
          "color": "white"
         },
         "name": "",
         "type": "scatter",
         "uid": "9315b822-2f23-4fed-b63a-6df1cd644e06",
         "x": [
          "2019-01-10 18:34:59",
          "2019-01-10 18:42:59"
         ],
         "y": [
          19,
          19
         ]
        },
        {
         "marker": {
          "color": "white"
         },
         "name": "",
         "type": "scatter",
         "uid": "99bdc208-11c2-43f9-9e3d-d18a3befa5dd",
         "x": [
          "2019-01-10 21:34:59",
          "2019-01-10 21:36:59"
         ],
         "y": [
          20,
          20
         ]
        },
        {
         "marker": {
          "color": "white"
         },
         "name": "",
         "type": "scatter",
         "uid": "3e4bcc67-936a-4bae-80d7-1d6a1a2a839b",
         "x": [
          "2019-01-10 23:34:59",
          "2019-01-10 23:42:59"
         ],
         "y": [
          21,
          21
         ]
        },
        {
         "marker": {
          "color": "white"
         },
         "name": "",
         "type": "scatter",
         "uid": "d8389b15-cd0a-436d-9103-8943691ee348",
         "x": [
          "2019-01-10 23:34:59",
          "2019-01-11 00:19:59"
         ],
         "y": [
          22,
          22
         ]
        },
        {
         "marker": {
          "color": "white"
         },
         "name": "",
         "type": "scatter",
         "uid": "3d43f2a6-af54-4c17-95b4-5f47b8fceb9e",
         "x": [
          "2019-01-11 01:34:59",
          "2019-01-11 01:50:59"
         ],
         "y": [
          23,
          23
         ]
        },
        {
         "marker": {
          "color": "white"
         },
         "name": "",
         "type": "scatter",
         "uid": "27725a31-6b82-4e0c-a69e-35c552d18dca",
         "x": [
          "2019-01-11 02:34:59",
          "2019-01-11 02:46:59"
         ],
         "y": [
          24,
          24
         ]
        },
        {
         "marker": {
          "color": "white"
         },
         "name": "",
         "type": "scatter",
         "uid": "d7cde152-163a-471f-aeca-f3191d5805db",
         "x": [
          "2019-01-11 04:34:59",
          "2019-01-11 04:42:59"
         ],
         "y": [
          25,
          25
         ]
        },
        {
         "marker": {
          "color": "white"
         },
         "name": "",
         "type": "scatter",
         "uid": "38654a90-398f-4510-8d27-c3bf7805a637",
         "x": [
          "2019-01-11 07:34:59",
          "2019-01-11 07:40:59"
         ],
         "y": [
          26,
          26
         ]
        },
        {
         "marker": {
          "color": "white"
         },
         "name": "",
         "type": "scatter",
         "uid": "8fec77af-8a54-450a-a49b-fcca22635557",
         "x": [
          "2019-01-11 09:34:59",
          "2019-01-11 09:37:59"
         ],
         "y": [
          27,
          27
         ]
        },
        {
         "marker": {
          "color": "white"
         },
         "name": "",
         "type": "scatter",
         "uid": "4e79c2f6-6b65-4f95-8536-3ca8ab3dd2da",
         "x": [
          "2019-01-11 11:34:59",
          "2019-01-11 11:40:59"
         ],
         "y": [
          28,
          28
         ]
        },
        {
         "marker": {
          "color": "white"
         },
         "name": "",
         "type": "scatter",
         "uid": "b680e56d-1013-48bd-8ad0-9b4d1c811eb7",
         "x": [
          "2019-01-11 12:34:59",
          "2019-01-11 12:37:59"
         ],
         "y": [
          29,
          29
         ]
        },
        {
         "marker": {
          "color": "white"
         },
         "name": "",
         "type": "scatter",
         "uid": "a7c8737f-ab30-4637-becb-369d7e347d4b",
         "x": [
          "2019-01-11 13:34:59",
          "2019-01-11 13:50:59"
         ],
         "y": [
          30,
          30
         ]
        },
        {
         "marker": {
          "color": "white"
         },
         "name": "",
         "type": "scatter",
         "uid": "1319df7d-ce05-4a37-91f9-e45c5a9d2675",
         "x": [
          "2019-01-11 14:34:59",
          "2019-01-11 14:46:59"
         ],
         "y": [
          31,
          31
         ]
        },
        {
         "marker": {
          "color": "white"
         },
         "name": "",
         "type": "scatter",
         "uid": "0f5dcc68-249d-404f-b9fb-170705cf519e",
         "x": [
          "2019-01-11 14:34:59",
          "2019-01-11 15:03:59"
         ],
         "y": [
          32,
          32
         ]
        },
        {
         "marker": {
          "color": "white"
         },
         "name": "",
         "type": "scatter",
         "uid": "0e749ac1-1611-49c1-a9fd-de61df09bf13",
         "x": [
          "2019-01-11 19:34:59",
          "2019-01-11 19:42:59"
         ],
         "y": [
          33,
          33
         ]
        },
        {
         "marker": {
          "color": "white"
         },
         "name": "",
         "type": "scatter",
         "uid": "3da5249a-ecdc-44b9-ad47-9b4164df4b76",
         "x": [
          "2019-01-11 20:34:59",
          "2019-01-11 20:40:59"
         ],
         "y": [
          34,
          34
         ]
        },
        {
         "marker": {
          "color": "white"
         },
         "name": "",
         "type": "scatter",
         "uid": "4f8db35d-92af-4472-b981-406acfcdb4a0",
         "x": [
          "2019-01-11 21:34:59",
          "2019-01-11 21:37:59"
         ],
         "y": [
          35,
          35
         ]
        },
        {
         "marker": {
          "color": "white"
         },
         "name": "",
         "type": "scatter",
         "uid": "8a83d6cb-e8e3-4ecb-8a0a-5b7638f464b7",
         "x": [
          "2019-01-12 04:34:59",
          "2019-01-12 04:36:59"
         ],
         "y": [
          36,
          36
         ]
        },
        {
         "marker": {
          "color": "white"
         },
         "name": "",
         "type": "scatter",
         "uid": "c397da97-63eb-43aa-92f2-bfc8607b86a4",
         "x": [
          "2019-01-12 11:34:59",
          "2019-01-12 11:40:59"
         ],
         "y": [
          37,
          37
         ]
        },
        {
         "hoverinfo": "none",
         "marker": {
          "color": "rgb(31, 119, 180)",
          "size": 1
         },
         "name": "Driving",
         "showlegend": true,
         "type": "scatter",
         "uid": "eb90513a-3bcc-4b21-a7fc-40acdb8802b9",
         "x": [
          "2019-01-12 11:34:59",
          "2019-01-12 11:34:59"
         ],
         "y": [
          0,
          0
         ]
        },
        {
         "hoverinfo": "none",
         "marker": {
          "color": "rgb(255, 127, 14)",
          "size": 1
         },
         "name": "Finance",
         "showlegend": true,
         "type": "scatter",
         "uid": "9843f774-9542-4187-a454-1c4a954dcb7f",
         "x": [
          "2019-01-12 11:34:59",
          "2019-01-12 11:34:59"
         ],
         "y": [
          1,
          1
         ]
        },
        {
         "hoverinfo": "none",
         "marker": {
          "color": "rgb(44, 160, 44)",
          "size": 1
         },
         "name": "Health",
         "showlegend": true,
         "type": "scatter",
         "uid": "d8f752bc-2593-4165-8612-999bae7002c2",
         "x": [
          "2019-01-12 11:34:59",
          "2019-01-12 11:34:59"
         ],
         "y": [
          2,
          2
         ]
        },
        {
         "hoverinfo": "none",
         "marker": {
          "color": "rgb(214, 39, 40)",
          "size": 1
         },
         "name": "Job",
         "showlegend": true,
         "type": "scatter",
         "uid": "68d8336a-73d2-4c92-ac33-381a9ba9f0a8",
         "x": [
          "2019-01-12 11:34:59",
          "2019-01-12 11:34:59"
         ],
         "y": [
          3,
          3
         ]
        }
       ],
       "layout": {
        "height": 600,
        "hovermode": "closest",
        "shapes": [
         {
          "fillcolor": "rgb(31, 119, 180)",
          "line": {
           "width": 0
          },
          "opacity": 1,
          "type": "rect",
          "x0": "2019-01-09 16:34:59",
          "x1": "2019-01-09 16:46:59",
          "xref": "x",
          "y0": -0.8,
          "y1": 0.8,
          "yref": "y"
         },
         {
          "fillcolor": "rgb(214, 39, 40)",
          "line": {
           "width": 0
          },
          "opacity": 1,
          "type": "rect",
          "x0": "2019-01-09 18:34:59",
          "x1": "2019-01-09 18:46:59",
          "xref": "x",
          "y0": 0.19999999999999996,
          "y1": 1.8,
          "yref": "y"
         },
         {
          "fillcolor": "rgb(31, 119, 180)",
          "line": {
           "width": 0
          },
          "opacity": 1,
          "type": "rect",
          "x0": "2019-01-09 18:34:59",
          "x1": "2019-01-09 19:03:59",
          "xref": "x",
          "y0": 1.2,
          "y1": 2.8,
          "yref": "y"
         },
         {
          "fillcolor": "rgb(214, 39, 40)",
          "line": {
           "width": 0
          },
          "opacity": 1,
          "type": "rect",
          "x0": "2019-01-09 19:34:59",
          "x1": "2019-01-09 19:37:59",
          "xref": "x",
          "y0": 2.2,
          "y1": 3.8,
          "yref": "y"
         },
         {
          "fillcolor": "rgb(31, 119, 180)",
          "line": {
           "width": 0
          },
          "opacity": 1,
          "type": "rect",
          "x0": "2019-01-09 20:34:59",
          "x1": "2019-01-09 20:50:59",
          "xref": "x",
          "y0": 3.2,
          "y1": 4.8,
          "yref": "y"
         },
         {
          "fillcolor": "rgb(214, 39, 40)",
          "line": {
           "width": 0
          },
          "opacity": 1,
          "type": "rect",
          "x0": "2019-01-09 21:34:59",
          "x1": "2019-01-09 21:42:59",
          "xref": "x",
          "y0": 4.2,
          "y1": 5.8,
          "yref": "y"
         },
         {
          "fillcolor": "rgb(44, 160, 44)",
          "line": {
           "width": 0
          },
          "opacity": 1,
          "type": "rect",
          "x0": "2019-01-09 21:34:59",
          "x1": "2019-01-09 21:50:59",
          "xref": "x",
          "y0": 5.2,
          "y1": 6.8,
          "yref": "y"
         },
         {
          "fillcolor": "rgb(214, 39, 40)",
          "line": {
           "width": 0
          },
          "opacity": 1,
          "type": "rect",
          "x0": "2019-01-10 02:34:59",
          "x1": "2019-01-10 02:37:59",
          "xref": "x",
          "y0": 6.2,
          "y1": 7.8,
          "yref": "y"
         },
         {
          "fillcolor": "rgb(44, 160, 44)",
          "line": {
           "width": 0
          },
          "opacity": 1,
          "type": "rect",
          "x0": "2019-01-10 02:34:59",
          "x1": "2019-01-10 02:46:59",
          "xref": "x",
          "y0": 7.2,
          "y1": 8.8,
          "yref": "y"
         },
         {
          "fillcolor": "rgb(31, 119, 180)",
          "line": {
           "width": 0
          },
          "opacity": 1,
          "type": "rect",
          "x0": "2019-01-10 03:34:59",
          "x1": "2019-01-10 03:46:59",
          "xref": "x",
          "y0": 8.2,
          "y1": 9.8,
          "yref": "y"
         },
         {
          "fillcolor": "rgb(214, 39, 40)",
          "line": {
           "width": 0
          },
          "opacity": 1,
          "type": "rect",
          "x0": "2019-01-10 05:34:59",
          "x1": "2019-01-10 05:37:59",
          "xref": "x",
          "y0": 9.2,
          "y1": 10.8,
          "yref": "y"
         },
         {
          "fillcolor": "rgb(214, 39, 40)",
          "line": {
           "width": 0
          },
          "opacity": 1,
          "type": "rect",
          "x0": "2019-01-10 06:34:59",
          "x1": "2019-01-10 07:19:59",
          "xref": "x",
          "y0": 10.2,
          "y1": 11.8,
          "yref": "y"
         },
         {
          "fillcolor": "rgb(31, 119, 180)",
          "line": {
           "width": 0
          },
          "opacity": 1,
          "type": "rect",
          "x0": "2019-01-10 06:34:59",
          "x1": "2019-01-10 06:46:59",
          "xref": "x",
          "y0": 11.2,
          "y1": 12.8,
          "yref": "y"
         },
         {
          "fillcolor": "rgb(44, 160, 44)",
          "line": {
           "width": 0
          },
          "opacity": 1,
          "type": "rect",
          "x0": "2019-01-10 07:34:59",
          "x1": "2019-01-10 07:40:59",
          "xref": "x",
          "y0": 12.2,
          "y1": 13.8,
          "yref": "y"
         },
         {
          "fillcolor": "rgb(44, 160, 44)",
          "line": {
           "width": 0
          },
          "opacity": 1,
          "type": "rect",
          "x0": "2019-01-10 08:34:59",
          "x1": "2019-01-10 09:19:59",
          "xref": "x",
          "y0": 13.2,
          "y1": 14.8,
          "yref": "y"
         },
         {
          "fillcolor": "rgb(31, 119, 180)",
          "line": {
           "width": 0
          },
          "opacity": 1,
          "type": "rect",
          "x0": "2019-01-10 12:34:59",
          "x1": "2019-01-10 12:36:59",
          "xref": "x",
          "y0": 14.2,
          "y1": 15.8,
          "yref": "y"
         },
         {
          "fillcolor": "rgb(255, 127, 14)",
          "line": {
           "width": 0
          },
          "opacity": 1,
          "type": "rect",
          "x0": "2019-01-10 12:34:59",
          "x1": "2019-01-10 13:19:59",
          "xref": "x",
          "y0": 15.2,
          "y1": 16.8,
          "yref": "y"
         },
         {
          "fillcolor": "rgb(31, 119, 180)",
          "line": {
           "width": 0
          },
          "opacity": 1,
          "type": "rect",
          "x0": "2019-01-10 17:34:59",
          "x1": "2019-01-10 17:42:59",
          "xref": "x",
          "y0": 16.2,
          "y1": 17.8,
          "yref": "y"
         },
         {
          "fillcolor": "rgb(31, 119, 180)",
          "line": {
           "width": 0
          },
          "opacity": 1,
          "type": "rect",
          "x0": "2019-01-10 17:34:59",
          "x1": "2019-01-10 17:46:59",
          "xref": "x",
          "y0": 17.2,
          "y1": 18.8,
          "yref": "y"
         },
         {
          "fillcolor": "rgb(214, 39, 40)",
          "line": {
           "width": 0
          },
          "opacity": 1,
          "type": "rect",
          "x0": "2019-01-10 18:34:59",
          "x1": "2019-01-10 18:42:59",
          "xref": "x",
          "y0": 18.2,
          "y1": 19.8,
          "yref": "y"
         },
         {
          "fillcolor": "rgb(214, 39, 40)",
          "line": {
           "width": 0
          },
          "opacity": 1,
          "type": "rect",
          "x0": "2019-01-10 21:34:59",
          "x1": "2019-01-10 21:36:59",
          "xref": "x",
          "y0": 19.2,
          "y1": 20.8,
          "yref": "y"
         },
         {
          "fillcolor": "rgb(44, 160, 44)",
          "line": {
           "width": 0
          },
          "opacity": 1,
          "type": "rect",
          "x0": "2019-01-10 23:34:59",
          "x1": "2019-01-10 23:42:59",
          "xref": "x",
          "y0": 20.2,
          "y1": 21.8,
          "yref": "y"
         },
         {
          "fillcolor": "rgb(31, 119, 180)",
          "line": {
           "width": 0
          },
          "opacity": 1,
          "type": "rect",
          "x0": "2019-01-10 23:34:59",
          "x1": "2019-01-11 00:19:59",
          "xref": "x",
          "y0": 21.2,
          "y1": 22.8,
          "yref": "y"
         },
         {
          "fillcolor": "rgb(31, 119, 180)",
          "line": {
           "width": 0
          },
          "opacity": 1,
          "type": "rect",
          "x0": "2019-01-11 01:34:59",
          "x1": "2019-01-11 01:50:59",
          "xref": "x",
          "y0": 22.2,
          "y1": 23.8,
          "yref": "y"
         },
         {
          "fillcolor": "rgb(214, 39, 40)",
          "line": {
           "width": 0
          },
          "opacity": 1,
          "type": "rect",
          "x0": "2019-01-11 02:34:59",
          "x1": "2019-01-11 02:46:59",
          "xref": "x",
          "y0": 23.2,
          "y1": 24.8,
          "yref": "y"
         },
         {
          "fillcolor": "rgb(44, 160, 44)",
          "line": {
           "width": 0
          },
          "opacity": 1,
          "type": "rect",
          "x0": "2019-01-11 04:34:59",
          "x1": "2019-01-11 04:42:59",
          "xref": "x",
          "y0": 24.2,
          "y1": 25.8,
          "yref": "y"
         },
         {
          "fillcolor": "rgb(214, 39, 40)",
          "line": {
           "width": 0
          },
          "opacity": 1,
          "type": "rect",
          "x0": "2019-01-11 07:34:59",
          "x1": "2019-01-11 07:40:59",
          "xref": "x",
          "y0": 25.2,
          "y1": 26.8,
          "yref": "y"
         },
         {
          "fillcolor": "rgb(255, 127, 14)",
          "line": {
           "width": 0
          },
          "opacity": 1,
          "type": "rect",
          "x0": "2019-01-11 09:34:59",
          "x1": "2019-01-11 09:37:59",
          "xref": "x",
          "y0": 26.2,
          "y1": 27.8,
          "yref": "y"
         },
         {
          "fillcolor": "rgb(31, 119, 180)",
          "line": {
           "width": 0
          },
          "opacity": 1,
          "type": "rect",
          "x0": "2019-01-11 11:34:59",
          "x1": "2019-01-11 11:40:59",
          "xref": "x",
          "y0": 27.2,
          "y1": 28.8,
          "yref": "y"
         },
         {
          "fillcolor": "rgb(44, 160, 44)",
          "line": {
           "width": 0
          },
          "opacity": 1,
          "type": "rect",
          "x0": "2019-01-11 12:34:59",
          "x1": "2019-01-11 12:37:59",
          "xref": "x",
          "y0": 28.2,
          "y1": 29.8,
          "yref": "y"
         },
         {
          "fillcolor": "rgb(255, 127, 14)",
          "line": {
           "width": 0
          },
          "opacity": 1,
          "type": "rect",
          "x0": "2019-01-11 13:34:59",
          "x1": "2019-01-11 13:50:59",
          "xref": "x",
          "y0": 29.2,
          "y1": 30.8,
          "yref": "y"
         },
         {
          "fillcolor": "rgb(31, 119, 180)",
          "line": {
           "width": 0
          },
          "opacity": 1,
          "type": "rect",
          "x0": "2019-01-11 14:34:59",
          "x1": "2019-01-11 14:46:59",
          "xref": "x",
          "y0": 30.2,
          "y1": 31.8,
          "yref": "y"
         },
         {
          "fillcolor": "rgb(31, 119, 180)",
          "line": {
           "width": 0
          },
          "opacity": 1,
          "type": "rect",
          "x0": "2019-01-11 14:34:59",
          "x1": "2019-01-11 15:03:59",
          "xref": "x",
          "y0": 31.2,
          "y1": 32.8,
          "yref": "y"
         },
         {
          "fillcolor": "rgb(31, 119, 180)",
          "line": {
           "width": 0
          },
          "opacity": 1,
          "type": "rect",
          "x0": "2019-01-11 19:34:59",
          "x1": "2019-01-11 19:42:59",
          "xref": "x",
          "y0": 32.2,
          "y1": 33.8,
          "yref": "y"
         },
         {
          "fillcolor": "rgb(214, 39, 40)",
          "line": {
           "width": 0
          },
          "opacity": 1,
          "type": "rect",
          "x0": "2019-01-11 20:34:59",
          "x1": "2019-01-11 20:40:59",
          "xref": "x",
          "y0": 33.2,
          "y1": 34.8,
          "yref": "y"
         },
         {
          "fillcolor": "rgb(31, 119, 180)",
          "line": {
           "width": 0
          },
          "opacity": 1,
          "type": "rect",
          "x0": "2019-01-11 21:34:59",
          "x1": "2019-01-11 21:37:59",
          "xref": "x",
          "y0": 34.2,
          "y1": 35.8,
          "yref": "y"
         },
         {
          "fillcolor": "rgb(31, 119, 180)",
          "line": {
           "width": 0
          },
          "opacity": 1,
          "type": "rect",
          "x0": "2019-01-12 04:34:59",
          "x1": "2019-01-12 04:36:59",
          "xref": "x",
          "y0": 35.2,
          "y1": 36.8,
          "yref": "y"
         },
         {
          "fillcolor": "rgb(31, 119, 180)",
          "line": {
           "width": 0
          },
          "opacity": 1,
          "type": "rect",
          "x0": "2019-01-12 11:34:59",
          "x1": "2019-01-12 11:40:59",
          "xref": "x",
          "y0": 36.2,
          "y1": 37.8,
          "yref": "y"
         }
        ],
        "showlegend": true,
        "title": {
         "text": "Stressers, Main & Sub Categories"
        },
        "width": 900,
        "xaxis": {
         "rangeselector": {
          "buttons": [
           {
            "count": 7,
            "label": "1w",
            "step": "day",
            "stepmode": "backward"
           },
           {
            "count": 1,
            "label": "1m",
            "step": "month",
            "stepmode": "backward"
           },
           {
            "count": 6,
            "label": "6m",
            "step": "month",
            "stepmode": "backward"
           },
           {
            "count": 1,
            "label": "YTD",
            "step": "year",
            "stepmode": "todate"
           },
           {
            "count": 1,
            "label": "1y",
            "step": "year",
            "stepmode": "backward"
           },
           {
            "step": "all"
           }
          ]
         },
         "showgrid": true,
         "type": "date",
         "zeroline": false
        },
        "yaxis": {
         "autorange": false,
         "range": [
          -1,
          39
         ],
         "showgrid": true,
         "showticklabels": false,
         "ticktext": [
          "Saw a police car",
          "Late arrival",
          "Was Tailgated",
          "Late arrival",
          "Saw a police car",
          "Technology barriers",
          "Physical inability",
          "Unpleasant conversation",
          "My eating habits",
          "Difficulty in navigating",
          "Bored / Not enough to do",
          "Late arrival",
          "Indecision at a traffic intersection",
          "Physical inability",
          "My eating habits",
          "Saw a police car",
          "Unexpected losses",
          "Saw a police car",
          "Saw a police car",
          "Late arrival",
          "Unpleasant conversation",
          "My eating habits",
          "Saw a police car",
          "Indecision at a traffic intersection",
          "Bored / Not enough to do",
          "My eating habits",
          "Late arrival",
          "Unexpected losses",
          "Was Tailgated",
          "Physical inability",
          "Missed payment",
          "Difficulty in navigating",
          "Was Tailgated",
          "Was Tailgated",
          "Unpleasant conversation",
          "Indecision at a traffic intersection",
          "Was Tailgated",
          "Indecision at a traffic intersection"
         ],
         "tickvals": [
          0,
          1,
          2,
          3,
          4,
          5,
          6,
          7,
          8,
          9,
          10,
          11,
          12,
          13,
          14,
          15,
          16,
          17,
          18,
          19,
          20,
          21,
          22,
          23,
          24,
          25,
          26,
          27,
          28,
          29,
          30,
          31,
          32,
          33,
          34,
          35,
          36,
          37
         ],
         "zeroline": false
        }
       }
      },
      "text/html": [
       "<div>\n",
       "        \n",
       "        \n",
       "            <div id=\"e7fa570d-3196-40fd-a361-1fc5995ac3ff\" class=\"plotly-graph-div\" style=\"height:600px; width:900px;\"></div>\n",
       "            <script type=\"text/javascript\">\n",
       "                require([\"plotly\"], function(Plotly) {\n",
       "                    window.PLOTLYENV=window.PLOTLYENV || {};\n",
       "                    window.PLOTLYENV.BASE_URL='https://plot.ly';\n",
       "                    \n",
       "                if (document.getElementById(\"e7fa570d-3196-40fd-a361-1fc5995ac3ff\")) {\n",
       "                    Plotly.newPlot(\n",
       "                        'e7fa570d-3196-40fd-a361-1fc5995ac3ff',\n",
       "                        [{\"marker\": {\"color\": \"white\"}, \"name\": \"\", \"type\": \"scatter\", \"uid\": \"22656b0e-b54b-46a3-a346-efd6cd7e5137\", \"x\": [\"2019-01-09 16:34:59\", \"2019-01-09 16:46:59\"], \"y\": [0, 0]}, {\"marker\": {\"color\": \"white\"}, \"name\": \"\", \"type\": \"scatter\", \"uid\": \"bf8d43fc-35e6-4a7d-bd6c-9db73fddd040\", \"x\": [\"2019-01-09 18:34:59\", \"2019-01-09 18:46:59\"], \"y\": [1, 1]}, {\"marker\": {\"color\": \"white\"}, \"name\": \"\", \"type\": \"scatter\", \"uid\": \"063b26b7-1ef2-4a74-aae0-d650f7277354\", \"x\": [\"2019-01-09 18:34:59\", \"2019-01-09 19:03:59\"], \"y\": [2, 2]}, {\"marker\": {\"color\": \"white\"}, \"name\": \"\", \"type\": \"scatter\", \"uid\": \"7142f5c3-19d9-4794-a3ad-c101c1492468\", \"x\": [\"2019-01-09 19:34:59\", \"2019-01-09 19:37:59\"], \"y\": [3, 3]}, {\"marker\": {\"color\": \"white\"}, \"name\": \"\", \"type\": \"scatter\", \"uid\": \"ec42efe6-0a62-4837-82ff-0712cff6e7ee\", \"x\": [\"2019-01-09 20:34:59\", \"2019-01-09 20:50:59\"], \"y\": [4, 4]}, {\"marker\": {\"color\": \"white\"}, \"name\": \"\", \"type\": \"scatter\", \"uid\": \"15d988e8-8fce-49cb-88a6-2021471ebefc\", \"x\": [\"2019-01-09 21:34:59\", \"2019-01-09 21:42:59\"], \"y\": [5, 5]}, {\"marker\": {\"color\": \"white\"}, \"name\": \"\", \"type\": \"scatter\", \"uid\": \"a0b066c5-ca23-4a5f-8768-9681007c66b6\", \"x\": [\"2019-01-09 21:34:59\", \"2019-01-09 21:50:59\"], \"y\": [6, 6]}, {\"marker\": {\"color\": \"white\"}, \"name\": \"\", \"type\": \"scatter\", \"uid\": \"4c6a70e2-3d47-49f7-aff5-3714c96fcaa1\", \"x\": [\"2019-01-10 02:34:59\", \"2019-01-10 02:37:59\"], \"y\": [7, 7]}, {\"marker\": {\"color\": \"white\"}, \"name\": \"\", \"type\": \"scatter\", \"uid\": \"86cc3a86-41be-40b0-a76c-4a867811cf1f\", \"x\": [\"2019-01-10 02:34:59\", \"2019-01-10 02:46:59\"], \"y\": [8, 8]}, {\"marker\": {\"color\": \"white\"}, \"name\": \"\", \"type\": \"scatter\", \"uid\": \"f88b93d3-115d-495a-aa93-aa34da47bed5\", \"x\": [\"2019-01-10 03:34:59\", \"2019-01-10 03:46:59\"], \"y\": [9, 9]}, {\"marker\": {\"color\": \"white\"}, \"name\": \"\", \"type\": \"scatter\", \"uid\": \"896b7c49-2a54-48a4-97f6-e81ea7e25901\", \"x\": [\"2019-01-10 05:34:59\", \"2019-01-10 05:37:59\"], \"y\": [10, 10]}, {\"marker\": {\"color\": \"white\"}, \"name\": \"\", \"type\": \"scatter\", \"uid\": \"de24f113-3e69-4b12-8666-c9669c2716f0\", \"x\": [\"2019-01-10 06:34:59\", \"2019-01-10 07:19:59\"], \"y\": [11, 11]}, {\"marker\": {\"color\": \"white\"}, \"name\": \"\", \"type\": \"scatter\", \"uid\": \"4ba506e8-f1c8-49da-be6e-bd5fc73de8ec\", \"x\": [\"2019-01-10 06:34:59\", \"2019-01-10 06:46:59\"], \"y\": [12, 12]}, {\"marker\": {\"color\": \"white\"}, \"name\": \"\", \"type\": \"scatter\", \"uid\": \"687170ad-e175-4f6b-906c-03e39851e63f\", \"x\": [\"2019-01-10 07:34:59\", \"2019-01-10 07:40:59\"], \"y\": [13, 13]}, {\"marker\": {\"color\": \"white\"}, \"name\": \"\", \"type\": \"scatter\", \"uid\": \"aba8b3f0-f9a2-41da-8f99-ec734f6ae01b\", \"x\": [\"2019-01-10 08:34:59\", \"2019-01-10 09:19:59\"], \"y\": [14, 14]}, {\"marker\": {\"color\": \"white\"}, \"name\": \"\", \"type\": \"scatter\", \"uid\": \"14bee40c-e60f-4f8e-babc-6d3afa79f9c3\", \"x\": [\"2019-01-10 12:34:59\", \"2019-01-10 12:36:59\"], \"y\": [15, 15]}, {\"marker\": {\"color\": \"white\"}, \"name\": \"\", \"type\": \"scatter\", \"uid\": \"4b958d08-654b-4a7c-9a4d-afc9e7de6653\", \"x\": [\"2019-01-10 12:34:59\", \"2019-01-10 13:19:59\"], \"y\": [16, 16]}, {\"marker\": {\"color\": \"white\"}, \"name\": \"\", \"type\": \"scatter\", \"uid\": \"19cf15e6-1045-4947-a1d0-a64ec3f570c5\", \"x\": [\"2019-01-10 17:34:59\", \"2019-01-10 17:42:59\"], \"y\": [17, 17]}, {\"marker\": {\"color\": \"white\"}, \"name\": \"\", \"type\": \"scatter\", \"uid\": \"d4f9367e-654e-4e5c-8be9-9b8222b43941\", \"x\": [\"2019-01-10 17:34:59\", \"2019-01-10 17:46:59\"], \"y\": [18, 18]}, {\"marker\": {\"color\": \"white\"}, \"name\": \"\", \"type\": \"scatter\", \"uid\": \"9315b822-2f23-4fed-b63a-6df1cd644e06\", \"x\": [\"2019-01-10 18:34:59\", \"2019-01-10 18:42:59\"], \"y\": [19, 19]}, {\"marker\": {\"color\": \"white\"}, \"name\": \"\", \"type\": \"scatter\", \"uid\": \"99bdc208-11c2-43f9-9e3d-d18a3befa5dd\", \"x\": [\"2019-01-10 21:34:59\", \"2019-01-10 21:36:59\"], \"y\": [20, 20]}, {\"marker\": {\"color\": \"white\"}, \"name\": \"\", \"type\": \"scatter\", \"uid\": \"3e4bcc67-936a-4bae-80d7-1d6a1a2a839b\", \"x\": [\"2019-01-10 23:34:59\", \"2019-01-10 23:42:59\"], \"y\": [21, 21]}, {\"marker\": {\"color\": \"white\"}, \"name\": \"\", \"type\": \"scatter\", \"uid\": \"d8389b15-cd0a-436d-9103-8943691ee348\", \"x\": [\"2019-01-10 23:34:59\", \"2019-01-11 00:19:59\"], \"y\": [22, 22]}, {\"marker\": {\"color\": \"white\"}, \"name\": \"\", \"type\": \"scatter\", \"uid\": \"3d43f2a6-af54-4c17-95b4-5f47b8fceb9e\", \"x\": [\"2019-01-11 01:34:59\", \"2019-01-11 01:50:59\"], \"y\": [23, 23]}, {\"marker\": {\"color\": \"white\"}, \"name\": \"\", \"type\": \"scatter\", \"uid\": \"27725a31-6b82-4e0c-a69e-35c552d18dca\", \"x\": [\"2019-01-11 02:34:59\", \"2019-01-11 02:46:59\"], \"y\": [24, 24]}, {\"marker\": {\"color\": \"white\"}, \"name\": \"\", \"type\": \"scatter\", \"uid\": \"d7cde152-163a-471f-aeca-f3191d5805db\", \"x\": [\"2019-01-11 04:34:59\", \"2019-01-11 04:42:59\"], \"y\": [25, 25]}, {\"marker\": {\"color\": \"white\"}, \"name\": \"\", \"type\": \"scatter\", \"uid\": \"38654a90-398f-4510-8d27-c3bf7805a637\", \"x\": [\"2019-01-11 07:34:59\", \"2019-01-11 07:40:59\"], \"y\": [26, 26]}, {\"marker\": {\"color\": \"white\"}, \"name\": \"\", \"type\": \"scatter\", \"uid\": \"8fec77af-8a54-450a-a49b-fcca22635557\", \"x\": [\"2019-01-11 09:34:59\", \"2019-01-11 09:37:59\"], \"y\": [27, 27]}, {\"marker\": {\"color\": \"white\"}, \"name\": \"\", \"type\": \"scatter\", \"uid\": \"4e79c2f6-6b65-4f95-8536-3ca8ab3dd2da\", \"x\": [\"2019-01-11 11:34:59\", \"2019-01-11 11:40:59\"], \"y\": [28, 28]}, {\"marker\": {\"color\": \"white\"}, \"name\": \"\", \"type\": \"scatter\", \"uid\": \"b680e56d-1013-48bd-8ad0-9b4d1c811eb7\", \"x\": [\"2019-01-11 12:34:59\", \"2019-01-11 12:37:59\"], \"y\": [29, 29]}, {\"marker\": {\"color\": \"white\"}, \"name\": \"\", \"type\": \"scatter\", \"uid\": \"a7c8737f-ab30-4637-becb-369d7e347d4b\", \"x\": [\"2019-01-11 13:34:59\", \"2019-01-11 13:50:59\"], \"y\": [30, 30]}, {\"marker\": {\"color\": \"white\"}, \"name\": \"\", \"type\": \"scatter\", \"uid\": \"1319df7d-ce05-4a37-91f9-e45c5a9d2675\", \"x\": [\"2019-01-11 14:34:59\", \"2019-01-11 14:46:59\"], \"y\": [31, 31]}, {\"marker\": {\"color\": \"white\"}, \"name\": \"\", \"type\": \"scatter\", \"uid\": \"0f5dcc68-249d-404f-b9fb-170705cf519e\", \"x\": [\"2019-01-11 14:34:59\", \"2019-01-11 15:03:59\"], \"y\": [32, 32]}, {\"marker\": {\"color\": \"white\"}, \"name\": \"\", \"type\": \"scatter\", \"uid\": \"0e749ac1-1611-49c1-a9fd-de61df09bf13\", \"x\": [\"2019-01-11 19:34:59\", \"2019-01-11 19:42:59\"], \"y\": [33, 33]}, {\"marker\": {\"color\": \"white\"}, \"name\": \"\", \"type\": \"scatter\", \"uid\": \"3da5249a-ecdc-44b9-ad47-9b4164df4b76\", \"x\": [\"2019-01-11 20:34:59\", \"2019-01-11 20:40:59\"], \"y\": [34, 34]}, {\"marker\": {\"color\": \"white\"}, \"name\": \"\", \"type\": \"scatter\", \"uid\": \"4f8db35d-92af-4472-b981-406acfcdb4a0\", \"x\": [\"2019-01-11 21:34:59\", \"2019-01-11 21:37:59\"], \"y\": [35, 35]}, {\"marker\": {\"color\": \"white\"}, \"name\": \"\", \"type\": \"scatter\", \"uid\": \"8a83d6cb-e8e3-4ecb-8a0a-5b7638f464b7\", \"x\": [\"2019-01-12 04:34:59\", \"2019-01-12 04:36:59\"], \"y\": [36, 36]}, {\"marker\": {\"color\": \"white\"}, \"name\": \"\", \"type\": \"scatter\", \"uid\": \"c397da97-63eb-43aa-92f2-bfc8607b86a4\", \"x\": [\"2019-01-12 11:34:59\", \"2019-01-12 11:40:59\"], \"y\": [37, 37]}, {\"hoverinfo\": \"none\", \"marker\": {\"color\": \"rgb(31, 119, 180)\", \"size\": 1}, \"name\": \"Driving\", \"showlegend\": true, \"type\": \"scatter\", \"uid\": \"eb90513a-3bcc-4b21-a7fc-40acdb8802b9\", \"x\": [\"2019-01-12 11:34:59\", \"2019-01-12 11:34:59\"], \"y\": [0, 0]}, {\"hoverinfo\": \"none\", \"marker\": {\"color\": \"rgb(255, 127, 14)\", \"size\": 1}, \"name\": \"Finance\", \"showlegend\": true, \"type\": \"scatter\", \"uid\": \"9843f774-9542-4187-a454-1c4a954dcb7f\", \"x\": [\"2019-01-12 11:34:59\", \"2019-01-12 11:34:59\"], \"y\": [1, 1]}, {\"hoverinfo\": \"none\", \"marker\": {\"color\": \"rgb(44, 160, 44)\", \"size\": 1}, \"name\": \"Health\", \"showlegend\": true, \"type\": \"scatter\", \"uid\": \"d8f752bc-2593-4165-8612-999bae7002c2\", \"x\": [\"2019-01-12 11:34:59\", \"2019-01-12 11:34:59\"], \"y\": [2, 2]}, {\"hoverinfo\": \"none\", \"marker\": {\"color\": \"rgb(214, 39, 40)\", \"size\": 1}, \"name\": \"Job\", \"showlegend\": true, \"type\": \"scatter\", \"uid\": \"68d8336a-73d2-4c92-ac33-381a9ba9f0a8\", \"x\": [\"2019-01-12 11:34:59\", \"2019-01-12 11:34:59\"], \"y\": [3, 3]}],\n",
       "                        {\"height\": 600, \"hovermode\": \"closest\", \"shapes\": [{\"fillcolor\": \"rgb(31, 119, 180)\", \"line\": {\"width\": 0}, \"opacity\": 1, \"type\": \"rect\", \"x0\": \"2019-01-09 16:34:59\", \"x1\": \"2019-01-09 16:46:59\", \"xref\": \"x\", \"y0\": -0.8, \"y1\": 0.8, \"yref\": \"y\"}, {\"fillcolor\": \"rgb(214, 39, 40)\", \"line\": {\"width\": 0}, \"opacity\": 1, \"type\": \"rect\", \"x0\": \"2019-01-09 18:34:59\", \"x1\": \"2019-01-09 18:46:59\", \"xref\": \"x\", \"y0\": 0.19999999999999996, \"y1\": 1.8, \"yref\": \"y\"}, {\"fillcolor\": \"rgb(31, 119, 180)\", \"line\": {\"width\": 0}, \"opacity\": 1, \"type\": \"rect\", \"x0\": \"2019-01-09 18:34:59\", \"x1\": \"2019-01-09 19:03:59\", \"xref\": \"x\", \"y0\": 1.2, \"y1\": 2.8, \"yref\": \"y\"}, {\"fillcolor\": \"rgb(214, 39, 40)\", \"line\": {\"width\": 0}, \"opacity\": 1, \"type\": \"rect\", \"x0\": \"2019-01-09 19:34:59\", \"x1\": \"2019-01-09 19:37:59\", \"xref\": \"x\", \"y0\": 2.2, \"y1\": 3.8, \"yref\": \"y\"}, {\"fillcolor\": \"rgb(31, 119, 180)\", \"line\": {\"width\": 0}, \"opacity\": 1, \"type\": \"rect\", \"x0\": \"2019-01-09 20:34:59\", \"x1\": \"2019-01-09 20:50:59\", \"xref\": \"x\", \"y0\": 3.2, \"y1\": 4.8, \"yref\": \"y\"}, {\"fillcolor\": \"rgb(214, 39, 40)\", \"line\": {\"width\": 0}, \"opacity\": 1, \"type\": \"rect\", \"x0\": \"2019-01-09 21:34:59\", \"x1\": \"2019-01-09 21:42:59\", \"xref\": \"x\", \"y0\": 4.2, \"y1\": 5.8, \"yref\": \"y\"}, {\"fillcolor\": \"rgb(44, 160, 44)\", \"line\": {\"width\": 0}, \"opacity\": 1, \"type\": \"rect\", \"x0\": \"2019-01-09 21:34:59\", \"x1\": \"2019-01-09 21:50:59\", \"xref\": \"x\", \"y0\": 5.2, \"y1\": 6.8, \"yref\": \"y\"}, {\"fillcolor\": \"rgb(214, 39, 40)\", \"line\": {\"width\": 0}, \"opacity\": 1, \"type\": \"rect\", \"x0\": \"2019-01-10 02:34:59\", \"x1\": \"2019-01-10 02:37:59\", \"xref\": \"x\", \"y0\": 6.2, \"y1\": 7.8, \"yref\": \"y\"}, {\"fillcolor\": \"rgb(44, 160, 44)\", \"line\": {\"width\": 0}, \"opacity\": 1, \"type\": \"rect\", \"x0\": \"2019-01-10 02:34:59\", \"x1\": \"2019-01-10 02:46:59\", \"xref\": \"x\", \"y0\": 7.2, \"y1\": 8.8, \"yref\": \"y\"}, {\"fillcolor\": \"rgb(31, 119, 180)\", \"line\": {\"width\": 0}, \"opacity\": 1, \"type\": \"rect\", \"x0\": \"2019-01-10 03:34:59\", \"x1\": \"2019-01-10 03:46:59\", \"xref\": \"x\", \"y0\": 8.2, \"y1\": 9.8, \"yref\": \"y\"}, {\"fillcolor\": \"rgb(214, 39, 40)\", \"line\": {\"width\": 0}, \"opacity\": 1, \"type\": \"rect\", \"x0\": \"2019-01-10 05:34:59\", \"x1\": \"2019-01-10 05:37:59\", \"xref\": \"x\", \"y0\": 9.2, \"y1\": 10.8, \"yref\": \"y\"}, {\"fillcolor\": \"rgb(214, 39, 40)\", \"line\": {\"width\": 0}, \"opacity\": 1, \"type\": \"rect\", \"x0\": \"2019-01-10 06:34:59\", \"x1\": \"2019-01-10 07:19:59\", \"xref\": \"x\", \"y0\": 10.2, \"y1\": 11.8, \"yref\": \"y\"}, {\"fillcolor\": \"rgb(31, 119, 180)\", \"line\": {\"width\": 0}, \"opacity\": 1, \"type\": \"rect\", \"x0\": \"2019-01-10 06:34:59\", \"x1\": \"2019-01-10 06:46:59\", \"xref\": \"x\", \"y0\": 11.2, \"y1\": 12.8, \"yref\": \"y\"}, {\"fillcolor\": \"rgb(44, 160, 44)\", \"line\": {\"width\": 0}, \"opacity\": 1, \"type\": \"rect\", \"x0\": \"2019-01-10 07:34:59\", \"x1\": \"2019-01-10 07:40:59\", \"xref\": \"x\", \"y0\": 12.2, \"y1\": 13.8, \"yref\": \"y\"}, {\"fillcolor\": \"rgb(44, 160, 44)\", \"line\": {\"width\": 0}, \"opacity\": 1, \"type\": \"rect\", \"x0\": \"2019-01-10 08:34:59\", \"x1\": \"2019-01-10 09:19:59\", \"xref\": \"x\", \"y0\": 13.2, \"y1\": 14.8, \"yref\": \"y\"}, {\"fillcolor\": \"rgb(31, 119, 180)\", \"line\": {\"width\": 0}, \"opacity\": 1, \"type\": \"rect\", \"x0\": \"2019-01-10 12:34:59\", \"x1\": \"2019-01-10 12:36:59\", \"xref\": \"x\", \"y0\": 14.2, \"y1\": 15.8, \"yref\": \"y\"}, {\"fillcolor\": \"rgb(255, 127, 14)\", \"line\": {\"width\": 0}, \"opacity\": 1, \"type\": \"rect\", \"x0\": \"2019-01-10 12:34:59\", \"x1\": \"2019-01-10 13:19:59\", \"xref\": \"x\", \"y0\": 15.2, \"y1\": 16.8, \"yref\": \"y\"}, {\"fillcolor\": \"rgb(31, 119, 180)\", \"line\": {\"width\": 0}, \"opacity\": 1, \"type\": \"rect\", \"x0\": \"2019-01-10 17:34:59\", \"x1\": \"2019-01-10 17:42:59\", \"xref\": \"x\", \"y0\": 16.2, \"y1\": 17.8, \"yref\": \"y\"}, {\"fillcolor\": \"rgb(31, 119, 180)\", \"line\": {\"width\": 0}, \"opacity\": 1, \"type\": \"rect\", \"x0\": \"2019-01-10 17:34:59\", \"x1\": \"2019-01-10 17:46:59\", \"xref\": \"x\", \"y0\": 17.2, \"y1\": 18.8, \"yref\": \"y\"}, {\"fillcolor\": \"rgb(214, 39, 40)\", \"line\": {\"width\": 0}, \"opacity\": 1, \"type\": \"rect\", \"x0\": \"2019-01-10 18:34:59\", \"x1\": \"2019-01-10 18:42:59\", \"xref\": \"x\", \"y0\": 18.2, \"y1\": 19.8, \"yref\": \"y\"}, {\"fillcolor\": \"rgb(214, 39, 40)\", \"line\": {\"width\": 0}, \"opacity\": 1, \"type\": \"rect\", \"x0\": \"2019-01-10 21:34:59\", \"x1\": \"2019-01-10 21:36:59\", \"xref\": \"x\", \"y0\": 19.2, \"y1\": 20.8, \"yref\": \"y\"}, {\"fillcolor\": \"rgb(44, 160, 44)\", \"line\": {\"width\": 0}, \"opacity\": 1, \"type\": \"rect\", \"x0\": \"2019-01-10 23:34:59\", \"x1\": \"2019-01-10 23:42:59\", \"xref\": \"x\", \"y0\": 20.2, \"y1\": 21.8, \"yref\": \"y\"}, {\"fillcolor\": \"rgb(31, 119, 180)\", \"line\": {\"width\": 0}, \"opacity\": 1, \"type\": \"rect\", \"x0\": \"2019-01-10 23:34:59\", \"x1\": \"2019-01-11 00:19:59\", \"xref\": \"x\", \"y0\": 21.2, \"y1\": 22.8, \"yref\": \"y\"}, {\"fillcolor\": \"rgb(31, 119, 180)\", \"line\": {\"width\": 0}, \"opacity\": 1, \"type\": \"rect\", \"x0\": \"2019-01-11 01:34:59\", \"x1\": \"2019-01-11 01:50:59\", \"xref\": \"x\", \"y0\": 22.2, \"y1\": 23.8, \"yref\": \"y\"}, {\"fillcolor\": \"rgb(214, 39, 40)\", \"line\": {\"width\": 0}, \"opacity\": 1, \"type\": \"rect\", \"x0\": \"2019-01-11 02:34:59\", \"x1\": \"2019-01-11 02:46:59\", \"xref\": \"x\", \"y0\": 23.2, \"y1\": 24.8, \"yref\": \"y\"}, {\"fillcolor\": \"rgb(44, 160, 44)\", \"line\": {\"width\": 0}, \"opacity\": 1, \"type\": \"rect\", \"x0\": \"2019-01-11 04:34:59\", \"x1\": \"2019-01-11 04:42:59\", \"xref\": \"x\", \"y0\": 24.2, \"y1\": 25.8, \"yref\": \"y\"}, {\"fillcolor\": \"rgb(214, 39, 40)\", \"line\": {\"width\": 0}, \"opacity\": 1, \"type\": \"rect\", \"x0\": \"2019-01-11 07:34:59\", \"x1\": \"2019-01-11 07:40:59\", \"xref\": \"x\", \"y0\": 25.2, \"y1\": 26.8, \"yref\": \"y\"}, {\"fillcolor\": \"rgb(255, 127, 14)\", \"line\": {\"width\": 0}, \"opacity\": 1, \"type\": \"rect\", \"x0\": \"2019-01-11 09:34:59\", \"x1\": \"2019-01-11 09:37:59\", \"xref\": \"x\", \"y0\": 26.2, \"y1\": 27.8, \"yref\": \"y\"}, {\"fillcolor\": \"rgb(31, 119, 180)\", \"line\": {\"width\": 0}, \"opacity\": 1, \"type\": \"rect\", \"x0\": \"2019-01-11 11:34:59\", \"x1\": \"2019-01-11 11:40:59\", \"xref\": \"x\", \"y0\": 27.2, \"y1\": 28.8, \"yref\": \"y\"}, {\"fillcolor\": \"rgb(44, 160, 44)\", \"line\": {\"width\": 0}, \"opacity\": 1, \"type\": \"rect\", \"x0\": \"2019-01-11 12:34:59\", \"x1\": \"2019-01-11 12:37:59\", \"xref\": \"x\", \"y0\": 28.2, \"y1\": 29.8, \"yref\": \"y\"}, {\"fillcolor\": \"rgb(255, 127, 14)\", \"line\": {\"width\": 0}, \"opacity\": 1, \"type\": \"rect\", \"x0\": \"2019-01-11 13:34:59\", \"x1\": \"2019-01-11 13:50:59\", \"xref\": \"x\", \"y0\": 29.2, \"y1\": 30.8, \"yref\": \"y\"}, {\"fillcolor\": \"rgb(31, 119, 180)\", \"line\": {\"width\": 0}, \"opacity\": 1, \"type\": \"rect\", \"x0\": \"2019-01-11 14:34:59\", \"x1\": \"2019-01-11 14:46:59\", \"xref\": \"x\", \"y0\": 30.2, \"y1\": 31.8, \"yref\": \"y\"}, {\"fillcolor\": \"rgb(31, 119, 180)\", \"line\": {\"width\": 0}, \"opacity\": 1, \"type\": \"rect\", \"x0\": \"2019-01-11 14:34:59\", \"x1\": \"2019-01-11 15:03:59\", \"xref\": \"x\", \"y0\": 31.2, \"y1\": 32.8, \"yref\": \"y\"}, {\"fillcolor\": \"rgb(31, 119, 180)\", \"line\": {\"width\": 0}, \"opacity\": 1, \"type\": \"rect\", \"x0\": \"2019-01-11 19:34:59\", \"x1\": \"2019-01-11 19:42:59\", \"xref\": \"x\", \"y0\": 32.2, \"y1\": 33.8, \"yref\": \"y\"}, {\"fillcolor\": \"rgb(214, 39, 40)\", \"line\": {\"width\": 0}, \"opacity\": 1, \"type\": \"rect\", \"x0\": \"2019-01-11 20:34:59\", \"x1\": \"2019-01-11 20:40:59\", \"xref\": \"x\", \"y0\": 33.2, \"y1\": 34.8, \"yref\": \"y\"}, {\"fillcolor\": \"rgb(31, 119, 180)\", \"line\": {\"width\": 0}, \"opacity\": 1, \"type\": \"rect\", \"x0\": \"2019-01-11 21:34:59\", \"x1\": \"2019-01-11 21:37:59\", \"xref\": \"x\", \"y0\": 34.2, \"y1\": 35.8, \"yref\": \"y\"}, {\"fillcolor\": \"rgb(31, 119, 180)\", \"line\": {\"width\": 0}, \"opacity\": 1, \"type\": \"rect\", \"x0\": \"2019-01-12 04:34:59\", \"x1\": \"2019-01-12 04:36:59\", \"xref\": \"x\", \"y0\": 35.2, \"y1\": 36.8, \"yref\": \"y\"}, {\"fillcolor\": \"rgb(31, 119, 180)\", \"line\": {\"width\": 0}, \"opacity\": 1, \"type\": \"rect\", \"x0\": \"2019-01-12 11:34:59\", \"x1\": \"2019-01-12 11:40:59\", \"xref\": \"x\", \"y0\": 36.2, \"y1\": 37.8, \"yref\": \"y\"}], \"showlegend\": true, \"title\": {\"text\": \"Stressers, Main & Sub Categories\"}, \"width\": 900, \"xaxis\": {\"rangeselector\": {\"buttons\": [{\"count\": 7, \"label\": \"1w\", \"step\": \"day\", \"stepmode\": \"backward\"}, {\"count\": 1, \"label\": \"1m\", \"step\": \"month\", \"stepmode\": \"backward\"}, {\"count\": 6, \"label\": \"6m\", \"step\": \"month\", \"stepmode\": \"backward\"}, {\"count\": 1, \"label\": \"YTD\", \"step\": \"year\", \"stepmode\": \"todate\"}, {\"count\": 1, \"label\": \"1y\", \"step\": \"year\", \"stepmode\": \"backward\"}, {\"step\": \"all\"}]}, \"showgrid\": true, \"type\": \"date\", \"zeroline\": false}, \"yaxis\": {\"autorange\": false, \"range\": [-1, 39], \"showgrid\": true, \"showticklabels\": false, \"ticktext\": [\"Saw a police car\", \"Late arrival\", \"Was Tailgated\", \"Late arrival\", \"Saw a police car\", \"Technology barriers\", \"Physical inability\", \"Unpleasant conversation\", \"My eating habits\", \"Difficulty in navigating\", \"Bored / Not enough to do\", \"Late arrival\", \"Indecision at a traffic intersection\", \"Physical inability\", \"My eating habits\", \"Saw a police car\", \"Unexpected losses\", \"Saw a police car\", \"Saw a police car\", \"Late arrival\", \"Unpleasant conversation\", \"My eating habits\", \"Saw a police car\", \"Indecision at a traffic intersection\", \"Bored / Not enough to do\", \"My eating habits\", \"Late arrival\", \"Unexpected losses\", \"Was Tailgated\", \"Physical inability\", \"Missed payment\", \"Difficulty in navigating\", \"Was Tailgated\", \"Was Tailgated\", \"Unpleasant conversation\", \"Indecision at a traffic intersection\", \"Was Tailgated\", \"Indecision at a traffic intersection\"], \"tickvals\": [0, 1, 2, 3, 4, 5, 6, 7, 8, 9, 10, 11, 12, 13, 14, 15, 16, 17, 18, 19, 20, 21, 22, 23, 24, 25, 26, 27, 28, 29, 30, 31, 32, 33, 34, 35, 36, 37], \"zeroline\": false}},\n",
       "                        {\"showLink\": false, \"linkText\": \"Export to plot.ly\", \"plotlyServerURL\": \"https://plot.ly\", \"responsive\": true}\n",
       "                    ).then(function(){\n",
       "                            \n",
       "var gd = document.getElementById('e7fa570d-3196-40fd-a361-1fc5995ac3ff');\n",
       "var x = new MutationObserver(function (mutations, observer) {{\n",
       "        var display = window.getComputedStyle(gd).display;\n",
       "        if (!display || display === 'none') {{\n",
       "            console.log([gd, 'removed!']);\n",
       "            Plotly.purge(gd);\n",
       "            observer.disconnect();\n",
       "        }}\n",
       "}});\n",
       "\n",
       "// Listen for the removal of the full notebook cells\n",
       "var notebookContainer = gd.closest('#notebook-container');\n",
       "if (notebookContainer) {{\n",
       "    x.observe(notebookContainer, {childList: true});\n",
       "}}\n",
       "\n",
       "// Listen for the clearing of the current output cell\n",
       "var outputEl = gd.closest('.output');\n",
       "if (outputEl) {{\n",
       "    x.observe(outputEl, {childList: true});\n",
       "}}\n",
       "\n",
       "                        })\n",
       "                };\n",
       "                });\n",
       "            </script>\n",
       "        </div>"
      ]
     },
     "metadata": {},
     "output_type": "display_data"
    }
   ],
   "source": [
    "stress_stream.plot_stress_gantt()"
   ]
  },
  {
   "cell_type": "markdown",
   "metadata": {},
   "source": [
    "### Sankey diagram\n",
    "A [Sankey diagram](https://en.wikipedia.org/wiki/Sankey_diagram) is utilized to show the flow between different components and, in our case, the breakdown between categories, sub-categories, and activities.   \n",
    "\n",
    "This diagram shows the stressor categories on the left edge and the detailed stress information on the right.  In the middle are the activity classificiations, derived from a smartphone, of what the person was doing at the time of the stress event.  You can move the mouse cursor over the boxes and lines to see the details and highlight a flow within the diagram.  You may see that the events might not be ordered to your liking or that their order could be improved.  Try dragging the boxes up and down to change this order and watch the diagram adjust."
   ]
  },
  {
   "cell_type": "code",
   "execution_count": 14,
   "metadata": {},
   "outputs": [
    {
     "data": {
      "application/vnd.plotly.v1+json": {
       "config": {
        "linkText": "Export to plot.ly",
        "plotlyServerURL": "https://plot.ly",
        "showLink": false
       },
       "data": [
        {
         "link": {
          "source": [
           2,
           3,
           3,
           1,
           1,
           7,
           7,
           7,
           7,
           7,
           0,
           0,
           0,
           5,
           8,
           8,
           8,
           6,
           4,
           4
          ],
          "target": [
           7,
           6,
           4,
           7,
           8,
           10,
           14,
           9,
           13,
           20,
           5,
           8,
           4,
           17,
           19,
           15,
           18,
           16,
           12,
           11
          ],
          "value": [
           0.591764705882353,
           0.2,
           0.9,
           0.28,
           0.5,
           0.54,
           0.47,
           0.28,
           0.6,
           0.7,
           0.79,
           0.32666666666666666,
           0.67,
           0.79,
           0.3,
           0.5,
           0.38,
           0.2,
           0.67,
           0.9
          ]
         },
         "node": {
          "label": [
           "Job",
           "Health",
           "Driving",
           "Finance",
           "WALKING",
           "ON_FOOT",
           "UNKNOWN",
           "IN_VEHICLE",
           "STILL",
           "My eating habits",
           "Difficulty in navigating",
           "Unexpected losses",
           "Late arrival",
           "Saw a police car",
           "Indecision at a traffic intersection",
           "Physical inability",
           "Missed payment",
           "Unpleasant conversation",
           "Technology barriers",
           "Bored / Not enough to do",
           "Was Tailgated"
          ],
          "line": {
           "color": "black",
           "width": 0.5
          },
          "pad": 15,
          "thickness": 20
         },
         "type": "sankey"
        }
       ],
       "layout": {
        "font": {
         "size": 10
        },
        "title": "Stressers' Sankey Diagram"
       }
      },
      "text/html": [
       "<div>\n",
       "        \n",
       "        \n",
       "            <div id=\"abe13059-301e-4bc9-bb9e-1da8470391cc\" class=\"plotly-graph-div\" style=\"height:525px; width:100%;\"></div>\n",
       "            <script type=\"text/javascript\">\n",
       "                require([\"plotly\"], function(Plotly) {\n",
       "                    window.PLOTLYENV=window.PLOTLYENV || {};\n",
       "                    window.PLOTLYENV.BASE_URL='https://plot.ly';\n",
       "                    \n",
       "                if (document.getElementById(\"abe13059-301e-4bc9-bb9e-1da8470391cc\")) {\n",
       "                    Plotly.newPlot(\n",
       "                        'abe13059-301e-4bc9-bb9e-1da8470391cc',\n",
       "                        [{\"link\": {\"source\": [2, 3, 3, 1, 1, 7, 7, 7, 7, 7, 0, 0, 0, 5, 8, 8, 8, 6, 4, 4], \"target\": [7, 6, 4, 7, 8, 10, 14, 9, 13, 20, 5, 8, 4, 17, 19, 15, 18, 16, 12, 11], \"value\": [0.591764705882353, 0.2, 0.9, 0.28, 0.5, 0.54, 0.47, 0.28, 0.6, 0.7, 0.79, 0.32666666666666666, 0.67, 0.79, 0.3, 0.5, 0.38, 0.2, 0.67, 0.9]}, \"node\": {\"label\": [\"Job\", \"Health\", \"Driving\", \"Finance\", \"WALKING\", \"ON_FOOT\", \"UNKNOWN\", \"IN_VEHICLE\", \"STILL\", \"My eating habits\", \"Difficulty in navigating\", \"Unexpected losses\", \"Late arrival\", \"Saw a police car\", \"Indecision at a traffic intersection\", \"Physical inability\", \"Missed payment\", \"Unpleasant conversation\", \"Technology barriers\", \"Bored / Not enough to do\", \"Was Tailgated\"], \"line\": {\"color\": \"black\", \"width\": 0.5}, \"pad\": 15, \"thickness\": 20}, \"type\": \"sankey\"}],\n",
       "                        {\"font\": {\"size\": 10}, \"title\": \"Stressers' Sankey Diagram\"},\n",
       "                        {\"showLink\": false, \"linkText\": \"Export to plot.ly\", \"plotlyServerURL\": \"https://plot.ly\", \"responsive\": true}\n",
       "                    ).then(function(){\n",
       "                            \n",
       "var gd = document.getElementById('abe13059-301e-4bc9-bb9e-1da8470391cc');\n",
       "var x = new MutationObserver(function (mutations, observer) {{\n",
       "        var display = window.getComputedStyle(gd).display;\n",
       "        if (!display || display === 'none') {{\n",
       "            console.log([gd, 'removed!']);\n",
       "            Plotly.purge(gd);\n",
       "            observer.disconnect();\n",
       "        }}\n",
       "}});\n",
       "\n",
       "// Listen for the removal of the full notebook cells\n",
       "var notebookContainer = gd.closest('#notebook-container');\n",
       "if (notebookContainer) {{\n",
       "    x.observe(notebookContainer, {childList: true});\n",
       "}}\n",
       "\n",
       "// Listen for the clearing of the current output cell\n",
       "var outputEl = gd.closest('.output');\n",
       "if (outputEl) {{\n",
       "    x.observe(outputEl, {childList: true});\n",
       "}}\n",
       "\n",
       "                        })\n",
       "                };\n",
       "                });\n",
       "            </script>\n",
       "        </div>"
      ]
     },
     "metadata": {},
     "output_type": "display_data"
    }
   ],
   "source": [
    "stress_stream.plot_stress_sankey(cat_cols=[\"stresser_main\",\"activity\",\"stresser_sub\"])"
   ]
  },
  {
   "cell_type": "markdown",
   "metadata": {},
   "source": [
    "### Bar charts\n",
    "Sometimes it is best to utilize bar charts to demonstrate the differences between subsets of participants.  In this example, we show the difference in stress events between the two participants in the example data for each of the four major stressor categories.  This chart is interactive using the mouse and controls to explore the data. The legend labels can be enabled/disabled by clicking on them."
   ]
  },
  {
   "cell_type": "code",
   "execution_count": 15,
   "metadata": {},
   "outputs": [
    {
     "data": {
      "application/vnd.plotly.v1+json": {
       "config": {
        "linkText": "Export to plot.ly",
        "plotlyServerURL": "https://plot.ly",
        "showLink": false
       },
       "data": [
        {
         "name": "a1112de1-ca36-42fc-aabe-7ec45cd552c5",
         "type": "bar",
         "uid": "42ef1f94-d6c7-4a47-88db-8f9ef0b1378c",
         "x": [
          "Driving",
          "Finance",
          "Health",
          "Job"
         ],
         "y": [
          0.58875,
          0.9,
          0.39,
          0.61
         ]
        },
        {
         "name": "b1117354-ce48-4325-b2e3-78b0cc932819",
         "type": "bar",
         "uid": "1111e173-4f82-4b29-b26f-6c94d6cc560a",
         "x": [
          "Driving",
          "Finance",
          "Health",
          "Job"
         ],
         "y": [
          0.5944444444444444,
          0.55,
          0.35333333333333333,
          0.6075
         ]
        }
       ],
       "layout": {
        "title": {
         "text": "All Participants' Stress Levels By Each Stressors"
        },
        "yaxis": {
         "title": {
          "text": "Average Stress Density"
         }
        }
       }
      },
      "text/html": [
       "<div>\n",
       "        \n",
       "        \n",
       "            <div id=\"28f696af-7f6e-4615-8845-fb353fa532eb\" class=\"plotly-graph-div\" style=\"height:525px; width:100%;\"></div>\n",
       "            <script type=\"text/javascript\">\n",
       "                require([\"plotly\"], function(Plotly) {\n",
       "                    window.PLOTLYENV=window.PLOTLYENV || {};\n",
       "                    window.PLOTLYENV.BASE_URL='https://plot.ly';\n",
       "                    \n",
       "                if (document.getElementById(\"28f696af-7f6e-4615-8845-fb353fa532eb\")) {\n",
       "                    Plotly.newPlot(\n",
       "                        '28f696af-7f6e-4615-8845-fb353fa532eb',\n",
       "                        [{\"name\": \"a1112de1-ca36-42fc-aabe-7ec45cd552c5\", \"type\": \"bar\", \"uid\": \"42ef1f94-d6c7-4a47-88db-8f9ef0b1378c\", \"x\": [\"Driving\", \"Finance\", \"Health\", \"Job\"], \"y\": [0.58875, 0.9, 0.39, 0.61]}, {\"name\": \"b1117354-ce48-4325-b2e3-78b0cc932819\", \"type\": \"bar\", \"uid\": \"1111e173-4f82-4b29-b26f-6c94d6cc560a\", \"x\": [\"Driving\", \"Finance\", \"Health\", \"Job\"], \"y\": [0.5944444444444444, 0.55, 0.35333333333333333, 0.6075]}],\n",
       "                        {\"title\": {\"text\": \"All Participants' Stress Levels By Each Stressors\"}, \"yaxis\": {\"title\": {\"text\": \"Average Stress Density\"}}},\n",
       "                        {\"showLink\": false, \"linkText\": \"Export to plot.ly\", \"plotlyServerURL\": \"https://plot.ly\", \"responsive\": true}\n",
       "                    ).then(function(){\n",
       "                            \n",
       "var gd = document.getElementById('28f696af-7f6e-4615-8845-fb353fa532eb');\n",
       "var x = new MutationObserver(function (mutations, observer) {{\n",
       "        var display = window.getComputedStyle(gd).display;\n",
       "        if (!display || display === 'none') {{\n",
       "            console.log([gd, 'removed!']);\n",
       "            Plotly.purge(gd);\n",
       "            observer.disconnect();\n",
       "        }}\n",
       "}});\n",
       "\n",
       "// Listen for the removal of the full notebook cells\n",
       "var notebookContainer = gd.closest('#notebook-container');\n",
       "if (notebookContainer) {{\n",
       "    x.observe(notebookContainer, {childList: true});\n",
       "}}\n",
       "\n",
       "// Listen for the clearing of the current output cell\n",
       "var outputEl = gd.closest('.output');\n",
       "if (outputEl) {{\n",
       "    x.observe(outputEl, {childList: true});\n",
       "}}\n",
       "\n",
       "                        })\n",
       "                };\n",
       "                });\n",
       "            </script>\n",
       "        </div>"
      ]
     },
     "metadata": {},
     "output_type": "display_data"
    }
   ],
   "source": [
    "stress_stream.plot_stress_bar()"
   ]
  },
  {
   "cell_type": "markdown",
   "metadata": {
    "toc-hr-collapsed": false
   },
   "source": [
    "## Compare stress data among participants(s)\n",
    "\n",
    "There are instances where you may want to compare a participant's values with the population values.  This chart shows the breakdown of average stress induced by each of the sub-categories for a particular participant (`a1112de1-ca36-42fc-aabe-7ec45cd552c5`) when compared with the whole study population.  You can alter the command by changing the `usr_id` to `b1117354-ce48-4325-b2e3-78b0cc932819` or by changing the `x_axis_column` to `stresser_main`.  In the latter case, the graph should match the one directly above due to there only being two participants in the demonstration data."
   ]
  },
  {
   "cell_type": "code",
   "execution_count": 16,
   "metadata": {},
   "outputs": [
    {
     "data": {
      "application/vnd.plotly.v1+json": {
       "config": {
        "linkText": "Export to plot.ly",
        "plotlyServerURL": "https://plot.ly",
        "showLink": false
       },
       "data": [
        {
         "name": "a1112de1-ca36-42fc-aabe-7ec45cd552c5",
         "type": "bar",
         "uid": "6f862910-8bd1-4f05-a79e-af0c867118b4",
         "x": [
          "Bored / Not enough to do",
          "Difficulty in navigating",
          "Indecision at a traffic intersection",
          "Late arrival",
          "My eating habits",
          "Physical inability",
          "Saw a police car",
          "Technology barriers",
          "Unexpected losses",
          "Unpleasant conversation",
          "Was Tailgated"
         ],
         "y": [
          0.3,
          0.54,
          0.47,
          0.67,
          0.28,
          0.5,
          0.6,
          0.38,
          0.9,
          0.79,
          0.7
         ]
        },
        {
         "name": "All Participants",
         "type": "bar",
         "uid": "7424fbf4-7397-44d4-bfc5-006fda958c04",
         "x": [
          "Bored / Not enough to do",
          "Difficulty in navigating",
          "Indecision at a traffic intersection",
          "Late arrival",
          "Missed payment",
          "My eating habits",
          "Physical inability",
          "Saw a police car",
          "Unexpected losses",
          "Unpleasant conversation",
          "Was Tailgated"
         ],
         "y": [
          0.3,
          0.54,
          0.47,
          0.67,
          0.2,
          0.28,
          0.5,
          0.6,
          0.9,
          0.79,
          0.7
         ]
        }
       ],
       "layout": {
        "title": {
         "text": "Comparison of Stress Levels Amongst Participants"
        },
        "yaxis": {
         "title": {
          "text": "Average Stress Density"
         }
        }
       }
      },
      "text/html": [
       "<div>\n",
       "        \n",
       "        \n",
       "            <div id=\"5a8367bd-40bb-40d2-b773-7a0a5dbf59cb\" class=\"plotly-graph-div\" style=\"height:525px; width:100%;\"></div>\n",
       "            <script type=\"text/javascript\">\n",
       "                require([\"plotly\"], function(Plotly) {\n",
       "                    window.PLOTLYENV=window.PLOTLYENV || {};\n",
       "                    window.PLOTLYENV.BASE_URL='https://plot.ly';\n",
       "                    \n",
       "                if (document.getElementById(\"5a8367bd-40bb-40d2-b773-7a0a5dbf59cb\")) {\n",
       "                    Plotly.newPlot(\n",
       "                        '5a8367bd-40bb-40d2-b773-7a0a5dbf59cb',\n",
       "                        [{\"name\": \"a1112de1-ca36-42fc-aabe-7ec45cd552c5\", \"type\": \"bar\", \"uid\": \"6f862910-8bd1-4f05-a79e-af0c867118b4\", \"x\": [\"Bored / Not enough to do\", \"Difficulty in navigating\", \"Indecision at a traffic intersection\", \"Late arrival\", \"My eating habits\", \"Physical inability\", \"Saw a police car\", \"Technology barriers\", \"Unexpected losses\", \"Unpleasant conversation\", \"Was Tailgated\"], \"y\": [0.3, 0.54, 0.47, 0.67, 0.28, 0.5, 0.6, 0.38, 0.9, 0.79, 0.7]}, {\"name\": \"All Participants\", \"type\": \"bar\", \"uid\": \"7424fbf4-7397-44d4-bfc5-006fda958c04\", \"x\": [\"Bored / Not enough to do\", \"Difficulty in navigating\", \"Indecision at a traffic intersection\", \"Late arrival\", \"Missed payment\", \"My eating habits\", \"Physical inability\", \"Saw a police car\", \"Unexpected losses\", \"Unpleasant conversation\", \"Was Tailgated\"], \"y\": [0.3, 0.54, 0.47, 0.67, 0.2, 0.28, 0.5, 0.6, 0.9, 0.79, 0.7]}],\n",
       "                        {\"title\": {\"text\": \"Comparison of Stress Levels Amongst Participants\"}, \"yaxis\": {\"title\": {\"text\": \"Average Stress Density\"}}},\n",
       "                        {\"showLink\": false, \"linkText\": \"Export to plot.ly\", \"plotlyServerURL\": \"https://plot.ly\", \"responsive\": true}\n",
       "                    ).then(function(){\n",
       "                            \n",
       "var gd = document.getElementById('5a8367bd-40bb-40d2-b773-7a0a5dbf59cb');\n",
       "var x = new MutationObserver(function (mutations, observer) {{\n",
       "        var display = window.getComputedStyle(gd).display;\n",
       "        if (!display || display === 'none') {{\n",
       "            console.log([gd, 'removed!']);\n",
       "            Plotly.purge(gd);\n",
       "            observer.disconnect();\n",
       "        }}\n",
       "}});\n",
       "\n",
       "// Listen for the removal of the full notebook cells\n",
       "var notebookContainer = gd.closest('#notebook-container');\n",
       "if (notebookContainer) {{\n",
       "    x.observe(notebookContainer, {childList: true});\n",
       "}}\n",
       "\n",
       "// Listen for the clearing of the current output cell\n",
       "var outputEl = gd.closest('.output');\n",
       "if (outputEl) {{\n",
       "    x.observe(outputEl, {childList: true});\n",
       "}}\n",
       "\n",
       "                        })\n",
       "                };\n",
       "                });\n",
       "            </script>\n",
       "        </div>"
      ]
     },
     "metadata": {},
     "output_type": "display_data"
    }
   ],
   "source": [
    "stress_stream.plot_stress_comparison(x_axis_column=\"stresser_sub\",usr_id=\"a1112de1-ca36-42fc-aabe-7ec45cd552c5\")"
   ]
  }
 ],
 "metadata": {
  "kernelspec": {
   "display_name": "Python 3",
   "language": "python",
   "name": "python3"
  },
  "language_info": {
   "codemirror_mode": {
    "name": "ipython",
    "version": 3
   },
   "file_extension": ".py",
   "mimetype": "text/x-python",
   "name": "python",
   "nbconvert_exporter": "python",
   "pygments_lexer": "ipython3",
   "version": "3.6.7"
  }
 },
 "nbformat": 4,
 "nbformat_minor": 4
}
