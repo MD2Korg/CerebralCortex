{
 "cells": [
  {
   "cell_type": "markdown",
   "metadata": {},
   "source": [
    "# Import Your Own Data"
   ]
  },
  {
   "cell_type": "markdown",
   "metadata": {},
   "source": [
    "## Import Packages"
   ]
  },
  {
   "cell_type": "code",
   "execution_count": 1,
   "metadata": {},
   "outputs": [
    {
     "data": {
      "text/html": [
       "<script type=\"text/javascript\">window.PlotlyConfig = {MathJaxConfig: 'local'};</script><script type=\"text/javascript\">if (window.MathJax) {MathJax.Hub.Config({SVG: {font: \"STIX-Web\"}});}</script><script>requirejs.config({paths: { 'plotly': ['https://cdn.plot.ly/plotly-latest.min']},});if(!window._Plotly) {require(['plotly'],function(plotly) {window._Plotly=plotly;});}</script>"
      ],
      "text/vnd.plotly.v1+html": [
       "<script type=\"text/javascript\">window.PlotlyConfig = {MathJaxConfig: 'local'};</script><script type=\"text/javascript\">if (window.MathJax) {MathJax.Hub.Config({SVG: {font: \"STIX-Web\"}});}</script><script>requirejs.config({paths: { 'plotly': ['https://cdn.plot.ly/plotly-latest.min']},});if(!window._Plotly) {require(['plotly'],function(plotly) {window._Plotly=plotly;});}</script>"
      ]
     },
     "metadata": {},
     "output_type": "display_data"
    },
    {
     "data": {
      "text/html": [
       "<script type=\"text/javascript\">window.PlotlyConfig = {MathJaxConfig: 'local'};</script><script type=\"text/javascript\">if (window.MathJax) {MathJax.Hub.Config({SVG: {font: \"STIX-Web\"}});}</script><script>requirejs.config({paths: { 'plotly': ['https://cdn.plot.ly/plotly-latest.min']},});if(!window._Plotly) {require(['plotly'],function(plotly) {window._Plotly=plotly;});}</script>"
      ],
      "text/vnd.plotly.v1+html": [
       "<script type=\"text/javascript\">window.PlotlyConfig = {MathJaxConfig: 'local'};</script><script type=\"text/javascript\">if (window.MathJax) {MathJax.Hub.Config({SVG: {font: \"STIX-Web\"}});}</script><script>requirejs.config({paths: { 'plotly': ['https://cdn.plot.ly/plotly-latest.min']},});if(!window._Plotly) {require(['plotly'],function(plotly) {window._Plotly=plotly;});}</script>"
      ]
     },
     "metadata": {},
     "output_type": "display_data"
    }
   ],
   "source": [
    "%reload_ext autoreload\n",
    "from util.dependencies import *\n",
    "from settings import USER_ID\n",
    "from pyspark.sql.functions import pandas_udf, PandasUDFType\n",
    "from pyspark.sql.types import StructField, StructType, StringType, FloatType, TimestampType, IntegerType\n",
    "from cerebralcortex.data_importer.data_parsers import csv_data_parser\n",
    "from cerebralcortex.data_importer import import_dir\n",
    "from pyspark.sql.functions import minute, second, mean, window\n",
    "from pyspark.sql import functions as F\n",
    "#from tt import magic_method"
   ]
  },
  {
   "cell_type": "markdown",
   "metadata": {},
   "source": [
    "# Import Data"
   ]
  },
  {
   "cell_type": "code",
   "execution_count": null,
   "metadata": {},
   "outputs": [],
   "source": [
    "# import CSV/IoT data (demo stream name - demo-location-data-stream)\n",
    "import_dir(\n",
    "    cc_config=\"/home/md2k/cc_conf/\",\n",
    "    input_data_dir=\"sample_data/\",\n",
    "    user_id=USER_ID,\n",
    "    data_file_extension=[\".csv\"],\n",
    "    data_parser=csv_data_parser,\n",
    "    gen_report=True\n",
    ")"
   ]
  },
  {
   "cell_type": "markdown",
   "metadata": {},
   "source": [
    "## Create CerebralCortex object"
   ]
  },
  {
   "cell_type": "code",
   "execution_count": 2,
   "metadata": {},
   "outputs": [],
   "source": [
    "CC = Kernel(\"/home/md2k/cc_conf/\")"
   ]
  },
  {
   "cell_type": "markdown",
   "metadata": {},
   "source": [
    "## View Imported Data"
   ]
  },
  {
   "cell_type": "code",
   "execution_count": 3,
   "metadata": {},
   "outputs": [
    {
     "name": "stdout",
     "output_type": "stream",
     "text": [
      "+-------------------+-------------------+-------------------+-------+------------------------------------+\n",
      "|timestamp          |localtime          |some_vals          |version|user                                |\n",
      "+-------------------+-------------------+-------------------+-------+------------------------------------+\n",
      "|2019-01-09 17:35:00|2019-01-09 17:35:00|0.0851887269487499 |1      |00000000-afb8-476e-9872-6472b4e66b68|\n",
      "|2019-01-09 17:35:01|2019-01-09 17:35:01|0.16867549655743164|1      |00000000-afb8-476e-9872-6472b4e66b68|\n",
      "|2019-01-09 17:35:02|2019-01-09 17:35:02|0.7404850816560419 |1      |00000000-afb8-476e-9872-6472b4e66b68|\n",
      "|2019-01-09 17:35:03|2019-01-09 17:35:03|0.7131609970182962 |1      |00000000-afb8-476e-9872-6472b4e66b68|\n",
      "|2019-01-09 17:35:04|2019-01-09 17:35:04|0.24253081438369195|1      |00000000-afb8-476e-9872-6472b4e66b68|\n",
      "+-------------------+-------------------+-------------------+-------+------------------------------------+\n",
      "only showing top 5 rows\n",
      "\n"
     ]
    }
   ],
   "source": [
    "location_stream = CC.get_stream(\"iot-data-stream\")\n",
    "location_stream.show(5, truncate=False)\n",
    "#location_stream.plot()"
   ]
  },
  {
   "cell_type": "code",
   "execution_count": null,
   "metadata": {},
   "outputs": [],
   "source": [
    "# @pandas_udf(\"some_vals double\", PandasUDFType.GROUPED_MAP)\n",
    "# def subtract_mean(pdf):\n",
    "#     # pdf is a pandas.DataFrame\n",
    "#     return pd.DataFrame(pdf[\"some_vals\"])\n",
    "\n",
    "# location_stream.run_algo(subtract_mean).show()\n",
    "#location_stream.compute_max().show(truncate=False)\n",
    "#df.withColumn('d', fun_function(df.some_vals)).show()\n",
    "\n",
    "#df.groupBy(\"timestamp\", window(\"timestamp\", \"2 seconds\")).agg(df[\"mean\"]).show()\n",
    "\n",
    "# df2.groupBy(\"window\").agg(F.mean('avg(some_vals)')).show(truncate=False)\n"
   ]
  },
  {
   "cell_type": "code",
   "execution_count": 13,
   "metadata": {},
   "outputs": [],
   "source": [
    "schema = StructType([\n",
    "    StructField(\"id\", FloatType()),\n",
    "    StructField(\"id2\", IntegerType()),\n",
    "    StructField(\"id3\", IntegerType())\n",
    "])\n",
    "\n",
    "@F.udf(schema)\n",
    "def udfName(some_vals):\n",
    "    n = sum(some_vals)*50\n",
    "    return [n,4,32]\n",
    "#find_a_udf = F.udf(find_a, schema)\n",
    "\n",
    "#CC.sqlContext.udf.register(\"find_a\", find_a)\n",
    "\n",
    "# def magic_method(func_name, col_names:list=[],df=None):\n",
    "#     if len(col_names)==0:\n",
    "#         raise ValueError(\"col_names list cannot be empty.\")\n",
    "#     tmp = \"\"\n",
    "#     for col in col_names:\n",
    "#         tmp += \"F.collect_list({}{}{}){}\".format('\"',col,'\"',\",\")\n",
    "#     tmp = \"{}{}{}{}\".format(str(func_name), \"(\",tmp.rstrip(\",\"), \")\")\n",
    "#     #tt = eval(tmp)\n",
    "#     foobars = df.data.groupBy(\"timestamp\", window(\"timestamp\", \"15 days\")).agg(F.expr('find_a(collect_list(\"some_vals\"))').alias(\"foobar\"))\n",
    "#     foobars.show()\n",
    "#     cols = foobars.schema.fields\n",
    "#     new_cols = []\n",
    "#     for col in cols:\n",
    "#         if col.name==\"foobar\":\n",
    "#             for cl in foobars.schema.fields[2].dataType.names:\n",
    "#                 new_cols.append(\"foobar.\"+cl)\n",
    "#         else:\n",
    "#             new_cols.append(col.name)\n",
    "#     foobars.select(new_cols).show(truncate=False)\n",
    "\n",
    "#magic_method(find_a, col_names=[\"some_vals\"],df=location_stream)"
   ]
  },
  {
   "cell_type": "code",
   "execution_count": 14,
   "metadata": {},
   "outputs": [
    {
     "name": "stdout",
     "output_type": "stream",
     "text": [
      "+------------------------------------+-------+------------------------------------------+------------------+\n",
      "|user                                |version|window                                    |merged_column     |\n",
      "+------------------------------------+-------+------------------------------------------+------------------+\n",
      "|00000000-afb8-476e-9872-6472b4e66b68|1      |[2019-01-09 17:41:00, 2019-01-09 17:42:00]|[2835.6885, 4, 32]|\n",
      "|00000000-afb8-476e-9872-6472b4e66b68|1      |[2019-01-09 17:38:00, 2019-01-09 17:39:00]|[3339.4434, 4, 32]|\n",
      "|00000000-afb8-476e-9872-6472b4e66b68|1      |[2019-01-09 17:44:00, 2019-01-09 17:45:00]|[3187.8225, 4, 32]|\n",
      "|00000000-afb8-476e-9872-6472b4e66b68|1      |[2019-01-09 17:40:00, 2019-01-09 17:41:00]|[2784.6248, 4, 32]|\n",
      "|00000000-afb8-476e-9872-6472b4e66b68|1      |[2019-01-09 17:49:00, 2019-01-09 17:50:00]|[2965.9531, 4, 32]|\n",
      "|00000000-afb8-476e-9872-6472b4e66b68|1      |[2019-01-09 17:35:00, 2019-01-09 17:36:00]|[2795.9856, 4, 32]|\n",
      "|00000000-afb8-476e-9872-6472b4e66b68|1      |[2019-01-09 17:51:00, 2019-01-09 17:52:00]|[1996.7313, 4, 32]|\n",
      "|00000000-afb8-476e-9872-6472b4e66b68|1      |[2019-01-09 17:45:00, 2019-01-09 17:46:00]|[3010.913, 4, 32] |\n",
      "|00000000-afb8-476e-9872-6472b4e66b68|1      |[2019-01-09 17:50:00, 2019-01-09 17:51:00]|[2716.3333, 4, 32]|\n",
      "|00000000-afb8-476e-9872-6472b4e66b68|1      |[2019-01-09 17:42:00, 2019-01-09 17:43:00]|[2756.2776, 4, 32]|\n",
      "|00000000-afb8-476e-9872-6472b4e66b68|1      |[2019-01-09 17:47:00, 2019-01-09 17:48:00]|[2778.4888, 4, 32]|\n",
      "|00000000-afb8-476e-9872-6472b4e66b68|1      |[2019-01-09 17:48:00, 2019-01-09 17:49:00]|[2740.342, 4, 32] |\n",
      "|00000000-afb8-476e-9872-6472b4e66b68|1      |[2019-01-09 17:39:00, 2019-01-09 17:40:00]|[2805.819, 4, 32] |\n",
      "|00000000-afb8-476e-9872-6472b4e66b68|1      |[2019-01-09 17:46:00, 2019-01-09 17:47:00]|[3033.1648, 4, 32]|\n",
      "|00000000-afb8-476e-9872-6472b4e66b68|1      |[2019-01-09 17:43:00, 2019-01-09 17:44:00]|[3083.4138, 4, 32]|\n",
      "|00000000-afb8-476e-9872-6472b4e66b68|1      |[2019-01-09 17:37:00, 2019-01-09 17:38:00]|[2948.0115, 4, 32]|\n",
      "|00000000-afb8-476e-9872-6472b4e66b68|1      |[2019-01-09 17:36:00, 2019-01-09 17:37:00]|[3103.8975, 4, 32]|\n",
      "+------------------------------------+-------+------------------------------------------+------------------+\n",
      "\n",
      "+------------------------------------+-------+------------------------------------------+---------+---+---+\n",
      "|user                                |version|window                                    |id       |id2|id3|\n",
      "+------------------------------------+-------+------------------------------------------+---------+---+---+\n",
      "|00000000-afb8-476e-9872-6472b4e66b68|1      |[2019-01-09 17:41:00, 2019-01-09 17:42:00]|2835.6885|4  |32 |\n",
      "|00000000-afb8-476e-9872-6472b4e66b68|1      |[2019-01-09 17:38:00, 2019-01-09 17:39:00]|3339.4434|4  |32 |\n",
      "|00000000-afb8-476e-9872-6472b4e66b68|1      |[2019-01-09 17:44:00, 2019-01-09 17:45:00]|3187.8225|4  |32 |\n",
      "|00000000-afb8-476e-9872-6472b4e66b68|1      |[2019-01-09 17:40:00, 2019-01-09 17:41:00]|2784.6248|4  |32 |\n",
      "|00000000-afb8-476e-9872-6472b4e66b68|1      |[2019-01-09 17:49:00, 2019-01-09 17:50:00]|2965.9531|4  |32 |\n",
      "|00000000-afb8-476e-9872-6472b4e66b68|1      |[2019-01-09 17:35:00, 2019-01-09 17:36:00]|2795.9856|4  |32 |\n",
      "|00000000-afb8-476e-9872-6472b4e66b68|1      |[2019-01-09 17:51:00, 2019-01-09 17:52:00]|1996.7313|4  |32 |\n",
      "|00000000-afb8-476e-9872-6472b4e66b68|1      |[2019-01-09 17:45:00, 2019-01-09 17:46:00]|3010.913 |4  |32 |\n",
      "|00000000-afb8-476e-9872-6472b4e66b68|1      |[2019-01-09 17:50:00, 2019-01-09 17:51:00]|2716.3333|4  |32 |\n",
      "|00000000-afb8-476e-9872-6472b4e66b68|1      |[2019-01-09 17:42:00, 2019-01-09 17:43:00]|2756.2776|4  |32 |\n",
      "|00000000-afb8-476e-9872-6472b4e66b68|1      |[2019-01-09 17:47:00, 2019-01-09 17:48:00]|2778.4888|4  |32 |\n",
      "|00000000-afb8-476e-9872-6472b4e66b68|1      |[2019-01-09 17:48:00, 2019-01-09 17:49:00]|2740.342 |4  |32 |\n",
      "|00000000-afb8-476e-9872-6472b4e66b68|1      |[2019-01-09 17:39:00, 2019-01-09 17:40:00]|2805.819 |4  |32 |\n",
      "|00000000-afb8-476e-9872-6472b4e66b68|1      |[2019-01-09 17:46:00, 2019-01-09 17:47:00]|3033.1648|4  |32 |\n",
      "|00000000-afb8-476e-9872-6472b4e66b68|1      |[2019-01-09 17:43:00, 2019-01-09 17:44:00]|3083.4138|4  |32 |\n",
      "|00000000-afb8-476e-9872-6472b4e66b68|1      |[2019-01-09 17:37:00, 2019-01-09 17:38:00]|2948.0115|4  |32 |\n",
      "|00000000-afb8-476e-9872-6472b4e66b68|1      |[2019-01-09 17:36:00, 2019-01-09 17:37:00]|3103.8975|4  |32 |\n",
      "+------------------------------------+-------+------------------------------------------+---------+---+---+\n",
      "\n"
     ]
    }
   ],
   "source": [
    "CC.sqlContext.udf.register(\"udfName\", udfName)\n",
    "ds2 = location_stream.run_algorithm(udfName, columnNames=[\"some_vals\"])\n",
    "ds2.show(truncate=False)"
   ]
  },
  {
   "cell_type": "code",
   "execution_count": null,
   "metadata": {},
   "outputs": [],
   "source": [
    "location_stream.metadata"
   ]
  },
  {
   "cell_type": "markdown",
   "metadata": {},
   "source": [
    "## Write a smoothing algorithm"
   ]
  },
  {
   "cell_type": "code",
   "execution_count": null,
   "metadata": {},
   "outputs": [],
   "source": [
    "schema = StructType([\n",
    "    StructField(\"ts\", TimestampType())\n",
    "    ])\n",
    "@pandas_udf(schema, PandasUDFType.GROUPED_MAP)\n",
    "def smooth_df(data):\n",
    "#     df= data['some_vals'].ewm(span = 3600).mean()\n",
    "#     print(type(df))\n",
    "    df2 = pd.DataFrame([data.timestamp], columns=['ts'])\n",
    "    return df2"
   ]
  },
  {
   "cell_type": "markdown",
   "metadata": {},
   "source": [
    "## Run smoothing algorithm on imported data"
   ]
  },
  {
   "cell_type": "code",
   "execution_count": null,
   "metadata": {},
   "outputs": [],
   "source": [
    "#smooth_stream = location_stream.groupby(\"user\").compute(smooth_df)\n",
    "smooth_stream = location_stream.compute(smooth_df)\n",
    "smooth_stream.show(3 truncate=False)"
   ]
  },
  {
   "cell_type": "code",
   "execution_count": null,
   "metadata": {},
   "outputs": [],
   "source": [
    "import pyspark.sql.functions\n",
    "from pyspark.sql.functions import minute, second, mean, window\n",
    "\n",
    "@pandas_udf('double', PandasUDFType.SCALAR)\n",
    "def fun_function(a):\n",
    "    return a+2\n",
    "df=location_stream.data\n",
    "\n",
    "#df.withColumn('d', fun_function(df.some_vals)).show()\n",
    "\n",
    "df.groupBy(\"timestamp\", window(\"timestamp\", \"5 minutes\")).stddev(\"some_vals\").show(5, False)\n",
    "\n",
    "interval = 60\n",
    "gdf = df.withColumn(\n",
    "    'time_interval',\n",
    "    pyspark.sql.functions.from_unixtime(pyspark.sql.functions.floor(pyspark.sql.functions.unix_timestamp(df['timestamp']) / interval) * interval)\n",
    ").groupBy('time_interval')\n",
    "\n",
    "#df.groupBy(second(\"timestamp\").alias(\"hour\")).agg(mean(\"some_vals\").alias(\"mean\")).show()"
   ]
  },
  {
   "cell_type": "markdown",
   "metadata": {},
   "source": [
    "## Visualize data"
   ]
  },
  {
   "cell_type": "code",
   "execution_count": null,
   "metadata": {},
   "outputs": [],
   "source": []
  },
  {
   "cell_type": "code",
   "execution_count": null,
   "metadata": {},
   "outputs": [],
   "source": [
    "from pyspark.sql import SparkSession\n",
    "sparkSession = SparkSession.builder.getOrCreate()\n",
    "\n",
    "df = sparkSession.createDataFrame([(17.00, \"2018-03-10T15:27:18+00:00\"),\n",
    "                            (13.00, \"2018-03-11T12:27:18+00:00\"),\n",
    "                            (25.00, \"2018-03-12T11:27:18.98+00:00\"),\n",
    "                            (20.00, \"2018-03-13T15:27:18+00:00\"),\n",
    "                            (17.00, \"2018-03-14T12:27:18+00:00\"),\n",
    "                            (99.00, \"2018-03-15T11:27:17.56+00:00\"),\n",
    "                            (156.00, \"2018-03-22T11:27:18+00:00\"),\n",
    "                            (17.00, \"2018-03-31T11:27:18+00:00\"),\n",
    "                            (25.00, \"2018-03-15T11:27:18+00:00\"),\n",
    "                            (25.00, \"2018-03-16T11:27:18+00:00\")\n",
    "                            ],\n",
    "                           [\"id\", \"ts\"])\n",
    "df = df.withColumn('ts', df.ts.cast('timestamp'))\n",
    "df.show(3)\n",
    "schema = StructType([\n",
    "    StructField(\"id\", IntegerType()),\n",
    "    StructField(\"ts\", TimestampType())\n",
    "])\n",
    "\n",
    "\n",
    "@pandas_udf(schema, PandasUDFType.GROUPED_MAP)\n",
    "def some_udf(df):\n",
    "    # some computation\n",
    "    df = pd.DataFrame(([df[\"id\"], df[\"ts\"]]), columns=['id', 'ts'])\n",
    "    return df\n",
    "\n",
    "extended = (df.withColumn(\"groupby_col\", \n",
    "                          F.concat(F.col(\"ts\").cast(\"date\"), F.lit(\"-\"), F.hour(F.col(\"ts\")), F.lit(\"-\"), F.minute(F.col(\"ts\")), F.lit(\"-\"), F.second(F.col(\"ts\"))).cast(\"string\")\n",
    "                         ))\n",
    "extended.show(truncate=False)\n",
    "#df.groupby('id', F.window(\"ts\", \"15 days\")).apply(some_udf).show()"
   ]
  }
 ],
 "metadata": {
  "kernelspec": {
   "display_name": "Python 3",
   "language": "python",
   "name": "python3"
  },
  "language_info": {
   "codemirror_mode": {
    "name": "ipython",
    "version": 3
   },
   "file_extension": ".py",
   "mimetype": "text/x-python",
   "name": "python",
   "nbconvert_exporter": "python",
   "pygments_lexer": "ipython3",
   "version": "3.6.6"
  },
  "toc-autonumbering": true
 },
 "nbformat": 4,
 "nbformat_minor": 2
}
