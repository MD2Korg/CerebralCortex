{
 "cells": [
  {
   "cell_type": "markdown",
   "metadata": {
    "toc-hr-collapsed": false
   },
   "source": [
    "# Interacting with CerebralCortex Data\n",
    "\n",
    "Cerebral Cortex is MD2K's big data cloud tool designed to support population-scale data analysis, visualization, model development, and intervention design for mobile-sensor data. It provides the ability to do machine learning model development on population scale datasets and provides interoperable interfaces for aggregation of diverse data sources.\n",
    "\n",
    "This page provides an overview of the core Cerebral Cortex operations to familiarilze you with how to discover and interact with different sources of data that could be contained within the system.\n",
    "\n",
    "_Note:_ While some of these examples are showing generated data, they are designed to function on real-world mCerebrum data and the signal generators were built to facilitate the testing and evaluation of the Cerebral Cortex platform by those individuals that are unable to see those original datasets or do not wish to collect data before evaluating the system."
   ]
  },
  {
   "cell_type": "markdown",
   "metadata": {},
   "source": [
    "## Import packages\n",
    "Python projects always require a number of imports and the specifics are located in the `util/dependencies.py` file.  The `settings` import specifies the specific `USER_ID` that is utilized within this demonstration.  These _ids_ are the unique user identifiers within Cerebral Cortex."
   ]
  },
  {
   "cell_type": "code",
   "execution_count": 1,
   "metadata": {},
   "outputs": [
    {
     "data": {
      "text/html": [
       "        <script type=\"text/javascript\">\n",
       "        window.PlotlyConfig = {MathJaxConfig: 'local'};\n",
       "        if (window.MathJax) {MathJax.Hub.Config({SVG: {font: \"STIX-Web\"}});}\n",
       "        if (typeof require !== 'undefined') {\n",
       "        require.undef(\"plotly\");\n",
       "        requirejs.config({\n",
       "            paths: {\n",
       "                'plotly': ['https://cdn.plot.ly/plotly-latest.min']\n",
       "            }\n",
       "        });\n",
       "        require(['plotly'], function(Plotly) {\n",
       "            window._Plotly = Plotly;\n",
       "        });\n",
       "        }\n",
       "        </script>\n",
       "        "
      ]
     },
     "metadata": {},
     "output_type": "display_data"
    }
   ],
   "source": [
    "%reload_ext autoreload\n",
    "from util.dependencies import *\n",
    "from cerebralcortex.util.helper_methods import get_study_names"
   ]
  },
  {
   "cell_type": "markdown",
   "metadata": {},
   "source": [
    "## CerebralCortex Configurations Path"
   ]
  },
  {
   "cell_type": "code",
   "execution_count": 2,
   "metadata": {},
   "outputs": [],
   "source": [
    "cc_config = \"/home/jovyan/cc_conf/\""
   ]
  },
  {
   "cell_type": "markdown",
   "metadata": {},
   "source": [
    "## List all the available studies"
   ]
  },
  {
   "cell_type": "code",
   "execution_count": 3,
   "metadata": {},
   "outputs": [
    {
     "data": {
      "text/plain": [
       "['default']"
      ]
     },
     "execution_count": 3,
     "metadata": {},
     "output_type": "execute_result"
    }
   ],
   "source": [
    "get_study_names(cc_config)"
   ]
  },
  {
   "cell_type": "markdown",
   "metadata": {},
   "source": [
    "## Create CerebralCortex object\n",
    "The __Kernel__ object is the main entry point to the Cerebral Cortex system. It is necessary to pass a configuration directory that tells it all the different parameters it needs to communicate with its other components.  You can examine the details of these configurations for this server by looking at the files contained in the `cc_conf` folder."
   ]
  },
  {
   "cell_type": "code",
   "execution_count": 4,
   "metadata": {},
   "outputs": [],
   "source": [
    "CC = Kernel(cc_config, study_name=\"default\")"
   ]
  },
  {
   "cell_type": "markdown",
   "metadata": {},
   "source": [
    "## Getting help\n",
    "These are the typical ways to learn more about the code and objects within Cerebral Cortex.\n",
    "1. Intelligent context help by typing the object or class into a cell followed by the period, `.`, then when you press `<tab>` a popup will appear showing additional information about the object or method. Uncomment the first line to try it out.\n",
    "2. Formatting the commands with a question mark retrieves the documentation strings and examples when appropriate.  `? CC.list_streams`\n",
    "3. Reading the documentation on our site: https://cerebralcortex-kernel.readthedocs.io/en/latest/"
   ]
  },
  {
   "cell_type": "code",
   "execution_count": 5,
   "metadata": {},
   "outputs": [
    {
     "data": {
      "text/plain": [
       "\u001b[0;31mSignature:\u001b[0m  \u001b[0mCC\u001b[0m\u001b[0;34m.\u001b[0m\u001b[0mlist_streams\u001b[0m\u001b[0;34m(\u001b[0m\u001b[0;34m)\u001b[0m \u001b[0;34m->\u001b[0m \u001b[0mList\u001b[0m\u001b[0;34m[\u001b[0m\u001b[0mstr\u001b[0m\u001b[0;34m]\u001b[0m\u001b[0;34m\u001b[0m\u001b[0;34m\u001b[0m\u001b[0m\n",
       "\u001b[0;31mDocstring:\u001b[0m\n",
       "Get all the available stream names with metadata\n",
       "\n",
       "Returns:\n",
       "    List[str]: list of available streams metadata\n",
       "\n",
       "Examples:\n",
       "    >>> CC = Kernel(\"/directory/path/of/configs/\", study_name=\"default\")\n",
       "    >>> CC.list_streams()\n",
       "\u001b[0;31mFile:\u001b[0m      /opt/conda/lib/python3.8/site-packages/cerebralcortex_kernel-3.3.0-py3.8.egg/cerebralcortex/kernel.py\n",
       "\u001b[0;31mType:\u001b[0m      method\n"
      ]
     },
     "metadata": {},
     "output_type": "display_data"
    }
   ],
   "source": [
    "? CC.list_streams"
   ]
  },
  {
   "cell_type": "markdown",
   "metadata": {},
   "source": [
    "## Generate some sample data for phone battery\n",
    "This helper method utilizes Cerebral Cortex (`CC`), the `USER_ID`, and a `stream_name` to generate fake data for for the purposes of these examples.  If you have real-world data, this step can be skipped and your stream names adjusted to make your dataset. This is disabled for this demonstration to not create too much data at once."
   ]
  },
  {
   "cell_type": "code",
   "execution_count": 6,
   "metadata": {},
   "outputs": [
    {
     "name": "stderr",
     "output_type": "stream",
     "text": [
      "2020-08-08 05:03:15,495 WARNING Retrying (Retry(total=2, connect=None, read=None, redirect=None, status=None)) after connection broken by 'NewConnectionError('<urllib3.connection.HTTPConnection object at 0x7f98ec777ca0>: Failed to establish a new connection: [Errno -2] Name or service not known')': /auth/tokens/demo\n",
      "2020-08-08 05:03:15,498 WARNING Retrying (Retry(total=1, connect=None, read=None, redirect=None, status=None)) after connection broken by 'NewConnectionError('<urllib3.connection.HTTPConnection object at 0x7f98ec777490>: Failed to establish a new connection: [Errno -2] Name or service not known')': /auth/tokens/demo\n",
      "2020-08-08 05:03:15,500 WARNING Retrying (Retry(total=0, connect=None, read=None, redirect=None, status=None)) after connection broken by 'NewConnectionError('<urllib3.connection.HTTPConnection object at 0x7f98ec777340>: Failed to establish a new connection: [Errno -2] Name or service not known')': /auth/tokens/demo\n"
     ]
    }
   ],
   "source": [
    "gen_phone_battery_data(CC, user_id=USER_ID, stream_name=\"BATTERY--org.md2k.phonesensor--PHONE\")"
   ]
  },
  {
   "cell_type": "markdown",
   "metadata": {},
   "source": [
    "## List available streams in CC\n",
    "One of the first things a researcher typically wants to know is what data is available to explore.  The kernel offers a couple of methods to facilitate this. The first, `list_streams`, is shown below and exposes all the available streams within the system. "
   ]
  },
  {
   "cell_type": "code",
   "execution_count": 7,
   "metadata": {},
   "outputs": [
    {
     "name": "stdout",
     "output_type": "stream",
     "text": [
      "iot-data-stream\n",
      "gps--org.md2k.clusters\n",
      "battery--org.md2k.phonesensor--phone\n",
      "stress-test-stream-name-temporary-remove-it\n"
     ]
    }
   ],
   "source": [
    "streams = CC.list_streams()\n",
    "for stream in streams:\n",
    "    print(stream)"
   ]
  },
  {
   "cell_type": "markdown",
   "metadata": {},
   "source": [
    "### Search streams by name\n",
    "For larger deployments, the list of all streams may be too long to easily sort through, or you may be interested in a specific type of information. In this case, the second method `search_stream` would be more applicable. This search returns streams that have a substring match of the search parameter."
   ]
  },
  {
   "cell_type": "code",
   "execution_count": 8,
   "metadata": {},
   "outputs": [
    {
     "name": "stdout",
     "output_type": "stream",
     "text": [
      "battery--org.md2k.phonesensor--phone\n"
     ]
    }
   ],
   "source": [
    "results = CC.search_stream(\"battery\")\n",
    "for result in results:\n",
    "    print(result)"
   ]
  },
  {
   "cell_type": "markdown",
   "metadata": {},
   "source": [
    "## Get stream data\n",
    "Once a stream is identified by name, it needs to be loaded into a `DataStream` object by calling `get_stream`.  This pulls into a single object all the metadata associated with the stream as well as a reference to the data so that it can be accessed as needed."
   ]
  },
  {
   "cell_type": "code",
   "execution_count": 9,
   "metadata": {},
   "outputs": [],
   "source": [
    "battery_data_stream = CC.get_stream(\"BATTERY--org.md2k.phonesensor--PHONE\")"
   ]
  },
  {
   "cell_type": "markdown",
   "metadata": {},
   "source": [
    "## Print stream statistics\n",
    "The summary method displays some basic statistics about the datastream such as the number of points as well as max, mean, stdev, and min values.  These statistics are shown for each column of data in the stream."
   ]
  },
  {
   "cell_type": "code",
   "execution_count": 10,
   "metadata": {},
   "outputs": [
    {
     "name": "stdout",
     "output_type": "stream",
     "text": [
      "+-------+------------------+------------------------------------+-------+\n",
      "|summary|battery_level     |user                                |version|\n",
      "+-------+------------------+------------------------------------+-------+\n",
      "|count  |18981             |18981                               |18981  |\n",
      "|mean   |95.44044044044044 |null                                |1.0    |\n",
      "|stddev |2.9077665515168256|null                                |0.0    |\n",
      "|min    |90                |00000000-afb8-476e-9872-6472b4e66b68|1      |\n",
      "|25%    |93                |null                                |1      |\n",
      "|50%    |95                |null                                |1      |\n",
      "|75%    |98                |null                                |1      |\n",
      "|max    |100               |00000000-afb8-476e-9872-6472b4e66b68|1      |\n",
      "+-------+------------------+------------------------------------+-------+\n",
      "\n"
     ]
    }
   ],
   "source": [
    "battery_data_stream.summary()"
   ]
  },
  {
   "cell_type": "markdown",
   "metadata": {},
   "source": [
    "## Print stream data\n",
    "Any datastream can be printed or visualized to the screen; however, it is important to limit, in this case to 3, the number of rows to show.  Streams can contain millions to billions of samples depending on the size of the system and even for the case of a single individual wearing a motion-capture band, this number can exceed 30,000,000 samples for a short two week study.  Cerebral Cortex defaults to settings that try to not load all the data unless needed.\n",
    "\n",
    "This example prints the first 3 rows of the loaded battery stream and it contains 5 columns. \n",
    "- __timestamp__: This is the time in UTC that the sample was recorded at\n",
    "- __localtime__: This is the time in the local timezone that the sample was recorded at\n",
    "- __battery_level__: This is the battery percentage of the smartphone device\n",
    "- __version__: This is the Cerebral Cortex version code assigned to this stream.\n",
    "- __user__: This is the specific UUID that identifies the user that owns this data point"
   ]
  },
  {
   "cell_type": "code",
   "execution_count": 11,
   "metadata": {},
   "outputs": [
    {
     "name": "stdout",
     "output_type": "stream",
     "text": [
      "+-------------------+-------------------+-------------+------------------------------------+-------+\n",
      "|timestamp          |localtime          |battery_level|user                                |version|\n",
      "+-------------------+-------------------+-------------+------------------------------------+-------+\n",
      "|2019-01-09 11:47:27|2019-01-09 06:47:27|93           |00000000-afb8-476e-9872-6472b4e66b68|1      |\n",
      "|2019-01-09 11:47:28|2019-01-09 06:47:28|93           |00000000-afb8-476e-9872-6472b4e66b68|1      |\n",
      "|2019-01-09 11:47:29|2019-01-09 06:47:29|93           |00000000-afb8-476e-9872-6472b4e66b68|1      |\n",
      "+-------------------+-------------------+-------------+------------------------------------+-------+\n",
      "only showing top 3 rows\n",
      "\n"
     ]
    }
   ],
   "source": [
    "battery_data_stream.show(3, truncate=False) "
   ]
  },
  {
   "cell_type": "markdown",
   "metadata": {},
   "source": [
    "## Print stream metadata\n",
    "Each stream contains \n",
    "\n",
    "- __name__: The complete string name of this stream\n",
    "- __description__: A text description of this stream\n",
    "- __data_descriptor__: A list of objects that describe the data components of the stream (e.g. battery_level)\n",
    "    - ...\n",
    "    - __name__: data descriptor name\n",
    "    - __type__: the object type (e.g. integer, float, string, ...)\n",
    "    - __optional_fields__: any number of arbitrary fields can be added when creating a stream and will appear here \n",
    "    - ...\n",
    "- __annotations__: Currently unused but designed to link streams together such as a **data quality** and the corresponding **raw** stream\n",
    "- __input_streams__: Currently unused but designed to specify which streams were utilized to generate this stream\n",
    "- __modules__: Metadata about the algorithm/code module the generated this data\n",
    "  - __name__: The name of the code module\n",
    "  - __version__: The version of the code module\n",
    "  - __attributes__: Arbitrary attributes specified by _key-value_ pairs\n",
    "  - __authors__: A set of author names and emails\n"
   ]
  },
  {
   "cell_type": "code",
   "execution_count": 12,
   "metadata": {},
   "outputs": [
    {
     "name": "stdout",
     "output_type": "stream",
     "text": [
      "{\n",
      "    \"annotations\": [],\n",
      "    \"data_descriptor\": [\n",
      "        {\n",
      "            \"attributes\": {\n",
      "                \"description\": \"current battery charge\"\n",
      "            },\n",
      "            \"name\": \"level\",\n",
      "            \"type\": null\n",
      "        }\n",
      "    ],\n",
      "    \"description\": \"mobile phone battery sample data stream.\",\n",
      "    \"input_streams\": [],\n",
      "    \"modules\": [\n",
      "        {\n",
      "            \"attributes\": {\n",
      "                \"attribute_key\": \"attribute_value\"\n",
      "            },\n",
      "            \"authors\": [\n",
      "                {\n",
      "                    \"nasir ali\": \"nasir.ali08@gmail.com\"\n",
      "                }\n",
      "            ],\n",
      "            \"name\": \"battery\",\n",
      "            \"version\": \"1.2.4\"\n",
      "        }\n",
      "    ],\n",
      "    \"name\": \"battery--org.md2k.phonesensor--phone\",\n",
      "    \"study_name\": \"default\"\n",
      "}\n"
     ]
    }
   ],
   "source": [
    "metadata = battery_data_stream.get_metadata()\n",
    "print(metadata)"
   ]
  },
  {
   "cell_type": "markdown",
   "metadata": {},
   "source": [
    "## Filter Data\n",
    "\n",
    "Cerebral Cortex returns all data associated with a stream name, which is great for performing operations and intial exploration; however, it allows for the filtering of these streams of data to isolate certain criterias such as value ranges or specific columns or users."
   ]
  },
  {
   "cell_type": "markdown",
   "metadata": {},
   "source": [
    "### Filter data by data column\n",
    "The first major filtering capability allows for named columns to have logical operations applied to them. The `filter` method is applicable to the data stream object and accepts three parameters.  \n",
    "- column name: (e.g. battery_level)\n",
    "- operation: (e.g. >, <, ==, >=, ...)\n",
    "- criteria: (e.g. 97)\n",
    "\n"
   ]
  },
  {
   "cell_type": "code",
   "execution_count": 13,
   "metadata": {},
   "outputs": [
    {
     "name": "stdout",
     "output_type": "stream",
     "text": [
      "+-------------------+-------------------+-------------+------------------------------------+-------+\n",
      "|timestamp          |localtime          |battery_level|user                                |version|\n",
      "+-------------------+-------------------+-------------+------------------------------------+-------+\n",
      "|2019-01-09 11:39:09|2019-01-09 06:39:09|98           |00000000-afb8-476e-9872-6472b4e66b68|1      |\n",
      "|2019-01-09 11:39:10|2019-01-09 06:39:10|98           |00000000-afb8-476e-9872-6472b4e66b68|1      |\n",
      "|2019-01-09 11:39:11|2019-01-09 06:39:11|98           |00000000-afb8-476e-9872-6472b4e66b68|1      |\n",
      "+-------------------+-------------------+-------------+------------------------------------+-------+\n",
      "only showing top 3 rows\n",
      "\n"
     ]
    }
   ],
   "source": [
    "filtered_data = battery_data_stream.filter(\"battery_level>97\")\n",
    "filtered_data.show(3,truncate=False)"
   ]
  },
  {
   "cell_type": "markdown",
   "metadata": {},
   "source": [
    "### Filter data by user\n",
    "User filtering is a special case due to the way Cerebral Cortex stores data and a dedicated method, `filter_user`, is provided which accepts a single `USER_ID` as input.  This example illustrates filtering by the prior user id."
   ]
  },
  {
   "cell_type": "code",
   "execution_count": 14,
   "metadata": {},
   "outputs": [
    {
     "name": "stdout",
     "output_type": "stream",
     "text": [
      "+-------------------+-------------------+-------------+------------------------------------+-------+\n",
      "|timestamp          |localtime          |battery_level|user                                |version|\n",
      "+-------------------+-------------------+-------------+------------------------------------+-------+\n",
      "|2019-01-09 11:47:27|2019-01-09 06:47:27|93           |00000000-afb8-476e-9872-6472b4e66b68|1      |\n",
      "|2019-01-09 11:47:28|2019-01-09 06:47:28|93           |00000000-afb8-476e-9872-6472b4e66b68|1      |\n",
      "|2019-01-09 11:47:29|2019-01-09 06:47:29|93           |00000000-afb8-476e-9872-6472b4e66b68|1      |\n",
      "+-------------------+-------------------+-------------+------------------------------------+-------+\n",
      "only showing top 3 rows\n",
      "\n"
     ]
    }
   ],
   "source": [
    "filtered_user_data = battery_data_stream.filter_user(\"00000000-afb8-476e-9872-6472b4e66b68\")\n",
    "filtered_user_data.show(3,truncate=False)"
   ]
  },
  {
   "cell_type": "markdown",
   "metadata": {},
   "source": [
    "### Filter data by version\n",
    "Version filtering is a special case due to the way Cerebral Cortex stores data. A dedicated method, `filter_version`, is provided which accepts a single version as input. "
   ]
  },
  {
   "cell_type": "code",
   "execution_count": 15,
   "metadata": {},
   "outputs": [
    {
     "name": "stdout",
     "output_type": "stream",
     "text": [
      "+-------------------+-------------------+-------------+------------------------------------+-------+\n",
      "|timestamp          |localtime          |battery_level|user                                |version|\n",
      "+-------------------+-------------------+-------------+------------------------------------+-------+\n",
      "|2019-01-09 11:47:27|2019-01-09 06:47:27|93           |00000000-afb8-476e-9872-6472b4e66b68|1      |\n",
      "|2019-01-09 11:47:28|2019-01-09 06:47:28|93           |00000000-afb8-476e-9872-6472b4e66b68|1      |\n",
      "|2019-01-09 11:47:29|2019-01-09 06:47:29|93           |00000000-afb8-476e-9872-6472b4e66b68|1      |\n",
      "+-------------------+-------------------+-------------+------------------------------------+-------+\n",
      "only showing top 3 rows\n",
      "\n"
     ]
    }
   ],
   "source": [
    "filtered_version_data = battery_data_stream.filter_version(1)\n",
    "filtered_version_data.show(3,truncate=False)"
   ]
  },
  {
   "cell_type": "markdown",
   "metadata": {},
   "source": [
    "## Convert datastream object into Pandas dataframe\n",
    "The data representations and visualizations that have been shown so far provide a way for basic data inspections; however, these are not directly suitable for more complex interactions or analysis.  Cerebral Cortex provide a `to_pandas` method to transform the datastream data into a [Pandas](https://pandas.pydata.org/) dataframe object. From this point, anything that Pandas can do is supported.\n"
   ]
  },
  {
   "cell_type": "code",
   "execution_count": 16,
   "metadata": {},
   "outputs": [
    {
     "data": {
      "text/html": [
       "<div>\n",
       "<style scoped>\n",
       "    .dataframe tbody tr th:only-of-type {\n",
       "        vertical-align: middle;\n",
       "    }\n",
       "\n",
       "    .dataframe tbody tr th {\n",
       "        vertical-align: top;\n",
       "    }\n",
       "\n",
       "    .dataframe thead th {\n",
       "        text-align: right;\n",
       "    }\n",
       "</style>\n",
       "<table border=\"1\" class=\"dataframe\">\n",
       "  <thead>\n",
       "    <tr style=\"text-align: right;\">\n",
       "      <th></th>\n",
       "      <th>timestamp</th>\n",
       "      <th>localtime</th>\n",
       "      <th>battery_level</th>\n",
       "      <th>user</th>\n",
       "      <th>version</th>\n",
       "    </tr>\n",
       "  </thead>\n",
       "  <tbody>\n",
       "    <tr>\n",
       "      <th>0</th>\n",
       "      <td>2019-01-09 11:47:27</td>\n",
       "      <td>2019-01-09 06:47:27</td>\n",
       "      <td>93</td>\n",
       "      <td>00000000-afb8-476e-9872-6472b4e66b68</td>\n",
       "      <td>1</td>\n",
       "    </tr>\n",
       "    <tr>\n",
       "      <th>1</th>\n",
       "      <td>2019-01-09 11:47:28</td>\n",
       "      <td>2019-01-09 06:47:28</td>\n",
       "      <td>93</td>\n",
       "      <td>00000000-afb8-476e-9872-6472b4e66b68</td>\n",
       "      <td>1</td>\n",
       "    </tr>\n",
       "    <tr>\n",
       "      <th>...</th>\n",
       "      <td>...</td>\n",
       "      <td>...</td>\n",
       "      <td>...</td>\n",
       "      <td>...</td>\n",
       "      <td>...</td>\n",
       "    </tr>\n",
       "    <tr>\n",
       "      <th>18979</th>\n",
       "      <td>2019-01-09 11:44:52</td>\n",
       "      <td>2019-01-09 06:44:52</td>\n",
       "      <td>95</td>\n",
       "      <td>00000000-afb8-476e-9872-6472b4e66b68</td>\n",
       "      <td>1</td>\n",
       "    </tr>\n",
       "    <tr>\n",
       "      <th>18980</th>\n",
       "      <td>2019-01-09 11:44:53</td>\n",
       "      <td>2019-01-09 06:44:53</td>\n",
       "      <td>94</td>\n",
       "      <td>00000000-afb8-476e-9872-6472b4e66b68</td>\n",
       "      <td>1</td>\n",
       "    </tr>\n",
       "  </tbody>\n",
       "</table>\n",
       "<p>18981 rows × 5 columns</p>\n",
       "</div>"
      ],
      "text/plain": [
       "                timestamp           localtime  battery_level  \\\n",
       "0     2019-01-09 11:47:27 2019-01-09 06:47:27             93   \n",
       "1     2019-01-09 11:47:28 2019-01-09 06:47:28             93   \n",
       "...                   ...                 ...            ...   \n",
       "18979 2019-01-09 11:44:52 2019-01-09 06:44:52             95   \n",
       "18980 2019-01-09 11:44:53 2019-01-09 06:44:53             94   \n",
       "\n",
       "                                       user  version  \n",
       "0      00000000-afb8-476e-9872-6472b4e66b68        1  \n",
       "1      00000000-afb8-476e-9872-6472b4e66b68        1  \n",
       "...                                     ...      ...  \n",
       "18979  00000000-afb8-476e-9872-6472b4e66b68        1  \n",
       "18980  00000000-afb8-476e-9872-6472b4e66b68        1  \n",
       "\n",
       "[18981 rows x 5 columns]"
      ]
     },
     "execution_count": 16,
     "metadata": {},
     "output_type": "execute_result"
    }
   ],
   "source": [
    "pdf = battery_data_stream.toPandas()\n",
    "pdf"
   ]
  },
  {
   "cell_type": "markdown",
   "metadata": {},
   "source": [
    "## Perform windowing operation on data\n",
    "Many times it is preferable to group the data into windows before applying an algorithm or computation to the data.  The basic windowing function groups data into non-overlapping chunks and returns a data stream with each cell containing all the data associated with that particular window."
   ]
  },
  {
   "cell_type": "code",
   "execution_count": 17,
   "metadata": {},
   "outputs": [],
   "source": [
    "windowed_data = battery_data_stream.window(windowDuration=60)"
   ]
  },
  {
   "cell_type": "markdown",
   "metadata": {},
   "source": [
    "### Sliding windows\n",
    "Another common windowing technique can be accomplished by adding an `offset` parameter to the parameter list which causes the windows to move by a partial window size instead of the whole window."
   ]
  },
  {
   "cell_type": "code",
   "execution_count": 18,
   "metadata": {},
   "outputs": [],
   "source": [
    "windowed_data = battery_data_stream.window(windowDuration=60, slideDuration=5)"
   ]
  },
  {
   "cell_type": "markdown",
   "metadata": {},
   "source": [
    "## Compute some basic stats\n",
    "Cerebral Cortex provides computationally efficient helper functions for generating basic statistics over the datastream. These functions include: _average, sqrt, sum, variance, stdev, min, max_"
   ]
  },
  {
   "cell_type": "code",
   "execution_count": 19,
   "metadata": {},
   "outputs": [
    {
     "name": "stderr",
     "output_type": "stream",
     "text": [
      "/usr/local/spark/python/pyspark/sql/pandas/group_ops.py:73: UserWarning:\n",
      "\n",
      "It is preferred to use 'applyInPandas' over this API. This API will be deprecated in the future releases. See SPARK-28264 for more details.\n",
      "\n"
     ]
    },
    {
     "name": "stdout",
     "output_type": "stream",
     "text": [
      "+-------------------+-------------------+------------------------------------+-------+-------------------+-------------------+------------------+--------------------+--------------------+----------------------+-----------------+-----------------+------------------+------------------+-----------------+\n",
      "|timestamp          |localtime          |user                                |version|start_time         |end_time           |battery_level_mean|battery_level_median|battery_level_stddev|battery_level_variance|battery_level_max|battery_level_min|battery_level_skew|battery_level_kurt|battery_level_sqr|\n",
      "+-------------------+-------------------+------------------------------------+-------+-------------------+-------------------+------------------+--------------------+--------------------+----------------------+-----------------+-----------------+------------------+------------------+-----------------+\n",
      "|2019-01-09 11:39:09|2019-01-09 06:39:09|00000000-afb8-476e-9872-6472b4e66b68|1      |2019-01-09 11:39:09|2019-01-09 11:39:19|98.0              |98.0                |0.0                 |0.0                   |98.0             |98.0             |0.0               |0.0               |9604.0           |\n",
      "|2019-01-09 11:37:25|2019-01-09 06:37:25|00000000-afb8-476e-9872-6472b4e66b68|1      |2019-01-09 11:37:25|2019-01-09 11:38:24|98.86667          |99.0                |0.34008384          |0.11565701            |99.0             |98.0             |-2.1601207        |2.6708043         |9774.733         |\n",
      "|2019-01-09 11:42:25|2019-01-09 06:42:25|00000000-afb8-476e-9872-6472b4e66b68|1      |2019-01-09 11:42:25|2019-01-09 11:43:24|95.816666         |96.0                |0.38710937          |0.14985368            |96.0             |95.0             |-1.6389332        |0.6873046         |9180.983         |\n",
      "|2019-01-09 11:45:00|2019-01-09 06:45:00|00000000-afb8-476e-9872-6472b4e66b68|1      |2019-01-09 11:45:00|2019-01-09 11:45:59|94.0              |94.0                |0.0                 |0.0                   |94.0             |94.0             |0.0               |0.0               |8836.0           |\n",
      "+-------------------+-------------------+------------------------------------+-------+-------------------+-------------------+------------------+--------------------+--------------------+----------------------+-----------------+-----------------+------------------+------------------+-----------------+\n",
      "only showing top 4 rows\n",
      "\n"
     ]
    }
   ],
   "source": [
    "from cerebralcortex.algorithms.stats.features import statistical_features\n",
    "\n",
    "stats_features = statistical_features(windowed_data)\n",
    "stats_features.show(4, False)"
   ]
  },
  {
   "cell_type": "code",
   "execution_count": null,
   "metadata": {},
   "outputs": [],
   "source": []
  }
 ],
 "metadata": {
  "kernelspec": {
   "display_name": "Python 3",
   "language": "python",
   "name": "python3"
  },
  "language_info": {
   "codemirror_mode": {
    "name": "ipython",
    "version": 3
   },
   "file_extension": ".py",
   "mimetype": "text/x-python",
   "name": "python",
   "nbconvert_exporter": "python",
   "pygments_lexer": "ipython3",
   "version": "3.8.4"
  }
 },
 "nbformat": 4,
 "nbformat_minor": 4
}
