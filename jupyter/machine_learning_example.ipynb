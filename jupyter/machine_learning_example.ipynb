{
 "cells": [
  {
   "cell_type": "markdown",
   "metadata": {
    "toc-hr-collapsed": false
   },
   "source": [
    "# Using Cerebral Cortex with Machine Learning Tools\n",
    "\n",
    "Scenario: \n",
    "\n",
    "Based on this kaggle competitions and example: https://www.kaggle.com/morrisb/what-does-your-smartphone-know-about-you\n",
    "\n",
    "**Reference:**\n",
    "Davide Anguita, Alessandro Ghio, Luca Oneto, Xavier Parra and Jorge L. Reyes-Ortiz. _A Public Domain Dataset for Human Activity Recognition Using Smartphones_. 21st European Symposium on Artificial Neural Networks, Computational Intelligence and Machine Learning, ESANN 2013. Bruges, Belgium 24-26 April 2013."
   ]
  },
  {
   "cell_type": "markdown",
   "metadata": {},
   "source": [
    "## Initialize Cerebral Cortex"
   ]
  },
  {
   "cell_type": "code",
   "execution_count": null,
   "metadata": {},
   "outputs": [],
   "source": [
    "%reload_ext autoreload\n",
    "from util.dependencies import *\n",
    "CC = Kernel(\"/home/md2k/cc_conf/\")\n",
    "\n",
    "import pandas as pd\n",
    "pd.options.display.max_rows=20\n",
    "import numpy as np\n",
    "\n",
    "# To build models\n",
    "from sklearn.preprocessing import StandardScaler, LabelEncoder\n",
    "from sklearn.model_selection import train_test_split\n",
    "from sklearn.metrics import accuracy_score\n",
    "from sklearn.decomposition import PCA\n",
    "from sklearn.manifold import TSNE\n",
    "\n",
    "# To gbm light\n",
    "from lightgbm import LGBMClassifier"
   ]
  },
  {
   "cell_type": "markdown",
   "metadata": {},
   "source": [
    "## Load and combine data from files"
   ]
  },
  {
   "cell_type": "code",
   "execution_count": null,
   "metadata": {},
   "outputs": [],
   "source": [
    "train_df = pd.read_csv('ml_data/train.csv')\n",
    "test_df = pd.read_csv('ml_data/test.csv')\n",
    "\n",
    "train_df['Data'] = 'Train'\n",
    "test_df['Data'] = 'Test'\n",
    "both_df = pd.concat([train_df, test_df], axis=0).reset_index(drop=True)\n",
    "both_df['subject'] = '#' + both_df['subject'].astype(str)"
   ]
  },
  {
   "cell_type": "markdown",
   "metadata": {},
   "source": [
    "## Get stream data\n",
    "Once a stream is identifier by name, it needs to be loaded into a `DataStream` object by calling `get_stream`.  This pulls into a single object all the metadata associated with the stream as well as a reference to the data so that it can be accessed as needed."
   ]
  },
  {
   "cell_type": "code",
   "execution_count": null,
   "metadata": {},
   "outputs": [],
   "source": [
    "both_df"
   ]
  },
  {
   "cell_type": "code",
   "execution_count": null,
   "metadata": {},
   "outputs": [],
   "source": [
    "label = both_df.pop('Activity')\n",
    "pd.DataFrame(label).groupby(['Activity']).size().reset_index(name='Counts')"
   ]
  },
  {
   "cell_type": "code",
   "execution_count": null,
   "metadata": {},
   "outputs": [],
   "source": [
    "# Create datasets\n",
    "tsne_data = both_df.copy()\n",
    "data_data = tsne_data.pop('Data')\n",
    "subject_data = tsne_data.pop('subject')\n",
    "\n",
    "# Scale data\n",
    "tsne_data = StandardScaler().fit_transform(tsne_data)\n",
    "\n",
    "# Reduce dimensions (speed up)\n",
    "tsne_data = PCA(n_components=0.95, random_state=3).fit_transform(tsne_data)\n",
    "\n",
    "# Split the data\n",
    "label_encoded = LabelEncoder().fit_transform(label)\n",
    "X_train, X_test, y_train, y_test = train_test_split(tsne_data, label_encoded, random_state=3)\n"
   ]
  },
  {
   "cell_type": "code",
   "execution_count": null,
   "metadata": {},
   "outputs": [],
   "source": [
    "number_of_estimators=50\n",
    "random_states=3\n",
    "\n",
    "# Create the model\n",
    "lgbm = LGBMClassifier(n_estimators=number_of_estimators, random_state=random_states)\n",
    "lgbm = lgbm.fit(X_train, y_train)\n",
    "\n",
    "# Test the model\n",
    "score = accuracy_score(y_true=y_test, y_pred=lgbm.predict(X_test))\n",
    "score"
   ]
  },
  {
   "cell_type": "code",
   "execution_count": null,
   "metadata": {},
   "outputs": [],
   "source": []
  }
 ],
 "metadata": {
  "kernelspec": {
   "display_name": "Python 3",
   "language": "python",
   "name": "python3"
  },
  "language_info": {
   "codemirror_mode": {
    "name": "ipython",
    "version": 3
   },
   "file_extension": ".py",
   "mimetype": "text/x-python",
   "name": "python",
   "nbconvert_exporter": "python",
   "pygments_lexer": "ipython3",
   "version": "3.6.6"
  }
 },
 "nbformat": 4,
 "nbformat_minor": 4
}
