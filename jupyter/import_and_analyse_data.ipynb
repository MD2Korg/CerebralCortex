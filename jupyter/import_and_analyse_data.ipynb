{
 "cells": [
  {
   "cell_type": "markdown",
   "metadata": {},
   "source": [
    "# Import Your Own Data"
   ]
  },
  {
   "cell_type": "markdown",
   "metadata": {},
   "source": [
    "## Import Packages"
   ]
  },
  {
   "cell_type": "code",
   "execution_count": 16,
   "metadata": {},
   "outputs": [],
   "source": [
    "%reload_ext autoreload\n",
    "from util.dependencies import *\n",
    "from settings import USER_ID\n",
    "from pyspark.sql.functions import pandas_udf, PandasUDFType\n",
    "from pyspark.sql.types import StructField, StructType, StringType, FloatType, TimestampType\n",
    "from cerebralcortex.data_importer.data_parsers import csv_data_parser\n",
    "from cerebralcortex.data_importer import import_dir"
   ]
  },
  {
   "cell_type": "markdown",
   "metadata": {},
   "source": [
    "# Import Data"
   ]
  },
  {
   "cell_type": "code",
   "execution_count": null,
   "metadata": {},
   "outputs": [],
   "source": [
    "# import CSV/IoT data (demo stream name - demo-location-data-stream)\n",
    "import_dir(\n",
    "    cc_config=\"/home/md2k/cc_conf/\",\n",
    "    input_data_dir=\"sample_data/\",\n",
    "    user_id=USER_ID,\n",
    "    data_file_extension=[\".csv\"],\n",
    "    data_parser=csv_data_parser,\n",
    "    gen_report=True\n",
    ")"
   ]
  },
  {
   "cell_type": "markdown",
   "metadata": {},
   "source": [
    "## Create CerebralCortex object"
   ]
  },
  {
   "cell_type": "code",
   "execution_count": 2,
   "metadata": {},
   "outputs": [],
   "source": [
    "CC = Kernel(\"/home/md2k/cc_conf/\")"
   ]
  },
  {
   "cell_type": "markdown",
   "metadata": {},
   "source": [
    "## View Imported Data"
   ]
  },
  {
   "cell_type": "code",
   "execution_count": 3,
   "metadata": {},
   "outputs": [],
   "source": [
    "location_stream = CC.get_stream(\"iot-data-stream\")\n",
    "#location_stream.show(3, False)\n",
    "#location_stream.plot()"
   ]
  },
  {
   "cell_type": "markdown",
   "metadata": {},
   "source": [
    "## Write a smoothing algorithm"
   ]
  },
  {
   "cell_type": "code",
   "execution_count": 30,
   "metadata": {},
   "outputs": [],
   "source": [
    "schema = StructType([\n",
    "    StructField(\"ts\", TimestampType())\n",
    "    ])\n",
    "@pandas_udf(schema, PandasUDFType.GROUPED_MAP)\n",
    "def smooth_df(data):\n",
    "#     df= data['some_vals'].ewm(span = 3600).mean()\n",
    "#     print(type(df))\n",
    "    df2 = pd.DataFrame([data.timestamp], columns=['ts'])\n",
    "    return df2"
   ]
  },
  {
   "cell_type": "markdown",
   "metadata": {},
   "source": [
    "## Run smoothing algorithm on imported data"
   ]
  },
  {
   "cell_type": "code",
   "execution_count": 31,
   "metadata": {},
   "outputs": [
    {
     "name": "stdout",
     "output_type": "stream",
     "text": [
      "+----+\n",
      "|  ts|\n",
      "+----+\n",
      "|null|\n",
      "+----+\n",
      "\n"
     ]
    }
   ],
   "source": [
    "#smooth_stream = location_stream.groupby(\"user\").compute(smooth_df)\n",
    "smooth_stream = location_stream.compute(smooth_df)\n",
    "smooth_stream.show(3)"
   ]
  },
  {
   "cell_type": "code",
   "execution_count": 58,
   "metadata": {},
   "outputs": [
    {
     "ename": "AttributeError",
     "evalue": "'GroupedData' object has no attribute 'stddev'",
     "output_type": "error",
     "traceback": [
      "\u001b[0;31m---------------------------------------------------------------------------\u001b[0m",
      "\u001b[0;31mAttributeError\u001b[0m                            Traceback (most recent call last)",
      "\u001b[0;32m<ipython-input-58-a1b2ae7d4e97>\u001b[0m in \u001b[0;36m<module>\u001b[0;34m\u001b[0m\n\u001b[1;32m      9\u001b[0m \u001b[0;31m#df.withColumn('d', fun_function(df.some_vals)).show()\u001b[0m\u001b[0;34m\u001b[0m\u001b[0;34m\u001b[0m\u001b[0m\n\u001b[1;32m     10\u001b[0m \u001b[0;34m\u001b[0m\u001b[0m\n\u001b[0;32m---> 11\u001b[0;31m \u001b[0mdf\u001b[0m\u001b[0;34m.\u001b[0m\u001b[0mgroupBy\u001b[0m\u001b[0;34m(\u001b[0m\u001b[0;34m\"timestamp\"\u001b[0m\u001b[0;34m,\u001b[0m \u001b[0mwindow\u001b[0m\u001b[0;34m(\u001b[0m\u001b[0;34m\"timestamp\"\u001b[0m\u001b[0;34m,\u001b[0m \u001b[0;34m\"5 minutes\"\u001b[0m\u001b[0;34m)\u001b[0m\u001b[0;34m)\u001b[0m\u001b[0;34m.\u001b[0m\u001b[0mstddev\u001b[0m\u001b[0;34m(\u001b[0m\u001b[0;34m\"some_vals\"\u001b[0m\u001b[0;34m)\u001b[0m\u001b[0;34m.\u001b[0m\u001b[0mshow\u001b[0m\u001b[0;34m(\u001b[0m\u001b[0;36m5\u001b[0m\u001b[0;34m,\u001b[0m \u001b[0;32mFalse\u001b[0m\u001b[0;34m)\u001b[0m\u001b[0;34m\u001b[0m\u001b[0m\n\u001b[0m\u001b[1;32m     12\u001b[0m \u001b[0;34m\u001b[0m\u001b[0m\n\u001b[1;32m     13\u001b[0m \u001b[0minterval\u001b[0m \u001b[0;34m=\u001b[0m \u001b[0;36m60\u001b[0m\u001b[0;34m\u001b[0m\u001b[0m\n",
      "\u001b[0;31mAttributeError\u001b[0m: 'GroupedData' object has no attribute 'stddev'"
     ]
    }
   ],
   "source": [
    "import pyspark.sql.functions\n",
    "from pyspark.sql.functions import minute, second, mean, window\n",
    "\n",
    "@pandas_udf('double', PandasUDFType.SCALAR)\n",
    "def fun_function(a):\n",
    "    return a+2\n",
    "df=location_stream.data\n",
    "\n",
    "#df.withColumn('d', fun_function(df.some_vals)).show()\n",
    "\n",
    "df.groupBy(\"timestamp\", window(\"timestamp\", \"5 minutes\")).stddev(\"some_vals\").show(5, False)\n",
    "\n",
    "interval = 60\n",
    "gdf = df.withColumn(\n",
    "    'time_interval',\n",
    "    pyspark.sql.functions.from_unixtime(pyspark.sql.functions.floor(pyspark.sql.functions.unix_timestamp(df['timestamp']) / interval) * interval)\n",
    ").groupBy('time_interval')\n",
    "\n",
    "#df.groupBy(second(\"timestamp\").alias(\"hour\")).agg(mean(\"some_vals\").alias(\"mean\")).show()"
   ]
  },
  {
   "cell_type": "markdown",
   "metadata": {},
   "source": [
    "## Visualize data"
   ]
  },
  {
   "cell_type": "code",
   "execution_count": 32,
   "metadata": {},
   "outputs": [
    {
     "name": "stderr",
     "output_type": "stream",
     "text": [
      "/opt/conda/lib/python3.6/site-packages/ipyleaflet/leaflet.py:80: DeprecationWarning:\n",
      "\n",
      "Traits should be given as instances, not types (for example, `Int()`, not `Int`). Passing types is deprecated in traitlets 4.1.\n",
      "\n",
      "/opt/conda/lib/python3.6/site-packages/ipyleaflet/leaflet.py:297: DeprecationWarning:\n",
      "\n",
      "metadata {'dtype': None} was set from the constructor. With traitlets 4.1, metadata should be set using the .tag() method, e.g., Int().tag(key1='value1', key2='value2')\n",
      "\n",
      "/opt/conda/lib/python3.6/site-packages/ipyleaflet/leaflet.py:416: DeprecationWarning:\n",
      "\n",
      "metadata {'trait': <traitlets.traitlets.Instance object at 0x7f33837de320>} was set from the constructor. With traitlets 4.1, metadata should be set using the .tag() method, e.g., Int().tag(key1='value1', key2='value2')\n",
      "\n",
      "/opt/conda/lib/python3.6/site-packages/ipyleaflet/leaflet.py:553: DeprecationWarning:\n",
      "\n",
      "Traits should be given as instances, not types (for example, `Int()`, not `Int`). Passing types is deprecated in traitlets 4.1.\n",
      "\n",
      "/opt/conda/lib/python3.6/site-packages/ipyleaflet/leaflet.py:785: DeprecationWarning:\n",
      "\n",
      "Traits should be given as instances, not types (for example, `Int()`, not `Int`). Passing types is deprecated in traitlets 4.1.\n",
      "\n"
     ]
    },
    {
     "data": {
      "application/vnd.jupyter.widget-view+json": {
       "model_id": "3633bac250db4fc8be24e53c576c4af6",
       "version_major": 2,
       "version_minor": 0
      },
      "text/plain": [
       "Map(basemap={'url': 'https://{s}.tile.openstreetmap.org/{z}/{x}/{y}.png', 'max_zoom': 19, 'attribution': 'Map …"
      ]
     },
     "metadata": {},
     "output_type": "display_data"
    }
   ],
   "source": []
  },
  {
   "cell_type": "code",
   "execution_count": null,
   "metadata": {},
   "outputs": [],
   "source": []
  }
 ],
 "metadata": {
  "kernelspec": {
   "display_name": "Python 3",
   "language": "python",
   "name": "python3"
  },
  "language_info": {
   "codemirror_mode": {
    "name": "ipython",
    "version": 3
   },
   "file_extension": ".py",
   "mimetype": "text/x-python",
   "name": "python",
   "nbconvert_exporter": "python",
   "pygments_lexer": "ipython3",
   "version": "3.6.6"
  }
 },
 "nbformat": 4,
 "nbformat_minor": 2
}
