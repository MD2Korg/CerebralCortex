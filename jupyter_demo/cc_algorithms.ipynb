{
 "cells": [
  {
   "cell_type": "markdown",
   "metadata": {
    "toc-hr-collapsed": false
   },
   "source": [
    "# Cerebral Cortex Data Analysis Algorithms\n",
    "Cerebral Cortex contains a library of algorithms that are useful for processing data and converting it into features or biomarkers.  This page demonstrates a simple GPS clustering algorithm.  For more details about the algorithms that are available, please see our [documentation](https://cerebralcortex-kernel.readthedocs.io/en/latest/).  These algorithms are constantly being developed and improved through our own work and the work of other researchers."
   ]
  },
  {
   "cell_type": "markdown",
   "metadata": {},
   "source": [
    "## Initalize the system"
   ]
  },
  {
   "cell_type": "code",
   "execution_count": 1,
   "metadata": {},
   "outputs": [
    {
     "data": {
      "text/html": [
       "        <script type=\"text/javascript\">\n",
       "        window.PlotlyConfig = {MathJaxConfig: 'local'};\n",
       "        if (window.MathJax) {MathJax.Hub.Config({SVG: {font: \"STIX-Web\"}});}\n",
       "        if (typeof require !== 'undefined') {\n",
       "        require.undef(\"plotly\");\n",
       "        requirejs.config({\n",
       "            paths: {\n",
       "                'plotly': ['https://cdn.plot.ly/plotly-latest.min']\n",
       "            }\n",
       "        });\n",
       "        require(['plotly'], function(Plotly) {\n",
       "            window._Plotly = Plotly;\n",
       "        });\n",
       "        }\n",
       "        </script>\n",
       "        "
      ]
     },
     "metadata": {},
     "output_type": "display_data"
    },
    {
     "data": {
      "text/html": [
       "        <script type=\"text/javascript\">\n",
       "        window.PlotlyConfig = {MathJaxConfig: 'local'};\n",
       "        if (window.MathJax) {MathJax.Hub.Config({SVG: {font: \"STIX-Web\"}});}\n",
       "        if (typeof require !== 'undefined') {\n",
       "        require.undef(\"plotly\");\n",
       "        requirejs.config({\n",
       "            paths: {\n",
       "                'plotly': ['https://cdn.plot.ly/plotly-latest.min']\n",
       "            }\n",
       "        });\n",
       "        require(['plotly'], function(Plotly) {\n",
       "            window._Plotly = Plotly;\n",
       "        });\n",
       "        }\n",
       "        </script>\n",
       "        "
      ]
     },
     "metadata": {},
     "output_type": "display_data"
    }
   ],
   "source": [
    "%reload_ext autoreload\n",
    "from util.dependencies import *\n",
    "from settings import USER_ID\n",
    "\n",
    "CC = Kernel(\"/home/md2k/cc_conf/\", study_name=\"default\")"
   ]
  },
  {
   "cell_type": "markdown",
   "metadata": {},
   "source": [
    "## Generate some sample location data\n",
    "\n",
    "This example utilizes a data generator to protect the privacy of real participants and allows for anyone utilizing this system to explore the data without required institutional review board approvals. This is disabled for this demonstration to not create too much data at once."
   ]
  },
  {
   "cell_type": "code",
   "execution_count": 2,
   "metadata": {},
   "outputs": [],
   "source": [
    "gen_location_datastream(CC, user_id=USER_ID, stream_name=\"GPS--org.md2k.phonesensor--PHONE\")"
   ]
  },
  {
   "cell_type": "markdown",
   "metadata": {
    "toc-hr-collapsed": false
   },
   "source": [
    "## Get stream data\n",
    "Read the demo GPS stream and show some example values.  A typical GPS sample contains values for _latitude, longitude, altitude, speed, bearing, and accuracy_."
   ]
  },
  {
   "cell_type": "code",
   "execution_count": 3,
   "metadata": {},
   "outputs": [
    {
     "name": "stdout",
     "output_type": "stream",
     "text": [
      "+-------------------+-------------------+------------------+------------------+--------+--------+----------+---------+-------+--------------------+\n",
      "|          timestamp|          localtime|          latitude|         longitude|altitude|   speed|   bearing| accuracy|version|                user|\n",
      "+-------------------+-------------------+------------------+------------------+--------+--------+----------+---------+-------+--------------------+\n",
      "|2019-09-01 22:26:59|2019-09-02 03:26:59|35.118773201609265|-89.98386596968206|      95|4.116031|232.052009|13.888331|      1|00000000-afb8-476...|\n",
      "|2019-09-01 22:27:59|2019-09-02 03:27:59| 35.11836411042014|-89.98602154669886|      89|3.099989| 51.766993|25.568524|      1|00000000-afb8-476...|\n",
      "|2019-09-01 22:28:59|2019-09-02 03:28:59|35.120943663113984|-89.98295376316776|      89|0.692193|132.805414|12.173668|      1|00000000-afb8-476...|\n",
      "+-------------------+-------------------+------------------+------------------+--------+--------+----------+---------+-------+--------------------+\n",
      "only showing top 3 rows\n",
      "\n",
      "+-------+-------------------+-------------------+-----------------+-----------------+------------------+------------------+-------+------------------------------------+\n",
      "|summary|latitude           |longitude          |altitude         |speed            |bearing           |accuracy          |version|user                                |\n",
      "+-------+-------------------+-------------------+-----------------+-----------------+------------------+------------------+-------+------------------------------------+\n",
      "|count  |1500               |1500               |1500             |1500             |1500              |1500              |1500   |1500                                |\n",
      "|mean   |35.14001104064524  |-89.96792941121811 |90.97533333333334|2.507328059333333|172.88050140466666|19.862386251333334|1.0    |null                                |\n",
      "|stddev |0.04092938935448356|0.06108909930504469|4.983233217275111|1.434685077492998|100.49613157939713|5.882333087099579 |0.0    |null                                |\n",
      "|min    |35.084691823576954 |-90.07325127542278 |83               |5.4E-4           |0.117571          |10.012637         |1      |00000000-afb8-476e-9872-6472b4e66b68|\n",
      "|25%    |35.09945685373119  |-89.99770670626543 |87               |1.292467         |85.748618         |14.524592         |1      |null                                |\n",
      "|50%    |35.122972332468166 |-89.97441178496398 |91               |2.462497         |166.945809        |19.774926         |1      |null                                |\n",
      "|75%    |35.18775273341369  |-89.91656538422765 |95               |3.728823         |257.917538        |24.927726         |1      |null                                |\n",
      "|max    |35.1972627540114   |-89.86949272795485 |99               |4.996889         |349.873078        |30.379137         |1      |00000000-afb8-476e-9872-6472b4e66b68|\n",
      "+-------+-------------------+-------------------+-----------------+-----------------+------------------+------------------+-------+------------------------------------+\n",
      "\n"
     ]
    }
   ],
   "source": [
    "gps_stream = CC.get_stream(\"GPS--org.md2k.phonesensor--PHONE\")\n",
    "gps_stream.show(3)\n",
    "gps_stream.summary()"
   ]
  },
  {
   "cell_type": "markdown",
   "metadata": {},
   "source": [
    "## Cluster the location data\n",
    "Cerebral Cortex makes it easy to apply built-in algorithms to data streams.  In this case, `gps_clusters` is imported from the algorithm library, then `compute` is utilized to run this algorithm on the `gps_stream` to generate a set of centroids. This is the general format for applying algorithm to datastream and makes it easy for researchers to apply validated and tested algorithms to his/her own data without the need to become an expert in the particular set of transformations needed.  \n",
    "\n",
    "_Note:_ the `compute` method engages the parallel computation capabilities of Cerebral Cortex, which causes all the data to be read from the data storage layer and processed on every computational core available to the system.  This allows the computation to run as quickly as possible and to take advantage of powerful clusters from a relatively simple interface.  This capability is critical to working with mobile sensor big data where data sizes can exceed 100s of gigabytes per datastream for larger studies."
   ]
  },
  {
   "cell_type": "code",
   "execution_count": 4,
   "metadata": {},
   "outputs": [
    {
     "name": "stdout",
     "output_type": "stream",
     "text": [
      "+------------------------------------+---------+----------+\n",
      "|user                                |latitude |longitude |\n",
      "+------------------------------------+---------+----------+\n",
      "|00000000-afb8-476e-9872-6472b4e66b68|35.093777|-89.97002 |\n",
      "|00000000-afb8-476e-9872-6472b4e66b68|35.11999 |-89.98406 |\n",
      "|00000000-afb8-476e-9872-6472b4e66b68|35.08718 |-89.87156 |\n",
      "|00000000-afb8-476e-9872-6472b4e66b68|35.113625|-90.07066 |\n",
      "|00000000-afb8-476e-9872-6472b4e66b68|35.193867|-89.9976  |\n",
      "|00000000-afb8-476e-9872-6472b4e66b68|35.163216|-90.04787 |\n",
      "|00000000-afb8-476e-9872-6472b4e66b68|35.15152 |-89.88392 |\n",
      "|00000000-afb8-476e-9872-6472b4e66b68|35.09017 |-89.969734|\n",
      "|00000000-afb8-476e-9872-6472b4e66b68|35.099457|-89.97731 |\n",
      "|00000000-afb8-476e-9872-6472b4e66b68|35.18772 |-89.91643 |\n",
      "|00000000-afb8-476e-9872-6472b4e66b68|35.19365 |-89.9604  |\n",
      "+------------------------------------+---------+----------+\n",
      "\n"
     ]
    }
   ],
   "source": [
    "from cerebralcortex.algorithms import gps_clusters\n",
    "centroids = gps_stream.compute(gps_clusters)\n",
    "centroids.show(truncate=False)"
   ]
  },
  {
   "cell_type": "markdown",
   "metadata": {},
   "source": [
    "## Visualize GPS Data"
   ]
  },
  {
   "cell_type": "markdown",
   "metadata": {},
   "source": [
    "### GPS Stream Plot\n",
    "GPS visualization requires dedicated plotting capabilities. Cerebral Cortex includes a library to allow for interactive exploration.  In this plot, use your mouse to drag the map around along with zooming in to explore the specific data points."
   ]
  },
  {
   "cell_type": "code",
   "execution_count": 7,
   "metadata": {},
   "outputs": [
    {
     "data": {
      "application/vnd.jupyter.widget-view+json": {
       "model_id": "3b9c3236908a4791bfed436b435b1b82",
       "version_major": 2,
       "version_minor": 0
      },
      "text/plain": [
       "Map(basemap={'url': 'https://{s}.tile.openstreetmap.org/{z}/{x}/{y}.png', 'max_zoom': 19, 'attribution': 'Map …"
      ]
     },
     "metadata": {},
     "output_type": "display_data"
    }
   ],
   "source": [
    "gps_stream.plot_gps_cords(zoom=8)"
   ]
  },
  {
   "cell_type": "markdown",
   "metadata": {},
   "source": [
    "### Centroids Stream Plot\n",
    "This plot shows only the centroid locations from the clustering algorithm."
   ]
  },
  {
   "cell_type": "code",
   "execution_count": 8,
   "metadata": {},
   "outputs": [
    {
     "data": {
      "application/vnd.jupyter.widget-view+json": {
       "model_id": "f461eb4ecb024741a2727fdb8034fb54",
       "version_major": 2,
       "version_minor": 0
      },
      "text/plain": [
       "Map(basemap={'url': 'https://{s}.tile.openstreetmap.org/{z}/{x}/{y}.png', 'max_zoom': 19, 'attribution': 'Map …"
      ]
     },
     "metadata": {},
     "output_type": "display_data"
    }
   ],
   "source": [
    "centroids.plot_gps_cords(zoom=12)"
   ]
  },
  {
   "cell_type": "code",
   "execution_count": null,
   "metadata": {},
   "outputs": [],
   "source": []
  }
 ],
 "metadata": {
  "kernelspec": {
   "display_name": "Python 3",
   "language": "python",
   "name": "python3"
  },
  "language_info": {
   "codemirror_mode": {
    "name": "ipython",
    "version": 3
   },
   "file_extension": ".py",
   "mimetype": "text/x-python",
   "name": "python",
   "nbconvert_exporter": "python",
   "pygments_lexer": "ipython3",
   "version": "3.6.7"
  },
  "toc-autonumbering": true,
  "toc-showmarkdowntxt": true
 },
 "nbformat": 4,
 "nbformat_minor": 2
}
